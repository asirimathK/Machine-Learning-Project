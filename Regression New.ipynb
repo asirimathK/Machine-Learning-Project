{
 "cells": [
  {
   "cell_type": "code",
   "execution_count": 1,
   "id": "22bd489c",
   "metadata": {},
   "outputs": [],
   "source": [
    "import re\n",
    "import numpy as np\n",
    "import pandas as pd\n",
    "import unicodedata as ud\n",
    "\n",
    "from sklearn.model_selection import train_test_split\n",
    "from sklearn.pipeline import Pipeline\n",
    "from sklearn.compose import ColumnTransformer\n",
    "from sklearn.preprocessing import FunctionTransformer, StandardScaler\n",
    "from sklearn.impute import SimpleImputer\n",
    "from sklearn.feature_extraction.text import TfidfVectorizer\n",
    "from sklearn.linear_model import RidgeCV\n",
    "from sklearn.metrics import r2_score, mean_absolute_error, mean_squared_error"
   ]
  },
  {
   "cell_type": "code",
   "execution_count": 2,
   "id": "5c1f79df",
   "metadata": {},
   "outputs": [
    {
     "name": "stdout",
     "output_type": "stream",
     "text": [
      "Columns found: ['Company Names', 'Cars Names', 'Engines', 'Capacity', 'HorsePower', 'Total Speed', 'Performance', 'Cars Prices', 'Fuel Types', 'Seats', 'Torque']\n"
     ]
    }
   ],
   "source": [
    "# ========= 1) LOAD =========\n",
    "file_path = \"NewCopy15cleanCarsCopy1df_filtered.csv\"\n",
    "df = pd.read_csv(file_path, encoding=\"utf-8-sig\")  # BOM-safe\n",
    "\n",
    "# (Optional) normalize weird whitespace in column names\n",
    "def _clean_col(s: str) -> str:\n",
    "    s = ud.normalize(\"NFKC\", str(s))\n",
    "    s = s.replace(\"\\ufeff\", \"\").replace(\"\\u200b\", \"\").replace(\"\\u200c\", \"\").replace(\"\\u200d\", \"\")\n",
    "    return \" \".join(s.strip().split())\n",
    "df.columns = [_clean_col(c) for c in df.columns]\n",
    "\n",
    "print(\"Columns found:\", list(df.columns))"
   ]
  },
  {
   "cell_type": "code",
   "execution_count": 3,
   "id": "30449af2",
   "metadata": {},
   "outputs": [],
   "source": [
    "# ========= 2) LOAD & NUMERIC TYPE PARSING =========\n",
    "\n",
    "df = pd.read_csv(file_path, encoding=\"utf-8-sig\", thousands=\",\")\n",
    "# enforce numeric (will raise if any stray text slipped through)\n",
    "df[\"Cars Prices\"] = pd.to_numeric(df[\"Cars Prices\"], errors=\"raise\")\n",
    "df[\"Capacity\"]    = pd.to_numeric(df[\"Capacity\"], errors=\"raise\")\n",
    "df[\"Seats\"]       = pd.to_numeric(df[\"Seats\"], errors=\"raise\")"
   ]
  },
  {
   "cell_type": "code",
   "execution_count": 4,
   "id": "557bb3cf",
   "metadata": {},
   "outputs": [],
   "source": [
    "# Drop rows with missing target\n",
    "df = df.dropna(subset=[\"Cars Prices\"]).reset_index(drop=True)"
   ]
  },
  {
   "cell_type": "code",
   "execution_count": 5,
   "id": "2c28ba6a",
   "metadata": {},
   "outputs": [],
   "source": [
    "# ========= 3) FEATURES =========\n",
    "text_cols = [\"Company Names\", \"Fuel Types\"]\n",
    "num_cols  = [\"Capacity\", \"Seats\"]\n",
    "target    = \"Cars Prices\""
   ]
  },
  {
   "cell_type": "code",
   "execution_count": 6,
   "id": "8317eb8d",
   "metadata": {},
   "outputs": [],
   "source": [
    "# Sanity check\n",
    "missing = set(text_cols + num_cols + [target]) - set(df.columns)\n",
    "if missing:\n",
    "    raise KeyError(f\"Missing columns: {missing}\")"
   ]
  },
  {
   "cell_type": "code",
   "execution_count": 7,
   "id": "5f2f8bb9",
   "metadata": {},
   "outputs": [],
   "source": [
    "# ========= 4) PIPELINE: TF-IDF (text) + NUMERIC =========\n",
    "def combine_text(X):\n",
    "    \"\"\"Combine the selected text columns into a single string per row.\"\"\"\n",
    "    if isinstance(X, pd.DataFrame):\n",
    "        return (X.astype(str).agg(\" \".join, axis=1)).to_numpy()\n",
    "    return (pd.DataFrame(X).astype(str).agg(\" \".join, axis=1)).to_numpy()\n",
    "\n",
    "text_pipe = Pipeline(steps=[\n",
    "    (\"combine\", FunctionTransformer(combine_text, validate=False)),\n",
    "    # Keep tokens like '1.5T', 'i-VTEC', 'G-Limited'\n",
    "    (\"tfidf\", TfidfVectorizer(\n",
    "        lowercase=True,\n",
    "        ngram_range=(1, 2),\n",
    "        min_df=3,\n",
    "        max_features=30000,\n",
    "        token_pattern=r\"(?u)\\b[\\w\\.-]+\\b\"\n",
    "    ))\n",
    "])"
   ]
  },
  {
   "cell_type": "code",
   "execution_count": 8,
   "id": "7dba9d2c",
   "metadata": {},
   "outputs": [],
   "source": [
    "num_pipe = Pipeline(steps=[\n",
    "    (\"imp\", SimpleImputer(strategy=\"median\")),\n",
    "    (\"scaler\", StandardScaler(with_mean=False))  # plays nicely with sparse TF-IDF\n",
    "])"
   ]
  },
  {
   "cell_type": "code",
   "execution_count": 9,
   "id": "3d6e2ae5",
   "metadata": {},
   "outputs": [],
   "source": [
    "pre = ColumnTransformer([\n",
    "    (\"text\", text_pipe, text_cols),\n",
    "    (\"num\",  num_pipe,  num_cols),\n",
    "])"
   ]
  },
  {
   "cell_type": "code",
   "execution_count": 10,
   "id": "3ecf0859",
   "metadata": {},
   "outputs": [],
   "source": [
    "# Regularized linear model on log(price)\n",
    "reg = RidgeCV(alphas=np.logspace(-3, 3, 25))\n",
    "\n",
    "model = Pipeline([\n",
    "    (\"pre\", pre),\n",
    "    (\"reg\", reg)\n",
    "])"
   ]
  },
  {
   "cell_type": "code",
   "execution_count": 11,
   "id": "01722cdd",
   "metadata": {},
   "outputs": [
    {
     "data": {
      "text/html": [
       "<style>#sk-container-id-1 {color: black;background-color: white;}#sk-container-id-1 pre{padding: 0;}#sk-container-id-1 div.sk-toggleable {background-color: white;}#sk-container-id-1 label.sk-toggleable__label {cursor: pointer;display: block;width: 100%;margin-bottom: 0;padding: 0.3em;box-sizing: border-box;text-align: center;}#sk-container-id-1 label.sk-toggleable__label-arrow:before {content: \"▸\";float: left;margin-right: 0.25em;color: #696969;}#sk-container-id-1 label.sk-toggleable__label-arrow:hover:before {color: black;}#sk-container-id-1 div.sk-estimator:hover label.sk-toggleable__label-arrow:before {color: black;}#sk-container-id-1 div.sk-toggleable__content {max-height: 0;max-width: 0;overflow: hidden;text-align: left;background-color: #f0f8ff;}#sk-container-id-1 div.sk-toggleable__content pre {margin: 0.2em;color: black;border-radius: 0.25em;background-color: #f0f8ff;}#sk-container-id-1 input.sk-toggleable__control:checked~div.sk-toggleable__content {max-height: 200px;max-width: 100%;overflow: auto;}#sk-container-id-1 input.sk-toggleable__control:checked~label.sk-toggleable__label-arrow:before {content: \"▾\";}#sk-container-id-1 div.sk-estimator input.sk-toggleable__control:checked~label.sk-toggleable__label {background-color: #d4ebff;}#sk-container-id-1 div.sk-label input.sk-toggleable__control:checked~label.sk-toggleable__label {background-color: #d4ebff;}#sk-container-id-1 input.sk-hidden--visually {border: 0;clip: rect(1px 1px 1px 1px);clip: rect(1px, 1px, 1px, 1px);height: 1px;margin: -1px;overflow: hidden;padding: 0;position: absolute;width: 1px;}#sk-container-id-1 div.sk-estimator {font-family: monospace;background-color: #f0f8ff;border: 1px dotted black;border-radius: 0.25em;box-sizing: border-box;margin-bottom: 0.5em;}#sk-container-id-1 div.sk-estimator:hover {background-color: #d4ebff;}#sk-container-id-1 div.sk-parallel-item::after {content: \"\";width: 100%;border-bottom: 1px solid gray;flex-grow: 1;}#sk-container-id-1 div.sk-label:hover label.sk-toggleable__label {background-color: #d4ebff;}#sk-container-id-1 div.sk-serial::before {content: \"\";position: absolute;border-left: 1px solid gray;box-sizing: border-box;top: 0;bottom: 0;left: 50%;z-index: 0;}#sk-container-id-1 div.sk-serial {display: flex;flex-direction: column;align-items: center;background-color: white;padding-right: 0.2em;padding-left: 0.2em;position: relative;}#sk-container-id-1 div.sk-item {position: relative;z-index: 1;}#sk-container-id-1 div.sk-parallel {display: flex;align-items: stretch;justify-content: center;background-color: white;position: relative;}#sk-container-id-1 div.sk-item::before, #sk-container-id-1 div.sk-parallel-item::before {content: \"\";position: absolute;border-left: 1px solid gray;box-sizing: border-box;top: 0;bottom: 0;left: 50%;z-index: -1;}#sk-container-id-1 div.sk-parallel-item {display: flex;flex-direction: column;z-index: 1;position: relative;background-color: white;}#sk-container-id-1 div.sk-parallel-item:first-child::after {align-self: flex-end;width: 50%;}#sk-container-id-1 div.sk-parallel-item:last-child::after {align-self: flex-start;width: 50%;}#sk-container-id-1 div.sk-parallel-item:only-child::after {width: 0;}#sk-container-id-1 div.sk-dashed-wrapped {border: 1px dashed gray;margin: 0 0.4em 0.5em 0.4em;box-sizing: border-box;padding-bottom: 0.4em;background-color: white;}#sk-container-id-1 div.sk-label label {font-family: monospace;font-weight: bold;display: inline-block;line-height: 1.2em;}#sk-container-id-1 div.sk-label-container {text-align: center;}#sk-container-id-1 div.sk-container {/* jupyter's `normalize.less` sets `[hidden] { display: none; }` but bootstrap.min.css set `[hidden] { display: none !important; }` so we also need the `!important` here to be able to override the default hidden behavior on the sphinx rendered scikit-learn.org. See: https://github.com/scikit-learn/scikit-learn/issues/21755 */display: inline-block !important;position: relative;}#sk-container-id-1 div.sk-text-repr-fallback {display: none;}</style><div id=\"sk-container-id-1\" class=\"sk-top-container\"><div class=\"sk-text-repr-fallback\"><pre>Pipeline(steps=[(&#x27;pre&#x27;,\n",
       "                 ColumnTransformer(transformers=[(&#x27;text&#x27;,\n",
       "                                                  Pipeline(steps=[(&#x27;combine&#x27;,\n",
       "                                                                   FunctionTransformer(func=&lt;function combine_text at 0x7f97405a8790&gt;)),\n",
       "                                                                  (&#x27;tfidf&#x27;,\n",
       "                                                                   TfidfVectorizer(max_features=30000,\n",
       "                                                                                   min_df=3,\n",
       "                                                                                   ngram_range=(1,\n",
       "                                                                                                2),\n",
       "                                                                                   token_pattern=&#x27;(?u)\\\\b[\\\\w\\\\.-]+\\\\b&#x27;))]),\n",
       "                                                  [&#x27;Company Names&#x27;,\n",
       "                                                   &#x27;Fuel Types&#x27;]),\n",
       "                                                 (&#x27;num&#x27;,\n",
       "                                                  Pipeline(steps=[(&#x27;imp&#x27;,\n",
       "                                                                   SimpleImputer(strategy...\n",
       "                 RidgeCV(alphas=array([1.00000000e-03, 1.77827941e-03, 3.16227766e-03, 5.62341325e-03,\n",
       "       1.00000000e-02, 1.77827941e-02, 3.16227766e-02, 5.62341325e-02,\n",
       "       1.00000000e-01, 1.77827941e-01, 3.16227766e-01, 5.62341325e-01,\n",
       "       1.00000000e+00, 1.77827941e+00, 3.16227766e+00, 5.62341325e+00,\n",
       "       1.00000000e+01, 1.77827941e+01, 3.16227766e+01, 5.62341325e+01,\n",
       "       1.00000000e+02, 1.77827941e+02, 3.16227766e+02, 5.62341325e+02,\n",
       "       1.00000000e+03])))])</pre><b>In a Jupyter environment, please rerun this cell to show the HTML representation or trust the notebook. <br />On GitHub, the HTML representation is unable to render, please try loading this page with nbviewer.org.</b></div><div class=\"sk-container\" hidden><div class=\"sk-item sk-dashed-wrapped\"><div class=\"sk-label-container\"><div class=\"sk-label sk-toggleable\"><input class=\"sk-toggleable__control sk-hidden--visually\" id=\"sk-estimator-id-1\" type=\"checkbox\" ><label for=\"sk-estimator-id-1\" class=\"sk-toggleable__label sk-toggleable__label-arrow\">Pipeline</label><div class=\"sk-toggleable__content\"><pre>Pipeline(steps=[(&#x27;pre&#x27;,\n",
       "                 ColumnTransformer(transformers=[(&#x27;text&#x27;,\n",
       "                                                  Pipeline(steps=[(&#x27;combine&#x27;,\n",
       "                                                                   FunctionTransformer(func=&lt;function combine_text at 0x7f97405a8790&gt;)),\n",
       "                                                                  (&#x27;tfidf&#x27;,\n",
       "                                                                   TfidfVectorizer(max_features=30000,\n",
       "                                                                                   min_df=3,\n",
       "                                                                                   ngram_range=(1,\n",
       "                                                                                                2),\n",
       "                                                                                   token_pattern=&#x27;(?u)\\\\b[\\\\w\\\\.-]+\\\\b&#x27;))]),\n",
       "                                                  [&#x27;Company Names&#x27;,\n",
       "                                                   &#x27;Fuel Types&#x27;]),\n",
       "                                                 (&#x27;num&#x27;,\n",
       "                                                  Pipeline(steps=[(&#x27;imp&#x27;,\n",
       "                                                                   SimpleImputer(strategy...\n",
       "                 RidgeCV(alphas=array([1.00000000e-03, 1.77827941e-03, 3.16227766e-03, 5.62341325e-03,\n",
       "       1.00000000e-02, 1.77827941e-02, 3.16227766e-02, 5.62341325e-02,\n",
       "       1.00000000e-01, 1.77827941e-01, 3.16227766e-01, 5.62341325e-01,\n",
       "       1.00000000e+00, 1.77827941e+00, 3.16227766e+00, 5.62341325e+00,\n",
       "       1.00000000e+01, 1.77827941e+01, 3.16227766e+01, 5.62341325e+01,\n",
       "       1.00000000e+02, 1.77827941e+02, 3.16227766e+02, 5.62341325e+02,\n",
       "       1.00000000e+03])))])</pre></div></div></div><div class=\"sk-serial\"><div class=\"sk-item sk-dashed-wrapped\"><div class=\"sk-label-container\"><div class=\"sk-label sk-toggleable\"><input class=\"sk-toggleable__control sk-hidden--visually\" id=\"sk-estimator-id-2\" type=\"checkbox\" ><label for=\"sk-estimator-id-2\" class=\"sk-toggleable__label sk-toggleable__label-arrow\">pre: ColumnTransformer</label><div class=\"sk-toggleable__content\"><pre>ColumnTransformer(transformers=[(&#x27;text&#x27;,\n",
       "                                 Pipeline(steps=[(&#x27;combine&#x27;,\n",
       "                                                  FunctionTransformer(func=&lt;function combine_text at 0x7f97405a8790&gt;)),\n",
       "                                                 (&#x27;tfidf&#x27;,\n",
       "                                                  TfidfVectorizer(max_features=30000,\n",
       "                                                                  min_df=3,\n",
       "                                                                  ngram_range=(1,\n",
       "                                                                               2),\n",
       "                                                                  token_pattern=&#x27;(?u)\\\\b[\\\\w\\\\.-]+\\\\b&#x27;))]),\n",
       "                                 [&#x27;Company Names&#x27;, &#x27;Fuel Types&#x27;]),\n",
       "                                (&#x27;num&#x27;,\n",
       "                                 Pipeline(steps=[(&#x27;imp&#x27;,\n",
       "                                                  SimpleImputer(strategy=&#x27;median&#x27;)),\n",
       "                                                 (&#x27;scaler&#x27;,\n",
       "                                                  StandardScaler(with_mean=False))]),\n",
       "                                 [&#x27;Capacity&#x27;, &#x27;Seats&#x27;])])</pre></div></div></div><div class=\"sk-parallel\"><div class=\"sk-parallel-item\"><div class=\"sk-item\"><div class=\"sk-label-container\"><div class=\"sk-label sk-toggleable\"><input class=\"sk-toggleable__control sk-hidden--visually\" id=\"sk-estimator-id-3\" type=\"checkbox\" ><label for=\"sk-estimator-id-3\" class=\"sk-toggleable__label sk-toggleable__label-arrow\">text</label><div class=\"sk-toggleable__content\"><pre>[&#x27;Company Names&#x27;, &#x27;Fuel Types&#x27;]</pre></div></div></div><div class=\"sk-serial\"><div class=\"sk-item\"><div class=\"sk-serial\"><div class=\"sk-item\"><div class=\"sk-estimator sk-toggleable\"><input class=\"sk-toggleable__control sk-hidden--visually\" id=\"sk-estimator-id-4\" type=\"checkbox\" ><label for=\"sk-estimator-id-4\" class=\"sk-toggleable__label sk-toggleable__label-arrow\">FunctionTransformer</label><div class=\"sk-toggleable__content\"><pre>FunctionTransformer(func=&lt;function combine_text at 0x7f97405a8790&gt;)</pre></div></div></div><div class=\"sk-item\"><div class=\"sk-estimator sk-toggleable\"><input class=\"sk-toggleable__control sk-hidden--visually\" id=\"sk-estimator-id-5\" type=\"checkbox\" ><label for=\"sk-estimator-id-5\" class=\"sk-toggleable__label sk-toggleable__label-arrow\">TfidfVectorizer</label><div class=\"sk-toggleable__content\"><pre>TfidfVectorizer(max_features=30000, min_df=3, ngram_range=(1, 2),\n",
       "                token_pattern=&#x27;(?u)\\\\b[\\\\w\\\\.-]+\\\\b&#x27;)</pre></div></div></div></div></div></div></div></div><div class=\"sk-parallel-item\"><div class=\"sk-item\"><div class=\"sk-label-container\"><div class=\"sk-label sk-toggleable\"><input class=\"sk-toggleable__control sk-hidden--visually\" id=\"sk-estimator-id-6\" type=\"checkbox\" ><label for=\"sk-estimator-id-6\" class=\"sk-toggleable__label sk-toggleable__label-arrow\">num</label><div class=\"sk-toggleable__content\"><pre>[&#x27;Capacity&#x27;, &#x27;Seats&#x27;]</pre></div></div></div><div class=\"sk-serial\"><div class=\"sk-item\"><div class=\"sk-serial\"><div class=\"sk-item\"><div class=\"sk-estimator sk-toggleable\"><input class=\"sk-toggleable__control sk-hidden--visually\" id=\"sk-estimator-id-7\" type=\"checkbox\" ><label for=\"sk-estimator-id-7\" class=\"sk-toggleable__label sk-toggleable__label-arrow\">SimpleImputer</label><div class=\"sk-toggleable__content\"><pre>SimpleImputer(strategy=&#x27;median&#x27;)</pre></div></div></div><div class=\"sk-item\"><div class=\"sk-estimator sk-toggleable\"><input class=\"sk-toggleable__control sk-hidden--visually\" id=\"sk-estimator-id-8\" type=\"checkbox\" ><label for=\"sk-estimator-id-8\" class=\"sk-toggleable__label sk-toggleable__label-arrow\">StandardScaler</label><div class=\"sk-toggleable__content\"><pre>StandardScaler(with_mean=False)</pre></div></div></div></div></div></div></div></div></div></div><div class=\"sk-item\"><div class=\"sk-estimator sk-toggleable\"><input class=\"sk-toggleable__control sk-hidden--visually\" id=\"sk-estimator-id-9\" type=\"checkbox\" ><label for=\"sk-estimator-id-9\" class=\"sk-toggleable__label sk-toggleable__label-arrow\">RidgeCV</label><div class=\"sk-toggleable__content\"><pre>RidgeCV(alphas=array([1.00000000e-03, 1.77827941e-03, 3.16227766e-03, 5.62341325e-03,\n",
       "       1.00000000e-02, 1.77827941e-02, 3.16227766e-02, 5.62341325e-02,\n",
       "       1.00000000e-01, 1.77827941e-01, 3.16227766e-01, 5.62341325e-01,\n",
       "       1.00000000e+00, 1.77827941e+00, 3.16227766e+00, 5.62341325e+00,\n",
       "       1.00000000e+01, 1.77827941e+01, 3.16227766e+01, 5.62341325e+01,\n",
       "       1.00000000e+02, 1.77827941e+02, 3.16227766e+02, 5.62341325e+02,\n",
       "       1.00000000e+03]))</pre></div></div></div></div></div></div></div>"
      ],
      "text/plain": [
       "Pipeline(steps=[('pre',\n",
       "                 ColumnTransformer(transformers=[('text',\n",
       "                                                  Pipeline(steps=[('combine',\n",
       "                                                                   FunctionTransformer(func=<function combine_text at 0x7f97405a8790>)),\n",
       "                                                                  ('tfidf',\n",
       "                                                                   TfidfVectorizer(max_features=30000,\n",
       "                                                                                   min_df=3,\n",
       "                                                                                   ngram_range=(1,\n",
       "                                                                                                2),\n",
       "                                                                                   token_pattern='(?u)\\\\b[\\\\w\\\\.-]+\\\\b'))]),\n",
       "                                                  ['Company Names',\n",
       "                                                   'Fuel Types']),\n",
       "                                                 ('num',\n",
       "                                                  Pipeline(steps=[('imp',\n",
       "                                                                   SimpleImputer(strategy...\n",
       "                 RidgeCV(alphas=array([1.00000000e-03, 1.77827941e-03, 3.16227766e-03, 5.62341325e-03,\n",
       "       1.00000000e-02, 1.77827941e-02, 3.16227766e-02, 5.62341325e-02,\n",
       "       1.00000000e-01, 1.77827941e-01, 3.16227766e-01, 5.62341325e-01,\n",
       "       1.00000000e+00, 1.77827941e+00, 3.16227766e+00, 5.62341325e+00,\n",
       "       1.00000000e+01, 1.77827941e+01, 3.16227766e+01, 5.62341325e+01,\n",
       "       1.00000000e+02, 1.77827941e+02, 3.16227766e+02, 5.62341325e+02,\n",
       "       1.00000000e+03])))])"
      ]
     },
     "execution_count": 11,
     "metadata": {},
     "output_type": "execute_result"
    }
   ],
   "source": [
    "# ========= 5) TRAIN/TEST & FIT =========\n",
    "X = df[text_cols + num_cols]\n",
    "y = np.log1p(df[target])  # log target for stability\n",
    "\n",
    "X_train, X_test, y_train, y_test = train_test_split(\n",
    "    X, y, test_size=0.20, random_state=42\n",
    ")\n",
    "\n",
    "model.fit(X_train, y_train)\n"
   ]
  },
  {
   "cell_type": "code",
   "execution_count": 12,
   "id": "d8db8f18",
   "metadata": {},
   "outputs": [
    {
     "name": "stdout",
     "output_type": "stream",
     "text": [
      "\n",
      "=== Test Performance ===\n",
      "R²:   0.7628\n",
      "MAE:  59,638\n",
      "RMSE: 345,157\n"
     ]
    }
   ],
   "source": [
    "# ========= 6) EVALUATION (back on original price scale) =========\n",
    "y_pred_log = model.predict(X_test)\n",
    "y_pred = np.expm1(y_pred_log)\n",
    "\n",
    "r2   = r2_score(np.expm1(y_test), y_pred)\n",
    "mae  = mean_absolute_error(np.expm1(y_test), y_pred)\n",
    "rmse = mean_squared_error(np.expm1(y_test), y_pred, squared=False)\n",
    "\n",
    "print(\"\\n=== Test Performance ===\")\n",
    "print(f\"R²:   {r2:.4f}\")\n",
    "print(f\"MAE:  {mae:,.0f}\")\n",
    "print(f\"RMSE: {rmse:,.0f}\")\n"
   ]
  },
  {
   "cell_type": "code",
   "execution_count": 13,
   "id": "d86341d6",
   "metadata": {},
   "outputs": [
    {
     "name": "stdout",
     "output_type": "stream",
     "text": [
      "\n",
      "Top +/− features (log-price coefficients):\n",
      "       feature      coef\n",
      "bugatti petrol  1.852799\n",
      "       bugatti  1.852799\n",
      "   lamborghini  1.721029\n",
      "       ferrari  1.692281\n",
      "  volvo diesel -1.571698\n",
      "         volvo -1.571698\n",
      "        martin  1.075026\n",
      "  aston martin  1.075026\n",
      "         aston  1.075026\n",
      " toyota hybrid -0.996673\n",
      " martin petrol -0.961646\n",
      " motors petrol -0.893200\n",
      "           gmc -0.825920\n",
      "        hybrid  0.807290\n",
      "hyundai hybrid -0.656794\n",
      "       porsche  0.634703\n",
      "          ford -0.573285\n",
      "       hyundai -0.569157\n",
      "      Capacity  0.563981\n",
      "        motors -0.545541\n",
      "\n",
      "Baseline price (exp(intercept)): ~31,031\n"
     ]
    }
   ],
   "source": [
    "# ========= 7) FEATURE INSPECTION (robust to older sklearn) =========\n",
    "import numpy as np\n",
    "\n",
    "ct = model.named_steps[\"pre\"]           # ColumnTransformer\n",
    "reg = model.named_steps[\"reg\"]          # RidgeCV\n",
    "\n",
    "# Get text feature names from the inner TF-IDF vectorizer\n",
    "text_vect = ct.named_transformers_[\"text\"].named_steps[\"tfidf\"]\n",
    "text_features = text_vect.get_feature_names_out()\n",
    "\n",
    "# Numeric feature names are the original numeric columns\n",
    "num_features = np.array(num_cols, dtype=object)\n",
    "\n",
    "# Final feature name order in ColumnTransformer is [text, then num]\n",
    "feature_names = np.concatenate([text_features, num_features], axis=0)\n",
    "\n",
    "coefs = reg.coef_\n",
    "assert len(coefs) == len(feature_names), (\n",
    "    f\"Length mismatch: {len(coefs)} coefs vs {len(feature_names)} features\"\n",
    ")\n",
    "\n",
    "coef_df = (\n",
    "    pd.DataFrame({\"feature\": feature_names, \"coef\": coefs})\n",
    "      .assign(abs_coef=lambda d: d[\"coef\"].abs())\n",
    "      .sort_values(\"abs_coef\", ascending=False)\n",
    ")\n",
    "\n",
    "print(\"\\nTop +/− features (log-price coefficients):\")\n",
    "print(coef_df.head(20)[[\"feature\", \"coef\"]].to_string(index=False))\n",
    "\n",
    "base_price = float(np.exp(reg.intercept_))\n",
    "print(f\"\\nBaseline price (exp(intercept)): ~{base_price:,.0f}\")"
   ]
  },
  {
   "cell_type": "code",
   "execution_count": 14,
   "id": "d68235b0",
   "metadata": {},
   "outputs": [
    {
     "data": {
      "image/png": "[encoded data removed]",
      "text/plain": [
       "<Figure size 576x576 with 1 Axes>"
      ]
     },
     "metadata": {
      "needs_background": "light"
     },
     "output_type": "display_data"
    }
   ],
   "source": [
    "# ========= 8) PLOT: Actual vs Predicted (Test set) =========\n",
    "import matplotlib.pyplot as plt\n",
    "from matplotlib.ticker import FuncFormatter\n",
    "from sklearn.metrics import r2_score, mean_absolute_error, mean_squared_error\n",
    "import numpy as np\n",
    "\n",
    "# Predict on test in original price scale\n",
    "y_true = np.expm1(y_test)\n",
    "y_pred = np.expm1(model.predict(X_test))\n",
    "\n",
    "# Metrics for annotation (on original scale)\n",
    "r2   = r2_score(y_true, y_pred)\n",
    "mae  = mean_absolute_error(y_true, y_pred)\n",
    "rmse = mean_squared_error(y_true, y_pred, squared=False)\n",
    "\n",
    "# Plot limits\n",
    "mn = float(np.nanmin([y_true.min(), y_pred.min()]))\n",
    "mx = float(np.nanmax([y_true.max(), y_pred.max()]))\n",
    "\n",
    "fig, ax = plt.subplots(figsize=(8, 8))\n",
    "ax.scatter(y_true, y_pred, alpha=0.35, s=25, edgecolor=\"none\")\n",
    "ax.plot([mn, mx], [mn, mx], linestyle=\"--\", linewidth=2, label=\"Ideal: y = x\")\n",
    "\n",
    "# Optional: simple linear fit to highlight bias\n",
    "m, b = np.polyfit(y_true, y_pred, 1)\n",
    "ax.plot([mn, mx], [m*mn + b, m*mx + b], linewidth=1, label=f\"Fit: y = {m:.2f}x + {b:.0f}\")\n",
    "\n",
    "ax.set_xlim(mn, mx)\n",
    "ax.set_ylim(mn, mx)\n",
    "ax.set_xlabel(\"Actual price\")\n",
    "ax.set_ylabel(\"Predicted price\")\n",
    "ax.set_title(\"Actual vs Predicted — Test set\")\n",
    "\n",
    "# Pretty number formatting (e.g., 123,456)\n",
    "fmt = FuncFormatter(lambda x, _ : f\"{x:,.0f}\")\n",
    "ax.xaxis.set_major_formatter(fmt)\n",
    "ax.yaxis.set_major_formatter(fmt)\n",
    "\n",
    "ax.grid(True, alpha=0.3)\n",
    "ax.legend()\n",
    "\n",
    "# Metrics box\n",
    "ax.text(\n",
    "    0.02, 0.98,\n",
    "    f\"R² = {r2:.3f}\\nMAE = {mae:,.0f}\\nRMSE = {rmse:,.0f}\",\n",
    "    transform=ax.transAxes, va=\"top\", ha=\"left\",\n",
    "    bbox=dict(boxstyle=\"round\", facecolor=\"white\", alpha=0.85, edgecolor=\"none\")\n",
    ")\n",
    "\n",
    "plt.tight_layout()\n",
    "# To save the figure instead of just showing it, uncomment the next line:\n",
    "# plt.savefig(\"actual_vs_predicted_test.png\", dpi=200)\n",
    "plt.show()\n"
   ]
  }
 ],
 "metadata": {
  "kernelspec": {
   "display_name": "base",
   "language": "python",
   "name": "python3"
  },
  "language_info": {
   "codemirror_mode": {
    "name": "ipython",
    "version": 3
   },
   "file_extension": ".py",
   "mimetype": "text/x-python",
   "name": "python",
   "nbconvert_exporter": "python",
   "pygments_lexer": "ipython3",
   "version": "3.9.12"
  }
 },
 "nbformat": 4,
 "nbformat_minor": 5
}
