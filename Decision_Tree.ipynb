{
 "cells": [
  {
   "cell_type": "code",
   "execution_count": 2,
   "id": "75a08d22",
   "metadata": {},
   "outputs": [],
   "source": [
    "import pandas as pd\n",
    "import numpy as np\n",
    "from sklearn.model_selection import train_test_split\n",
    "from sklearn.preprocessing import LabelEncoder\n",
    "from sklearn.tree import DecisionTreeRegressor\n",
    "from sklearn.ensemble import RandomForestRegressor, GradientBoostingRegressor\n",
    "from sklearn.metrics import mean_absolute_error, mean_squared_error, r2_score"
   ]
  },
  {
   "cell_type": "code",
   "execution_count": 3,
   "id": "c2975694",
   "metadata": {},
   "outputs": [],
   "source": [
    "# Load dataset\n",
    "df = pd.read_csv('NewCopy15cleanCarsCopy1df_filtered.csv',encoding=\"ISO-8859-1\")"
   ]
  },
  {
   "cell_type": "code",
   "execution_count": 4,
   "id": "115e8093",
   "metadata": {},
   "outputs": [
    {
     "data": {
      "text/html": [
       "<div>\n",
       "<style scoped>\n",
       "    .dataframe tbody tr th:only-of-type {\n",
       "        vertical-align: middle;\n",
       "    }\n",
       "\n",
       "    .dataframe tbody tr th {\n",
       "        vertical-align: top;\n",
       "    }\n",
       "\n",
       "    .dataframe thead th {\n",
       "        text-align: right;\n",
       "    }\n",
       "</style>\n",
       "<table border=\"1\" class=\"dataframe\">\n",
       "  <thead>\n",
       "    <tr style=\"text-align: right;\">\n",
       "      <th></th>\n",
       "      <th>Company Names</th>\n",
       "      <th>Cars Names</th>\n",
       "      <th>Engines</th>\n",
       "      <th>Capacity</th>\n",
       "      <th>HorsePower</th>\n",
       "      <th>Total Speed</th>\n",
       "      <th>Performance</th>\n",
       "      <th>Cars Prices</th>\n",
       "      <th>Fuel Types</th>\n",
       "      <th>Seats</th>\n",
       "      <th>Torque</th>\n",
       "    </tr>\n",
       "  </thead>\n",
       "  <tbody>\n",
       "    <tr>\n",
       "      <th>0</th>\n",
       "      <td>FERRARI</td>\n",
       "      <td>SF90 STRADALE</td>\n",
       "      <td>V8</td>\n",
       "      <td>3990</td>\n",
       "      <td>963.0</td>\n",
       "      <td>340</td>\n",
       "      <td>2.5</td>\n",
       "      <td>1100000.0</td>\n",
       "      <td>Hybrid</td>\n",
       "      <td>2</td>\n",
       "      <td>800.0</td>\n",
       "    </tr>\n",
       "    <tr>\n",
       "      <th>1</th>\n",
       "      <td>ROLLS ROYCE</td>\n",
       "      <td>PHANTOM</td>\n",
       "      <td>V12</td>\n",
       "      <td>6749</td>\n",
       "      <td>563.0</td>\n",
       "      <td>250</td>\n",
       "      <td>5.3</td>\n",
       "      <td>460000.0</td>\n",
       "      <td>Petrol</td>\n",
       "      <td>5</td>\n",
       "      <td>900.0</td>\n",
       "    </tr>\n",
       "    <tr>\n",
       "      <th>2</th>\n",
       "      <td>Ford</td>\n",
       "      <td>KA+</td>\n",
       "      <td>1.2L Petrol</td>\n",
       "      <td>1200</td>\n",
       "      <td>77.5</td>\n",
       "      <td>165</td>\n",
       "      <td>10.5</td>\n",
       "      <td>13500.0</td>\n",
       "      <td>Petrol</td>\n",
       "      <td>5</td>\n",
       "      <td>120.0</td>\n",
       "    </tr>\n",
       "    <tr>\n",
       "      <th>3</th>\n",
       "      <td>MERCEDES</td>\n",
       "      <td>GT 63 S</td>\n",
       "      <td>V8</td>\n",
       "      <td>3982</td>\n",
       "      <td>630.0</td>\n",
       "      <td>250</td>\n",
       "      <td>3.2</td>\n",
       "      <td>161000.0</td>\n",
       "      <td>Petrol</td>\n",
       "      <td>4</td>\n",
       "      <td>900.0</td>\n",
       "    </tr>\n",
       "    <tr>\n",
       "      <th>4</th>\n",
       "      <td>AUDI</td>\n",
       "      <td>AUDI R8 Gt</td>\n",
       "      <td>V10</td>\n",
       "      <td>5204</td>\n",
       "      <td>602.0</td>\n",
       "      <td>320</td>\n",
       "      <td>3.6</td>\n",
       "      <td>253290.0</td>\n",
       "      <td>Petrol</td>\n",
       "      <td>2</td>\n",
       "      <td>560.0</td>\n",
       "    </tr>\n",
       "  </tbody>\n",
       "</table>\n",
       "</div>"
      ],
      "text/plain": [
       "  Company Names     Cars Names      Engines  Capacity  HorsePower  \\\n",
       "0       FERRARI  SF90 STRADALE           V8      3990       963.0   \n",
       "1   ROLLS ROYCE        PHANTOM          V12      6749       563.0   \n",
       "2          Ford            KA+  1.2L Petrol      1200        77.5   \n",
       "3      MERCEDES        GT 63 S           V8      3982       630.0   \n",
       "4          AUDI     AUDI R8 Gt          V10      5204       602.0   \n",
       "\n",
       "   Total Speed  Performance  Cars Prices Fuel Types  Seats  Torque  \n",
       "0          340          2.5    1100000.0     Hybrid      2   800.0  \n",
       "1          250          5.3     460000.0     Petrol      5   900.0  \n",
       "2          165         10.5      13500.0     Petrol      5   120.0  \n",
       "3          250          3.2     161000.0     Petrol      4   900.0  \n",
       "4          320          3.6     253290.0     Petrol      2   560.0  "
      ]
     },
     "execution_count": 4,
     "metadata": {},
     "output_type": "execute_result"
    }
   ],
   "source": [
    "df.head()"
   ]
  },
  {
   "cell_type": "code",
   "execution_count": 5,
   "id": "48724986",
   "metadata": {},
   "outputs": [
    {
     "data": {
      "text/plain": [
       "(1007, 11)"
      ]
     },
     "execution_count": 5,
     "metadata": {},
     "output_type": "execute_result"
    }
   ],
   "source": [
    "df.shape"
   ]
  },
  {
   "cell_type": "code",
   "execution_count": 6,
   "id": "9121caca",
   "metadata": {},
   "outputs": [
    {
     "data": {
      "text/plain": [
       "Company Names    0\n",
       "Cars Names       0\n",
       "Engines          0\n",
       "Capacity         0\n",
       "HorsePower       0\n",
       "Total Speed      0\n",
       "Performance      0\n",
       "Cars Prices      0\n",
       "Fuel Types       0\n",
       "Seats            0\n",
       "Torque           0\n",
       "dtype: int64"
      ]
     },
     "execution_count": 6,
     "metadata": {},
     "output_type": "execute_result"
    }
   ],
   "source": [
    "df.isna().sum()"
   ]
  },
  {
   "cell_type": "code",
   "execution_count": 7,
   "id": "8aa3f961",
   "metadata": {},
   "outputs": [
    {
     "name": "stdout",
     "output_type": "stream",
     "text": [
      "\n",
      " Column: Company Names\n",
      "['FERRARI', 'ROLLS ROYCE', 'Ford', 'MERCEDES', 'AUDI', 'BMW', 'ASTON MARTIN', 'BENTLEY', 'LAMBORGHINI', 'TOYOTA', 'NISSAN', 'ROLLS ROYCE ', 'KIA', 'HONDA', 'KIA  ', 'HYUNDAI', 'MAHINDRA', 'MARUTI SUZUKI', 'Volkswagen', 'Nissan', 'Porsche', 'Cadillac', 'Tata Motors', 'Jeep', 'Mazda', 'Chevrolet', 'GMC', 'Kia', 'Bugatti', 'Volvo', 'Jaguar Land Rover', 'Acura', 'Peugeot', 'Mitsubishi', 'Toyota']\n",
      "Total unique categories: 35\n",
      "\n",
      " Column: Cars Names\n",
      "['SF90 STRADALE', 'PHANTOM', 'KA+', ' GT 63 S', 'AUDI R8 Gt', 'Mclaren 720s', 'VANTAGE F1', 'Continental GT Azure', 'VENENO ROADSTER', 'F8 TRIBUTO', '812 GTS', 'PORTOFINO', 'ROMA', 'MONZA SP2', 'F8 SPIDER', 'PORTOFINO M', 'ROMA SPIDER', 'GR SUPRA', 'TOYOTA 86', 'TOYOTA  GR86', 'TOYOTA LAND CRUISER', 'TOYOTA SEQUOIA', 'GT-R', '370Z', 'Z PROTO', 'ALTIMA', 'MAXIMA', 'SENTRA', 'ROGUE', 'PATHFINDER', 'FRONTIER', 'TITAN', 'VALKYRIE', 'VALHALLA', 'DBS SUPERLEGGERA', 'DB11', 'VANTAGE ', 'DBX', 'RAPIDE AMR', 'VANQUISH', 'LAGONDA TARAF', 'VICTOR', 'SIAN', 'AVENTADOR SVJ', 'HURACAN PERFORMANTE', 'HURACAN EVO', 'AVENTADOR SV', 'URUS ', 'HURACAN SPYDER', 'AVENTADOR ROADSTER', 'HURACAN  PERFORMANTE SPYDER', 'AVENTADOR S', 'HURACAN EVO SPYDER', 'URUS PERFORMANTE', 'AVENTADOR ULTIMAE', 'HURACAN EVO RWD', 'AVENTADOR SVJ ROADSTER', 'URUS S', 'HURACAN STO', 'AVENTADOR LP 780-4 ULTIMATE', 'HURACAN EVO RWD SPYDER', 'AVENTADOR SVJ XAGO', 'URUS GRAPHITE CAPSULE', 'HURACAN STO EVO', 'AVENTADOR LP 780-4 ULTIMATE ROADSTER', 'GHOST', 'WRAITH', 'DAWN', 'CULLINAN', 'PHANTOM EXTENDED', 'GHOST EXTENDED', 'WRAITH BLACK BADGE', 'DAWN BLACK BADGE', 'CULLINAN BLACK BADGE', 'PHANTOM COUPE', 'GHOST COUPE', 'WRAITH COUPE', 'DAWN CONVERTIBLE', 'CULLINAN SUV', 'BENZ S-CLASS S 580', 'BENZ E-CLASS E 63 S', 'BENZ CLA 45 AMG', 'BENZ GLE 63 S', 'BENZ S-CLASS S 500', 'BENZ E-CLASS E 450 ', 'BENZ CLS 450', 'BENZ GT 53', 'BENZ GLE 450', 'BENZ A-CLASS A 45 S', 'BENZ C-CLASS C 43', 'BENZ E-CLASS E 350', 'BENZ GLE 350 ', 'BENZ GLC 43', 'BENZ GLA 45', 'BENZ GLC 350 ', 'BENZ GLE 53', 'BENZ S-CLASS S 350', 'BENZ MAYBACH S 680', 'M5 CS', 'M4 GTS', 'M3 COMPETITION', 'M2 CS', 'X5 M COMPETITION', 'X3 M COMPETITION', 'M8 GRAN COUPE', 'M850i DRIVE COUPE', 'DAWN BLACK BADGE VOLANTE', 'CULLINAN BLACK BADGE SUV', 'PHATOM TRANQUILITY', 'GHOST ZENITH', 'WRAITH EAGLE VIII', 'PHATOM ORCHID', 'GHOST AZURE', 'WRAITH KRYPTOS', 'DAWN SILVER BULLET', 'CULLINAN FUX ORANGE', 'PHANTOM CELESTIAL', 'GHOST MYSORE', 'WRAITH LUMINARY', 'DAWN BLACK BADGE ADAMAS', 'CULLINAN RED DIAMOND', 'R8 V10 PLUS', 'RS7 SPORTBACK', 'S8', 'RS6 AVANT', 'S7 SPORTBACK', 'A8', 'S5 COUPE', 'SQ5', 'S4 SEDAN', 'S3 SEDAN', 'Q7', 'Q5', 'A7', 'A6', 'A5 COUPE', 'A4', 'Q3', 'TT COUPE', '330i', 'M340i XDRIVE', '430i COUPE', 'M4 COMPETITION', '530i', 'M550i XDRIVE', '118i', '128ti', 'M135i XDRIVE', '116D', '120D XDRIVE', '116i', '118D', '120i', '125i', '114D', '114i', '125D', '118i XDRIVE', '116D EFFICIENTDYNAMICS', '118i SPORTLINE', '118i M SPORT', '120i M SPORT', '116i EFFICIENTDYNAMICS', '116D ADVANTAGE', '120D EFFICIENTDYNAMICS', '118i SHADOW LINE', '118D SPORT LINE', '120i XDRIVE', '114D SPORT LINE', '118i URBAN LINE', 'SPORTAGE LX', 'SPORTAGE EX', 'SPORTAGE GT-LINE', 'SPORTAGE SX TURBO', 'SPORTAGE NIGHTFALL EDITION', 'CIVIC TYPE R', 'SPORTAGE 2024(BASE MODEL)', 'SPORTAGE 2024(TOP TRIM)', 'SPORTAGE 2024(BASE AWD)', 'SPORTAGE X-LINE', 'SPORTAGE 2024(S TRIM)', 'ACCORD', 'SPORTAGE 2024(X-PRO)', 'SPORTAGE 2024(X-PRO PRESTIGE)', 'SPORTAGE 2024(SX TURBO AWD)', 'SPORTAGE 2024(BASE FWD)', 'CR-V', 'PILOT', 'CIVIC HATCHBACK', 'CAMRY', 'COROLLA', 'PRIUS', 'RAV4', 'HIGHLANDER', '4RUNNER ', 'TACOMA', 'TUNDRA', 'AVALON', 'MIRAI', 'SIENNA', 'VENZA', 'HIGHLANDER HYBRID', 'TUNDRA HYBRID', 'YARIS', 'C-HR', 'CROWN', 'MR2', 'CELICA', 'CITY', 'CIVIC', 'I10', 'I20', 'ELANTRA', 'XUV500', 'SCORPIO', 'SWIFT', 'BREZZA', 'PRIUS PRIME', 'GR COROLLA', 'TUNDRA I-FORCE MAX', 'COROLLA HATCHBACK XSE', 'INNOVA HYCROSS', 'URBAN CRUISER TAISOR', 'AYGO X', 'HILUX REVO ROCCO', 'CENTURY SUV', 'COROLLA SEDAN HYBRID', 'GR YARIS', 'SANTA FE', 'Santa Cruz', 'Kona', 'Elantra', 'Tucson', 'Palisade', 'Sonata', 'Accent', 'Venue', 'Veloster', 'Ioniq', 'Genesis', 'Azera', 'Equus', 'Tiburon', 'Elantra GT', 'Passat', 'Tiguan', 'Jetta', 'Arteon', 'Scirocco', 'Beetle', 'Amarok', 'T-Roc', 'NV1500', 'Taigo', 'California', 'Golf GTI', 'Golf R', 'Passat Alltrack', 'Polo GTI', 'Up! GTI', 'Touareg R', 'Polo BlueMotion', 'Golf Sportsvan', 'Golf Alltrack', 'Scirocco R', 'Tiguan Allspace', 'Arteon 4MOTION', 'Crafter', 'Corrado', 'Santana', 'Karmann Ghia', 'Vento', 'Taos', 'Up! Cabriolet', 'Passat CC', 'Transporter', 'Amarok V6', 'Touareg V8', 'Beetle Dune', 'Golf Country', 'Jetta GLI', 'Arteon Shooting Brake', 'Golf R32', 'Scirocco 16V', 'Golf Variant GTD', 'Polo GTI R5', 'Jetta Hybrid', 'Golf Variant Alltrack', 'Golf TDI', 'Polo GTI Clubsport', 'Arteon R-Line', 'Golf TGI', 'Scirocco GTS', 'Caddy Maxi', 'Volkswagen Lupo 3L', 'Polo Beats', 'Passat Hybrid', 'Golf TCR', 'Tiguan R-Line', 'Sharan Business', 'Arteon 280 TSI', 'Jetta GLI 35th', 'Beetle Final Edition', 'Golf Variant TDI', 'Golf 4MOTION', 'Polo GTI Plus', 'Touareg V6', 'Amarok V8', 'Golf R Cabriolet', 'Passat Alltrack TDI', 'Versa', 'Micra', 'Patrol Platinum', 'Qashqai', 'Murano', 'Maxima Platinum', 'Armada', 'Kicks', 'X-Trail', 'Z (Fairlady Z)', 'Almera', 'Sylphy', 'Note', 'Sunny', 'Cube', 'Juke', 'Terrano', 'Magnite', 'Xterra', 'Patrol', 'GT-R NISMO', '370Z Roadster', 'Patrol Royale', 'Infiniti QX80*', 'Tiida', 'Pulsar', 'Latio', 'Bluebird Sylphy', 'March', 'Rogue Sport', 'X-Trail Hybrid', 'Pathfinder Rock Creek', 'Armada Platinum', 'Terrano XL', 'GT-R50 by Italdesign', '370Z NISMO', 'Patrol NISMO', 'Infiniti Q60*', 'Primera', 'Skyline', 'Cedric', 'Gloria', 'Stanza', 'Patrol Super Safari', 'Pathfinder Hybrid', 'X-Terra Pro-4X', 'Rogue Platinum', 'Qashqai Tekna', 'GT-R V-Spec', 'Skyline NISMO', 'Patrol Titanium', 'Infiniti FX50*', 'Avenir', 'Wingroad', 'Presea', 'Leopard', 'Sunny NISMO Edition', 'Paladin', 'Hardbody SUV', 'Patrol Desert Edition', 'Pathfinder Armada', 'Rogue Midnight Edition', 'GT-R Black Edition', 'Fairlady Z Heritage', 'Skyline GT-R R34', 'Infiniti QX55*', 'NV350 Caravan', 'Navara', 'Titan XD', 'Evalia', 'Cabstar', 'Cherry', 'Laurel', 'Silvia', 'NX Coupe', 'AD Wagon', 'Patrol Super Safari Y61', 'Pathfinder Rock Creek Edition', 'Terrano II', 'Murano CrossCabriolet', 'X-Trail Tekna', 'GT-R LM NISMO', 'Skyline 400R', 'Infiniti G37*', 'Patrol Black Edition', 'Datsun 510 (Classic)', '200SX', '300ZX', 'R390 GT1 Road Car', 'Figaro', 'Hardbody Truck', 'Atlas', 'Clipper', 'NV200', 'Violet', 'Bluebird Z', 'Stanza Wagon', '180SX', 'Sunny California', 'Patrol Warrior', 'Pathfinder Armada Platinum', 'Rogue Sport SL', 'X-Trail Platinum Edition', 'Qashqai e-Power', 'GT-R Egoist', 'Infiniti M45*', 'Skyline 50th Anniversary', 'Patrol Legend Edition', 'Datsun 240Z (Classic)', '100NX', 'Cedric Special Edition', '300ZX Turbo', 'Silvia S15 Spec-R', 'NV400', 'Titan Warrior', 'Caravan Coach', 'Serena e-Power', 'Elgrand', 'Datsun 510', 'Prairie', 'Pulsar GTI-R', 'Almera Tino', 'Lucino', 'Rasheen', 'Mistral', 'Patrol Y60', 'X-Trail GT', 'Terrano Regulus', 'President', 'Cima', 'Leopard J. Ferie', 'Gloria Gran Turismo', 'Infiniti Q45*', 'Datsun 240Z', '280ZX', 'Silvia S13', 'NV2500', 'NV3500', 'NT400 Cabstar', 'Panamera', 'Panamera 4', 'Panamera 4S', 'Panamera Turbo S', 'Panamera GTS', 'Panamera Platinum Edition', 'Panamera 4 Executive', 'Cayenne', 'Cayenne Coupe', 'Cayenne S', 'Cayenne Turbo', 'Cayenne GTS', 'Macan', 'Macan S', 'Macan GTS', 'Macan T', '911 Carrera', '911 Carrera S', '911 Carrera 4', '911 Carrera 4S', '911 Targa 4', '911 Turbo', '911 Turbo S', '911 GT3', '911 GT3 RS', '911 Dakar', '718 Cayman', '718 Cayman S', '718 Cayman GT4', '718 Cayman GT4 RS', '718 Boxster', '718 Boxster T', '718 Boxster GTS', '718 Spyder', 'Panamera Base', 'Panamera 4 E-Hybrid', 'Panamera 4 Sport Turismo', 'Panamera Turbo S E-Hybrid Sport Turismo', 'Panamera 4S E-Hybrid Executive', 'Panamera GTS Sport Turismo', 'Panamera Turbo Executive', 'Panamera Turbo S Exclusive Series', 'Panamera 4S ', 'Macan Base', 'Cayenne Base', 'Cayenne E-Hybrid', 'Cayenne S Coupe', 'Cayenne Turbo GT', 'Cayenne Platinum Edition', 'Cayenne Turbo S E-Hybrid Coupe', 'Cayenne GTS Coupe', 'Cayenne Diesel (Regional Markets)', 'Cayenne S Hybrid', 'Cayenne Coupe Turbo E-Hybrid', 'CT4', 'CT4-V', 'CT5', 'CT5-V', '911 Carrera Base', '911 Carrera S Cabriolet', '911 Carrera 4 GTS', '911 Targa 4 GTS', '911 Turbo Cabriolet', '911 Turbo S Coupe', '911 GT3 Touring', '911 GT3 RS Clubsport', '911 Dakar Limited Edition', '911 Carrera GTS Lightweight', '911 Targa 4 Lightweight', '911 Turbo Exclusive Series', '911 GT2 RS', '911 GT3 Cup', '911 GT4 RS', '911 RSR (Motorsport Edition)', '911 Sport Turismo', '911 Turbo Cabriolet Lightweight', '911 Dakar Sport', 'Tiago', 'Altroz DCA', 'Altroz iTurbo', 'Altroz CNG', 'Tiago NRG', 'Nano GenX', 'Indica eV2', 'Indica V2 Xeta', 'Tigor', 'Indigo eCS', 'Escalade', 'Indigo LX', 'Indigo GLX', 'Escalade ESV', 'Harrier', 'Safari', 'Punch', 'Hexa', 'Aria', 'Sumo Gold', 'Sumo Grande', 'Wrangler', 'Wrangler Rubicon', 'Grand Cherokee', 'Grand Cherokee L', 'Cherokee', 'Compass', 'Renegade', 'Gladiator', 'Wagoneer', 'Grand Wagoneer', 'Mazda2', 'Gladiator Mojave Edition', 'Grand Cherokee Summit Reserve', 'Jeep Cherokee X Edition', 'Wrangler 392', 'XT4', 'XT5', 'XT6', 'Escalade V', 'Escalade Platinum', 'CT5-V Blackwing', 'CT4-V Blackwing', 'XT4 Sport', 'XT5 Sport', 'XT6 Sport', 'CT5 Premium Luxury', 'Spark', 'Sonic', 'Malibu', 'Camaro', 'Corvette', 'Traverse', 'Equinox', 'Blazer', 'Tahoe', 'Suburban', 'Colorado', 'Silverado 1500', 'Silverado 2500HD', 'Silverado 3500HD', 'Trailblazer', 'Malibu Premier', 'Camaro ZL1', 'Corvette Stingray', 'Silverado 1500 High Country', 'Silverado 1500 Trail Boss', 'Silverado 1500 RST', 'Colorado ZR2', 'Traverse Premier', 'Equinox Premier', 'Blazer RS', 'Camaro SS', 'Corvette Grand Sport', 'Traverse RS', 'Blazer Premier', 'Malibu LT', 'Spark Activ', 'Trax LT', 'Equinox LT', 'Silverado 3500HD High Country', 'Colorado WT', 'Suburban High Country', 'Silverado Custom', 'Spark LS', 'Traverse LT', 'Blazer LT', 'Equinox RS', 'Silverado 1500 Custom', 'Silverado 2500HD LTZ', 'Tahoe RST', 'Suburban LT', 'Tahoe LS', 'Tahoe LT', 'Tahoe Z71', 'Tahoe Premier', 'Tahoe High Country', 'Tahoe Midnight Edition', 'Tahoe Sport Edition', 'Terrain', 'Acadia', 'Yukon', 'Yukon XL', 'Canyon', 'Sierra 1500', 'Sierra 2500HD', 'Sierra 3500HD', 'Yukon Denali', 'Sierra Denali', 'Terrain AT4', 'Acadia AT4', 'Sierra 1500 AT4', 'Sierra 2500HD Denali', 'Sierra Elevation', 'Canyon AT4', 'Canyon Denali', 'Yukon XL Denali Ultimate', 'Terrain Denali', 'Acadia Denali', 'Yukon AT4', 'Yukon XL AT4', 'Sierra 1500 Elevation', 'Sierra 1500 SLT', 'Sierra 2500HD AT4', 'Sierra 3500HD AT4', 'Canyon Elevation', 'Canyon Denali Black Edition', 'Sierra 1500 Denali Ultimate', 'Yukon XL Denali Reserve', 'Terrain Elevation Edition', 'Acadia Black Edition', 'Sierra Denali CarbonPro', 'Yukon Denali Performance', 'Sierra 2500HD Denali Black Edition', 'Canyon AT4X', 'Yukon XL SLT', 'Sierra 1500 Pro', 'Sierra 2500HD Pro', 'Sierra 3500HD Pro', 'Terrain SLT', 'Acadia SLE', 'Canyon SLT', 'Yukon XL Elevation', 'Sierra 1500 AT4X', 'Canyon AT4X Edition 1', 'Yukon Denali Ultimate Black', 'Sierra HD Denali Reserve', 'Acadia Denali Ultimate', 'Terrain All-Terrain Edition', 'Yukon Trailering Edition', 'Rio', 'Rio 5-Door', 'Seltos Nightfall Edition', 'Sorento X-Line', 'Telluride SX', 'Forte LXS', 'K5 EX', 'Niro Plug-In Hybrid', 'Soul Turbo', 'Seltos SX', 'Stinger Scorpion Edition', 'Sorento Hybrid SX Prestige', 'Carnival EX', 'Telluride Nightfall Edition', 'Niro Touring', 'Forte GT-Line', 'Seltos EX', 'Sorento LX', 'Telluride EX', 'Soul EX', 'Forte FE', 'K5 GT-Line', 'Carnival LXS', 'Niro EX', 'Stinger GT', 'Sorento SX Prestige', 'Telluride SX Prestige', 'Niro SX Touring', 'Carnival SX Prestige', 'Seltos SX Turbo', 'Forte EX Premium', 'Soul EX Designer Edition', 'Rio S', 'Rio 5-Door S', 'Soul S', 'Seltos LX', 'Sorento Hybrid EX', 'Telluride LX', 'Carnival MPV EX', 'Forte GT Turbo', 'Soul GT Designer Edition', 'Seltos X-Line Turbo', 'Telluride Limited Edition', 'Stinger GT-Line', 'Carnival Special Edition', 'Niro SX Hybrid', 'Sorento X-Pro Hybrid', 'Forte Limited Edition', 'Chiron', 'Chiron Pur Sport', 'Chiron Super Sport', 'Chiron Sport', 'Chiron Noire', 'Divo', 'Centodieci', 'La Voiture Noire', 'Bolide', 'Volvo FH', 'Volvo FH16', 'Volvo FM', 'Volvo FMX', 'Volvo VNL', 'Volvo VNR', 'Volvo VHD', 'Volvo FE', 'Volvo FL', 'Jaguar F-Type', 'Jaguar XE', 'Jaguar XF', 'Jaguar XJ', 'Jaguar E-PACE', 'Jaguar X-TYPE', 'Jaguar XE R-Dynamic', 'Jaguar F-Type SVR', 'Jaguar F-PACE SVR', 'Jaguar XE S', 'Jaguar XJ LWB (Long Wheelbase)', 'Jaguar F-Type Heritage Edition', 'Jaguar E-PACE S', 'Jaguar F-Type V8 R', 'Jaguar XE P300 R-Dynamic', 'Jaguar F-PACE S 30t AWD', 'Jaguar E-PACE R-Dynamic', 'Jaguar XJ50', 'Jaguar F-Type 75th Anniversary Edition', 'Jaguar XE SE', 'Jaguar F-Type V6 S Convertible', 'Jaguar F-Type Coupe R', 'Jaguar XJ Supercharged', 'Jaguar F-Type P450 AWD', 'Jaguar F-Type P300 Coupe', 'NSX Type S', 'TLX PMC Edition', 'MDX Advance', 'RDX Technology', 'ILX Premium', 'TLX A-Spec', 'RDX SH-AWD', 'MDX SH-AWD', 'RDX Platinum Elite', 'TLX A-Spec Sedan', 'TLX 2.4L', 'MDX Hybrid', 'RDX Hybrid', 'ILX Technology Package', 'NSX GT3 (Track Version)', 'RDX Turbo AWD', 'TLX 3.5L V6', 'ILX Special Edition', 'MDX SH-AWD w/Technology Package', 'NSX 3.5L Hybrid Coupe', 'MDX Elite', 'TLX V6 Advance', 'NSX Carbon Edition', 'RDX Turbo SH-AWD', 'ILX Technology Plus', 'TLX Type S PMC Edition', 'MDX Sport Hybrid', '208', '2008', '301', '308', '3008', '5008', '508', 'Partner', 'Expert', 'Boxer', '208 GTI', '308 GTI', '308 Allure', '2008 Allure', '3008 Allure', '5008 Allure', '508 Allure', '3008 GT', '508 GT', '208 Allure Premium', 'Partner Tepee', 'Expert L2H1', 'Boxer L2H2', '2008 Active', '3008 Active', '5008 Active', '3008 Allure Premium', '5008 Allure Premium', '3008 GT Line', '5008 GT Line', '2008 GT', '5008 GT', '508 SW (Station Wagon)', '508 Saloon', '308 Saloon', '301 Sedan', '208 Sedan', 'Escape Hybrid', 'Explorer Hybrid', 'Mustang', 'GT', 'Focus ST', 'Fiesta ST', 'Bronco Raptor', 'Ranger Raptor', 'F-150 Raptor', 'Puma', 'Territory', 'Everest', 'Flex', 'Transit', 'Transit Connect', 'F-450 Super Duty', 'F-550 Super Duty', 'Mustang Shelby GT500', 'Mustang Shelby GT350', 'F-150 Platinum', 'F-150 Limited', 'Explorer Platinum', 'Expedition King Ranch', 'Transit Custom', 'E-Series Cutaway', 'Transit Chassis Cab', 'Mustang (2024)', 'Ranger (2024)', 'Bronco (2024)', 'Explorer (2024)', 'Mirage', 'Mirage G4', 'Outlander', 'Eclipse Cross', 'ASX (Outlander Sport)', 'Pajero', 'Pajero Sport', 'Triton (L200)', 'Lancer Evolution X', 'Xpander', 'Delica D:5', 'Grandis', 'Outlander Black Edition', 'Outlander SEL', 'Outlander SE', 'Eclipse Cross Black Edition', 'ASX Exceed', 'Triton Athlete', 'Pajero Final Edition', 'L200 Barbarian X', 'Space Star', 'Montero Sport', 'Attrage', 'RVR SE', 'Lancer GLX', 'Pajero GLS', 'Xpander Cross', 'Eclipse Cross PHEV', 'Outlander ES', 'Montero GLX', 'Triton GLX-R', 'ASX Dynamic', 'Mirage ES', 'Outlander LE', 'Space Runner', 'Toppo BJ', 'Chariot', 'Lancer SE Limited', 'Pajero SWB (Short Wheel Base)', 'Delica Space Gear', 'i (Kei Car)', 'Dion', 'Airtrek', 'eK Space', 'eK X', 'Colt CZC Convertible', 'Galant Fortis', 'Endeavor', 'Grand Lancer', 'Sigma', 'Town Box', 'Mazda3', 'Mazda3 Hatchback', 'Mazda6', 'CX-3', 'CX-30', 'CX-5', 'CX-50', 'CX-8', 'CX-9', 'CX-90', 'MX-5 Miata', 'MX-5 Miata RF', 'CX-4', 'CX-7', 'Tribute', 'B-Series Pickup', 'BT-50', 'RX-7', 'RX-3', '323F', 'Familia Sedan', 'Premacy', 'Demio', 'Millenia', 'Eunos Cosmo', 'Atenza', 'Roadpacer AP', '626', '929', 'Luce', 'Capella', 'Carol', 'Autozam AZ-1', 'Spiano', 'Verisa', 'MX-6', 'MPV', 'Proceed Marvie', 'Sentia', 'Cronos', 'Scrum', 'Parkway', 'Titan (Truck)', 'CX-80', 'T1500', 'Revue', 'ProtegÃ©', 'Xedos 6', 'Xedos 9', '121', '1200', '1500', 'RX-2', 'RX-5', 'RX-7 Spirit R', 'Cosmo Sport (110S)', 'Eunos 500', 'Eunos Roadster', 'Familia Astina', 'Savanna RX-7', 'Capella Cargo', '818', 'Sentia Hardtop Coupe', 'Biante', 'Premacy Hydrogen RE Hybrid', 'Carol P360', 'T2000', 'AZ-Offroad', 'Scrum Wagon', 'Persona', 'Astina', 'Etude', 'Porter', 'MX-3', 'MX-5 Superlight Concept', 'Premacy Hydrogen RE', 'Bongo Truck', 'Rotary Pickup', 'Luce Rotary Coupe', 'Millenia S', '787B (Race Car)', 'Crown Signia']\n",
      "Total unique categories: 994\n",
      "\n",
      " Column: Engines\n",
      "['V8', 'V12', '1.2L Petrol', 'V10', 'I4', 'BOXER-4', 'V6', 'I6', 'I3', 'HYBRID', '1.2L,4-CYLINDER,INLINE-4(I4)', '1.4L,4-CYLINDER,INLINE-4(I4)', '2.0L,4-CYLINDER,INLINE-4(I4)', '2.2L,4-CYLINDER,INLINE-4(I4)', '1.5L,4-CYLINDER,INLINE(I4)', '2.0L,4-CYLINDER,WITH HYBRID SYSTEM', '1.6L,TURBOCHARGED INLINE-3', '3.5L,V6,HYBRID TWIN-TURBO', '2.0L,INLINE-4', '2.0L HYBRID', '1.5L,HYBRID', '1.0L,INLINE-3', '2.8L,TURBO,DIESEL', '3.5L,V6,PLUG IN HYBRID', '1.8L,HYBRID', '1.6L PETROL + PLUG IN HYBRID SYSTEM', '2.5L Turbocharged Inline-4', '1.6L PETROL ', '2.0L Inline-4', '2.5L Inline-4', '3.8L V6', '1.6L Inline-4', '3.3L V6', '1.6L Turbo GDI 4-cylinder', '2.0L Turbo I4', '1.5L Turbo I4', '3.0L V6 Turbo Diesel', '4.0L V6', '2.0L Turbo Diesel I4', '1.0L Turbo I3', 'Plug-in Hybrid V6', '1.2L Diesel I3', '2.9L VR6', '1.5L I4 Gas', '1.2L I4 Gas', '1.6L I4 Gas / Diesel', '1.5L I4 Turbo', '1.0L I3 Turbo', '2.0L I4 Turbo', '2.0L I4 Turbo Diesel', '4.0L V8 Turbo Diesel', '1.4L I4 Turbo', '1.8L I4 Gas', '3.2L VR6', '2.0L Diesel I4', '1.6L Turbocharged Rally Engine', '1.4L I4 Turbo + Electric Motor', '1.5L I4 CNG', '3.0L V6 Turbo Diesel / Gasoline', '1.0L Turbocharged Inline-3', '5.6L V8', '1.3L Turbocharged Inline-4', '3.5L V6', '1.5L Turbocharged Inline-3', '3.0L Twin-Turbo V6', '1.8L Inline-4', '1.2L Inline-3 Hybrid', '1.5L Inline-4 Diesel', '3.8L Twin-Turbo V6', '3.7L V6', '1.2L Turbocharged Inline-4', '1.5L Inline-4', '1.2L Inline-3', '2.0L Inline-4 Hybrid', '3.0L V6 Twin-Turbo', '2.0L Inline-6', '2.5L V6', '4.8L Inline-6', '2.5L Inline-4 Hybrid', '1.5L Turbo Inline-3', '1.3L Turbo Hybrid Inline-4', '5.0L V8', '3.0L V6', '1.6L Turbo Inline-4', '2.4L Inline-4', '2.6L Twin-Turbo Inline-6', '2.0L VC-Turbo Inline-4', '2.5L Inline-4 Diesel', '2.3L Inline-4 Diesel', '1.4L Inline-4', '2.8L Inline-6 Diesel', '2.0L Turbo Inline-4', '2.7L Inline-4 Diesel', '1.5L Turbo Hybrid', '3.0L Twin-Turbo V6 Hybrid', '3.5L Twin-Turbo V8', '1.0L Turbo Inline-4', '3.0L Inline-4 Diesel', '660cc Inline-3', '1.5L Hybrid', '4.5L V8', '2.4L Inline-6', '1.2L Hybrid', '2.7L Turbo Diesel', '4.2L Inline-6', '4.1L V8', '3.0L V6 Turbo', '2.8L Inline-6', '1.8L Turbo Inline-4', '2.9L V6 Twin Turbo', '4.0L V8 Twin Turbo', '3.0L Flat-6 Twin Turbo', '3.0L Twin-Turbo Flat-6', '3.8L Twin-Turbo Flat-6', '4.0L Naturally Aspirated Flat-6', '2.0L Turbocharged Flat-4', '2.5L Turbocharged Flat-4', '2.0L Turbo Flat-4', '2.9L Twin-Turbo V6', '2.9L Twin-Turbo V6 + Electric Motor', '4.0L Twin-Turbo V8 + Electric Motor', '4.0L Twin-Turbo V8', '3.0L Turbocharged V6', '3.0L V6 + Electric Motor', '3.0L Turbo Diesel V6', '2.0L Turbo Inline-4 Gasoline', '2.7L Turbo Inline-4 Gasoline', '3.0L Twin-Turbo V6 Gasoline', '4.2L Naturally Aspirated Flat-6', '1.2L Revotron 3-cylinder Petrol', '1.2L Turbocharged Petrol', '1.2L Revotron Bi-Fuel', '624cc MPFI', '1.4L CR4 Diesel', '1.2L MPFI Petrol', '6.2L V8 Gasoline', '1.4L MPFI Petrol', '2.0L Kryotec Turbocharged Diesel', '1.2L Revotron Petrol', '2.2L Varicor Diesel', '2.2L Dicor Diesel', '3.0L CR4 Diesel', '3.6L V6 Pentastar Gasoline', '2.0L Turbo I4 Gasoline', '2.4L I4 Tigershark Gasoline', '2.0L Turbo Gasoline', '1.3L Turbo I4 Gasoline', '5.7L V8 Gasoline with eTorque', '6.4L V8 Gasoline', '1.5L 4-Cylinder', '5.7L V8 Gasoline', '3.2L V6 Pentastar Gasoline', '6.4L V8 HEMI Gasoline', '3.6L V6 Gasoline', '6.2L Supercharged V8 Gasoline', '3.6L Twin-Turbo V6 Gasoline', '1.4L Inline-4 Gasoline', '1.4L Turbo Inline-4 Gasoline', '1.5L Turbo Inline-4 Gasoline', '5.3L V8 Gasoline', '6.6L V8 Gasoline', '6.6L V8 Diesel', '1.3L Turbo Inline-3 Gasoline', '2.8L Turbo Diesel I4', '1.2L Turbo Inline-3 Gasoline', '4.3L V6 Gasoline', '2.5L Inline-4 Gasoline', '1.5L Turbo 4-cylinder', '2.0L Turbo 4-cylinder', '2.7L Turbo 4-cylinder', '3.6L V6 engine', '5.3L V8 engine', '2.7L Turbo engine', '6.6L V8 engine', '2.5L I4 engine', '6.2L V8 engine', '1.5L Turbocharged I4 engine', '4.3L V6 engine', '1.6L 4-Cylinder', '1.6L Turbocharged 4-Cylinder', '2.5L Turbocharged 4-Cylinder', '2.0L 4-Cylinder', '1.6L 4-Cylinder Hybrid', '1.6L Hybrid Turbocharged 4-Cylinder', '2.5L 4-Cylinder', '3.3L Turbocharged V6', '2.5L Hybrid Turbocharged 4-Cylinder', '8.0L Quad-Turbo W16', '13.0L I6 Turbo Diesel', '16.1L I6 Turbo Diesel', '12.8L I6 Turbo Diesel', '7.7L I6 Turbo Diesel', '5.1L I4 Turbo Diesel', 'V6 / V8 Petrol', 'I4 Petrol', 'V6 Petrol', 'V8 Petrol', 'Twin-Turbo V6 Hybrid', 'I4 Turbocharged', 'Inline-4', 'V6 Hybrid', 'Inline-4 Hybrid', 'Inline-4 Turbocharged', 'Turbocharged I4', 'Turbocharged V6', 'Diesel I4', '2.5L Inline-4 + Electric', '3.3L V6 + Electric', '3.5L Twin-Turbo V6', '2.3L Turbo Inline-4', '2.7L Twin-Turbo V6', 'Turbocharged Inline-3', 'Turbocharged Inline-4', 'Naturally Aspirated V6', 'EcoBlue Turbo Diesel', 'Inline-4 Gasoline Engine', 'Turbocharged V8 Diesel', 'Supercharged V8', 'Naturally Aspirated V8', 'V8 Gasoline Engine', 'I4 Turbo Diesel', 'V6 EcoBoost', 'V6 Turbocharged', '1.2L MIVEC', '1.5L Turbo', '2.0L MIVEC', '3.2L Diesel Turbo', '2.4L Diesel Turbo', '2.0L Turbocharged', '1.5L MIVEC', '2.2L Diesel Turbo', '2.4L MIVEC', '1.6L MIVEC', '2.4L PHEV', '1.8L MIVEC', '0.7L 3-Cylinder', '2.4L Petrol', '2.4L 4-Cylinder', '1.5L Turbocharged', '2.0L SkyActiv-G', '2.5L SkyActiv-G', '2.5L Turbocharged', '2.2L Diesel', '3.3L Inline-6 Turbo', '2.3L Turbocharged', '2.5L Diesel', '3.2L Turbo Diesel', '1.3L Rotary Twin-Turbo', '1.2L Rotary', '1.5L SkyActiv-G', '2.3L Miller Cycle V6', '2.0L Twin-Rotor Turbo', '1.3L Rotary', '1.8L Rotary', '657cc Turbocharged Inline-3', '2.6L Inline-4', '3.0L Inline-4', '3.0L Inline-6', '1.3L Inline-4', '1.2L Inline-4', '1.3L Inline-2 (Wankel)', '1.6L Inline-2 (Wankel)', '1.0L Inline-2 (Wankel)', '1.3L Wankel + Electric', '0.36L Inline-2', '0.66L Inline-3', '1.3L Wankel Rotary Engine', '2.6L Wankel Rotary Engine', '2.5L Hybrid I4']\n",
      "Total unique categories: 269\n",
      "\n",
      " Column: Fuel Types\n",
      "['Hybrid', 'Petrol', 'Diesel', 'Hydrogen', 'CNG']\n",
      "Total unique categories: 5\n"
     ]
    }
   ],
   "source": [
    "# Select categorical columns (object or string types)\n",
    "cat_cols = df.select_dtypes(include=[\"object\"]).columns.tolist()\n",
    "\n",
    "# Print unique categories for each column\n",
    "for col in cat_cols:\n",
    "    print(f\"\\n Column: {col}\")\n",
    "    print(df[col].unique().tolist())   # convert numpy array to list for readability\n",
    "    print(f\"Total unique categories: {df[col].nunique()}\")"
   ]
  },
  {
   "cell_type": "code",
   "execution_count": 8,
   "id": "7ed9f3a7",
   "metadata": {},
   "outputs": [],
   "source": [
    "####label-encoding"
   ]
  },
  {
   "cell_type": "code",
   "execution_count": 9,
   "id": "c04329be",
   "metadata": {},
   "outputs": [],
   "source": [
    "# Encode categorical variables\n",
    "cat_cols = [\"Company Names\", \"Cars Names\", \"Engines\", \"Fuel Types\"]\n",
    "encoder = LabelEncoder()\n",
    "for col in cat_cols:\n",
    "    df[col] = encoder.fit_transform(df[col])"
   ]
  },
  {
   "cell_type": "code",
   "execution_count": 10,
   "id": "ab5cb22f",
   "metadata": {},
   "outputs": [
    {
     "data": {
      "text/html": [
       "<div>\n",
       "<style scoped>\n",
       "    .dataframe tbody tr th:only-of-type {\n",
       "        vertical-align: middle;\n",
       "    }\n",
       "\n",
       "    .dataframe tbody tr th {\n",
       "        vertical-align: top;\n",
       "    }\n",
       "\n",
       "    .dataframe thead th {\n",
       "        text-align: right;\n",
       "    }\n",
       "</style>\n",
       "<table border=\"1\" class=\"dataframe\">\n",
       "  <thead>\n",
       "    <tr style=\"text-align: right;\">\n",
       "      <th></th>\n",
       "      <th>Company Names</th>\n",
       "      <th>Cars Names</th>\n",
       "      <th>Engines</th>\n",
       "      <th>Capacity</th>\n",
       "      <th>HorsePower</th>\n",
       "      <th>Total Speed</th>\n",
       "      <th>Performance</th>\n",
       "      <th>Cars Prices</th>\n",
       "      <th>Fuel Types</th>\n",
       "      <th>Seats</th>\n",
       "      <th>Torque</th>\n",
       "    </tr>\n",
       "  </thead>\n",
       "  <tbody>\n",
       "    <tr>\n",
       "      <th>0</th>\n",
       "      <td>8</td>\n",
       "      <td>724</td>\n",
       "      <td>266</td>\n",
       "      <td>3990</td>\n",
       "      <td>963.0</td>\n",
       "      <td>340</td>\n",
       "      <td>2.5</td>\n",
       "      <td>1100000.0</td>\n",
       "      <td>2</td>\n",
       "      <td>2</td>\n",
       "      <td>800.0</td>\n",
       "    </tr>\n",
       "    <tr>\n",
       "      <th>1</th>\n",
       "      <td>28</td>\n",
       "      <td>594</td>\n",
       "      <td>259</td>\n",
       "      <td>6749</td>\n",
       "      <td>563.0</td>\n",
       "      <td>250</td>\n",
       "      <td>5.3</td>\n",
       "      <td>460000.0</td>\n",
       "      <td>4</td>\n",
       "      <td>5</td>\n",
       "      <td>900.0</td>\n",
       "    </tr>\n",
       "    <tr>\n",
       "      <th>2</th>\n",
       "      <td>9</td>\n",
       "      <td>493</td>\n",
       "      <td>17</td>\n",
       "      <td>1200</td>\n",
       "      <td>77.5</td>\n",
       "      <td>165</td>\n",
       "      <td>10.5</td>\n",
       "      <td>13500.0</td>\n",
       "      <td>4</td>\n",
       "      <td>5</td>\n",
       "      <td>120.0</td>\n",
       "    </tr>\n",
       "    <tr>\n",
       "      <th>3</th>\n",
       "      <td>21</td>\n",
       "      <td>0</td>\n",
       "      <td>266</td>\n",
       "      <td>3982</td>\n",
       "      <td>630.0</td>\n",
       "      <td>250</td>\n",
       "      <td>3.2</td>\n",
       "      <td>161000.0</td>\n",
       "      <td>4</td>\n",
       "      <td>4</td>\n",
       "      <td>900.0</td>\n",
       "    </tr>\n",
       "    <tr>\n",
       "      <th>4</th>\n",
       "      <td>1</td>\n",
       "      <td>126</td>\n",
       "      <td>258</td>\n",
       "      <td>5204</td>\n",
       "      <td>602.0</td>\n",
       "      <td>320</td>\n",
       "      <td>3.6</td>\n",
       "      <td>253290.0</td>\n",
       "      <td>4</td>\n",
       "      <td>2</td>\n",
       "      <td>560.0</td>\n",
       "    </tr>\n",
       "  </tbody>\n",
       "</table>\n",
       "</div>"
      ],
      "text/plain": [
       "   Company Names  Cars Names  Engines  Capacity  HorsePower  Total Speed  \\\n",
       "0              8         724      266      3990       963.0          340   \n",
       "1             28         594      259      6749       563.0          250   \n",
       "2              9         493       17      1200        77.5          165   \n",
       "3             21           0      266      3982       630.0          250   \n",
       "4              1         126      258      5204       602.0          320   \n",
       "\n",
       "   Performance  Cars Prices  Fuel Types  Seats  Torque  \n",
       "0          2.5    1100000.0           2      2   800.0  \n",
       "1          5.3     460000.0           4      5   900.0  \n",
       "2         10.5      13500.0           4      5   120.0  \n",
       "3          3.2     161000.0           4      4   900.0  \n",
       "4          3.6     253290.0           4      2   560.0  "
      ]
     },
     "execution_count": 10,
     "metadata": {},
     "output_type": "execute_result"
    }
   ],
   "source": [
    "df.head()"
   ]
  },
  {
   "cell_type": "code",
   "execution_count": 11,
   "id": "8d8b120f",
   "metadata": {},
   "outputs": [],
   "source": [
    "# Select categorical columns (object or string types)\n",
    "cat_cols = df.select_dtypes(include=[\"object\"]).columns.tolist()\n",
    "\n",
    "# Print unique categories for each column\n",
    "for col in cat_cols:\n",
    "    print(f\"\\n Column: {col}\")\n",
    "    print(df[col].unique().tolist())   # convert numpy array to list for readability\n",
    "    print(f\"Total unique categories: {df[col].nunique()}\")"
   ]
  },
  {
   "cell_type": "code",
   "execution_count": 12,
   "id": "eb46438e",
   "metadata": {},
   "outputs": [
    {
     "data": {
      "text/plain": [
       "array([2, 4, 1, 3, 0])"
      ]
     },
     "execution_count": 12,
     "metadata": {},
     "output_type": "execute_result"
    }
   ],
   "source": [
    "df[col].unique()"
   ]
  },
  {
   "cell_type": "code",
   "execution_count": 13,
   "id": "094c9770",
   "metadata": {},
   "outputs": [],
   "source": [
    "# Features and target\n",
    "X = df.drop(\"Cars Prices\", axis=1)\n",
    "y = df[\"Cars Prices\"]\n",
    "\n",
    "# Train-test split\n",
    "X_train, X_test, y_train, y_test = train_test_split(X, y, test_size=0.2, random_state=42)"
   ]
  },
  {
   "cell_type": "code",
   "execution_count": 14,
   "id": "59bc35f0",
   "metadata": {},
   "outputs": [
    {
     "data": {
      "text/html": [
       "<style>#sk-container-id-1 {color: black;background-color: white;}#sk-container-id-1 pre{padding: 0;}#sk-container-id-1 div.sk-toggleable {background-color: white;}#sk-container-id-1 label.sk-toggleable__label {cursor: pointer;display: block;width: 100%;margin-bottom: 0;padding: 0.3em;box-sizing: border-box;text-align: center;}#sk-container-id-1 label.sk-toggleable__label-arrow:before {content: \"▸\";float: left;margin-right: 0.25em;color: #696969;}#sk-container-id-1 label.sk-toggleable__label-arrow:hover:before {color: black;}#sk-container-id-1 div.sk-estimator:hover label.sk-toggleable__label-arrow:before {color: black;}#sk-container-id-1 div.sk-toggleable__content {max-height: 0;max-width: 0;overflow: hidden;text-align: left;background-color: #f0f8ff;}#sk-container-id-1 div.sk-toggleable__content pre {margin: 0.2em;color: black;border-radius: 0.25em;background-color: #f0f8ff;}#sk-container-id-1 input.sk-toggleable__control:checked~div.sk-toggleable__content {max-height: 200px;max-width: 100%;overflow: auto;}#sk-container-id-1 input.sk-toggleable__control:checked~label.sk-toggleable__label-arrow:before {content: \"▾\";}#sk-container-id-1 div.sk-estimator input.sk-toggleable__control:checked~label.sk-toggleable__label {background-color: #d4ebff;}#sk-container-id-1 div.sk-label input.sk-toggleable__control:checked~label.sk-toggleable__label {background-color: #d4ebff;}#sk-container-id-1 input.sk-hidden--visually {border: 0;clip: rect(1px 1px 1px 1px);clip: rect(1px, 1px, 1px, 1px);height: 1px;margin: -1px;overflow: hidden;padding: 0;position: absolute;width: 1px;}#sk-container-id-1 div.sk-estimator {font-family: monospace;background-color: #f0f8ff;border: 1px dotted black;border-radius: 0.25em;box-sizing: border-box;margin-bottom: 0.5em;}#sk-container-id-1 div.sk-estimator:hover {background-color: #d4ebff;}#sk-container-id-1 div.sk-parallel-item::after {content: \"\";width: 100%;border-bottom: 1px solid gray;flex-grow: 1;}#sk-container-id-1 div.sk-label:hover label.sk-toggleable__label {background-color: #d4ebff;}#sk-container-id-1 div.sk-serial::before {content: \"\";position: absolute;border-left: 1px solid gray;box-sizing: border-box;top: 0;bottom: 0;left: 50%;z-index: 0;}#sk-container-id-1 div.sk-serial {display: flex;flex-direction: column;align-items: center;background-color: white;padding-right: 0.2em;padding-left: 0.2em;position: relative;}#sk-container-id-1 div.sk-item {position: relative;z-index: 1;}#sk-container-id-1 div.sk-parallel {display: flex;align-items: stretch;justify-content: center;background-color: white;position: relative;}#sk-container-id-1 div.sk-item::before, #sk-container-id-1 div.sk-parallel-item::before {content: \"\";position: absolute;border-left: 1px solid gray;box-sizing: border-box;top: 0;bottom: 0;left: 50%;z-index: -1;}#sk-container-id-1 div.sk-parallel-item {display: flex;flex-direction: column;z-index: 1;position: relative;background-color: white;}#sk-container-id-1 div.sk-parallel-item:first-child::after {align-self: flex-end;width: 50%;}#sk-container-id-1 div.sk-parallel-item:last-child::after {align-self: flex-start;width: 50%;}#sk-container-id-1 div.sk-parallel-item:only-child::after {width: 0;}#sk-container-id-1 div.sk-dashed-wrapped {border: 1px dashed gray;margin: 0 0.4em 0.5em 0.4em;box-sizing: border-box;padding-bottom: 0.4em;background-color: white;}#sk-container-id-1 div.sk-label label {font-family: monospace;font-weight: bold;display: inline-block;line-height: 1.2em;}#sk-container-id-1 div.sk-label-container {text-align: center;}#sk-container-id-1 div.sk-container {/* jupyter's `normalize.less` sets `[hidden] { display: none; }` but bootstrap.min.css set `[hidden] { display: none !important; }` so we also need the `!important` here to be able to override the default hidden behavior on the sphinx rendered scikit-learn.org. See: https://github.com/scikit-learn/scikit-learn/issues/21755 */display: inline-block !important;position: relative;}#sk-container-id-1 div.sk-text-repr-fallback {display: none;}</style><div id=\"sk-container-id-1\" class=\"sk-top-container\"><div class=\"sk-text-repr-fallback\"><pre>DecisionTreeRegressor(random_state=42)</pre><b>In a Jupyter environment, please rerun this cell to show the HTML representation or trust the notebook. <br />On GitHub, the HTML representation is unable to render, please try loading this page with nbviewer.org.</b></div><div class=\"sk-container\" hidden><div class=\"sk-item\"><div class=\"sk-estimator sk-toggleable\"><input class=\"sk-toggleable__control sk-hidden--visually\" id=\"sk-estimator-id-1\" type=\"checkbox\" checked><label for=\"sk-estimator-id-1\" class=\"sk-toggleable__label sk-toggleable__label-arrow\">DecisionTreeRegressor</label><div class=\"sk-toggleable__content\"><pre>DecisionTreeRegressor(random_state=42)</pre></div></div></div></div></div>"
      ],
      "text/plain": [
       "DecisionTreeRegressor(random_state=42)"
      ]
     },
     "execution_count": 14,
     "metadata": {},
     "output_type": "execute_result"
    }
   ],
   "source": [
    "# 1. Decision Tree\n",
    "dt = DecisionTreeRegressor(random_state=42)\n",
    "dt.fit(X_train, y_train)"
   ]
  },
  {
   "cell_type": "code",
   "execution_count": 15,
   "id": "7c169229",
   "metadata": {},
   "outputs": [
    {
     "data": {
      "text/html": [
       "<style>#sk-container-id-2 {color: black;background-color: white;}#sk-container-id-2 pre{padding: 0;}#sk-container-id-2 div.sk-toggleable {background-color: white;}#sk-container-id-2 label.sk-toggleable__label {cursor: pointer;display: block;width: 100%;margin-bottom: 0;padding: 0.3em;box-sizing: border-box;text-align: center;}#sk-container-id-2 label.sk-toggleable__label-arrow:before {content: \"▸\";float: left;margin-right: 0.25em;color: #696969;}#sk-container-id-2 label.sk-toggleable__label-arrow:hover:before {color: black;}#sk-container-id-2 div.sk-estimator:hover label.sk-toggleable__label-arrow:before {color: black;}#sk-container-id-2 div.sk-toggleable__content {max-height: 0;max-width: 0;overflow: hidden;text-align: left;background-color: #f0f8ff;}#sk-container-id-2 div.sk-toggleable__content pre {margin: 0.2em;color: black;border-radius: 0.25em;background-color: #f0f8ff;}#sk-container-id-2 input.sk-toggleable__control:checked~div.sk-toggleable__content {max-height: 200px;max-width: 100%;overflow: auto;}#sk-container-id-2 input.sk-toggleable__control:checked~label.sk-toggleable__label-arrow:before {content: \"▾\";}#sk-container-id-2 div.sk-estimator input.sk-toggleable__control:checked~label.sk-toggleable__label {background-color: #d4ebff;}#sk-container-id-2 div.sk-label input.sk-toggleable__control:checked~label.sk-toggleable__label {background-color: #d4ebff;}#sk-container-id-2 input.sk-hidden--visually {border: 0;clip: rect(1px 1px 1px 1px);clip: rect(1px, 1px, 1px, 1px);height: 1px;margin: -1px;overflow: hidden;padding: 0;position: absolute;width: 1px;}#sk-container-id-2 div.sk-estimator {font-family: monospace;background-color: #f0f8ff;border: 1px dotted black;border-radius: 0.25em;box-sizing: border-box;margin-bottom: 0.5em;}#sk-container-id-2 div.sk-estimator:hover {background-color: #d4ebff;}#sk-container-id-2 div.sk-parallel-item::after {content: \"\";width: 100%;border-bottom: 1px solid gray;flex-grow: 1;}#sk-container-id-2 div.sk-label:hover label.sk-toggleable__label {background-color: #d4ebff;}#sk-container-id-2 div.sk-serial::before {content: \"\";position: absolute;border-left: 1px solid gray;box-sizing: border-box;top: 0;bottom: 0;left: 50%;z-index: 0;}#sk-container-id-2 div.sk-serial {display: flex;flex-direction: column;align-items: center;background-color: white;padding-right: 0.2em;padding-left: 0.2em;position: relative;}#sk-container-id-2 div.sk-item {position: relative;z-index: 1;}#sk-container-id-2 div.sk-parallel {display: flex;align-items: stretch;justify-content: center;background-color: white;position: relative;}#sk-container-id-2 div.sk-item::before, #sk-container-id-2 div.sk-parallel-item::before {content: \"\";position: absolute;border-left: 1px solid gray;box-sizing: border-box;top: 0;bottom: 0;left: 50%;z-index: -1;}#sk-container-id-2 div.sk-parallel-item {display: flex;flex-direction: column;z-index: 1;position: relative;background-color: white;}#sk-container-id-2 div.sk-parallel-item:first-child::after {align-self: flex-end;width: 50%;}#sk-container-id-2 div.sk-parallel-item:last-child::after {align-self: flex-start;width: 50%;}#sk-container-id-2 div.sk-parallel-item:only-child::after {width: 0;}#sk-container-id-2 div.sk-dashed-wrapped {border: 1px dashed gray;margin: 0 0.4em 0.5em 0.4em;box-sizing: border-box;padding-bottom: 0.4em;background-color: white;}#sk-container-id-2 div.sk-label label {font-family: monospace;font-weight: bold;display: inline-block;line-height: 1.2em;}#sk-container-id-2 div.sk-label-container {text-align: center;}#sk-container-id-2 div.sk-container {/* jupyter's `normalize.less` sets `[hidden] { display: none; }` but bootstrap.min.css set `[hidden] { display: none !important; }` so we also need the `!important` here to be able to override the default hidden behavior on the sphinx rendered scikit-learn.org. See: https://github.com/scikit-learn/scikit-learn/issues/21755 */display: inline-block !important;position: relative;}#sk-container-id-2 div.sk-text-repr-fallback {display: none;}</style><div id=\"sk-container-id-2\" class=\"sk-top-container\"><div class=\"sk-text-repr-fallback\"><pre>RandomForestRegressor(random_state=42)</pre><b>In a Jupyter environment, please rerun this cell to show the HTML representation or trust the notebook. <br />On GitHub, the HTML representation is unable to render, please try loading this page with nbviewer.org.</b></div><div class=\"sk-container\" hidden><div class=\"sk-item\"><div class=\"sk-estimator sk-toggleable\"><input class=\"sk-toggleable__control sk-hidden--visually\" id=\"sk-estimator-id-2\" type=\"checkbox\" checked><label for=\"sk-estimator-id-2\" class=\"sk-toggleable__label sk-toggleable__label-arrow\">RandomForestRegressor</label><div class=\"sk-toggleable__content\"><pre>RandomForestRegressor(random_state=42)</pre></div></div></div></div></div>"
      ],
      "text/plain": [
       "RandomForestRegressor(random_state=42)"
      ]
     },
     "execution_count": 15,
     "metadata": {},
     "output_type": "execute_result"
    }
   ],
   "source": [
    "# 2. Random Forest\n",
    "rf = RandomForestRegressor(n_estimators=100, random_state=42)\n",
    "rf.fit(X_train, y_train)\n"
   ]
  },
  {
   "cell_type": "code",
   "execution_count": 16,
   "id": "fcacaca0",
   "metadata": {},
   "outputs": [
    {
     "data": {
      "text/html": [
       "<style>#sk-container-id-3 {color: black;background-color: white;}#sk-container-id-3 pre{padding: 0;}#sk-container-id-3 div.sk-toggleable {background-color: white;}#sk-container-id-3 label.sk-toggleable__label {cursor: pointer;display: block;width: 100%;margin-bottom: 0;padding: 0.3em;box-sizing: border-box;text-align: center;}#sk-container-id-3 label.sk-toggleable__label-arrow:before {content: \"▸\";float: left;margin-right: 0.25em;color: #696969;}#sk-container-id-3 label.sk-toggleable__label-arrow:hover:before {color: black;}#sk-container-id-3 div.sk-estimator:hover label.sk-toggleable__label-arrow:before {color: black;}#sk-container-id-3 div.sk-toggleable__content {max-height: 0;max-width: 0;overflow: hidden;text-align: left;background-color: #f0f8ff;}#sk-container-id-3 div.sk-toggleable__content pre {margin: 0.2em;color: black;border-radius: 0.25em;background-color: #f0f8ff;}#sk-container-id-3 input.sk-toggleable__control:checked~div.sk-toggleable__content {max-height: 200px;max-width: 100%;overflow: auto;}#sk-container-id-3 input.sk-toggleable__control:checked~label.sk-toggleable__label-arrow:before {content: \"▾\";}#sk-container-id-3 div.sk-estimator input.sk-toggleable__control:checked~label.sk-toggleable__label {background-color: #d4ebff;}#sk-container-id-3 div.sk-label input.sk-toggleable__control:checked~label.sk-toggleable__label {background-color: #d4ebff;}#sk-container-id-3 input.sk-hidden--visually {border: 0;clip: rect(1px 1px 1px 1px);clip: rect(1px, 1px, 1px, 1px);height: 1px;margin: -1px;overflow: hidden;padding: 0;position: absolute;width: 1px;}#sk-container-id-3 div.sk-estimator {font-family: monospace;background-color: #f0f8ff;border: 1px dotted black;border-radius: 0.25em;box-sizing: border-box;margin-bottom: 0.5em;}#sk-container-id-3 div.sk-estimator:hover {background-color: #d4ebff;}#sk-container-id-3 div.sk-parallel-item::after {content: \"\";width: 100%;border-bottom: 1px solid gray;flex-grow: 1;}#sk-container-id-3 div.sk-label:hover label.sk-toggleable__label {background-color: #d4ebff;}#sk-container-id-3 div.sk-serial::before {content: \"\";position: absolute;border-left: 1px solid gray;box-sizing: border-box;top: 0;bottom: 0;left: 50%;z-index: 0;}#sk-container-id-3 div.sk-serial {display: flex;flex-direction: column;align-items: center;background-color: white;padding-right: 0.2em;padding-left: 0.2em;position: relative;}#sk-container-id-3 div.sk-item {position: relative;z-index: 1;}#sk-container-id-3 div.sk-parallel {display: flex;align-items: stretch;justify-content: center;background-color: white;position: relative;}#sk-container-id-3 div.sk-item::before, #sk-container-id-3 div.sk-parallel-item::before {content: \"\";position: absolute;border-left: 1px solid gray;box-sizing: border-box;top: 0;bottom: 0;left: 50%;z-index: -1;}#sk-container-id-3 div.sk-parallel-item {display: flex;flex-direction: column;z-index: 1;position: relative;background-color: white;}#sk-container-id-3 div.sk-parallel-item:first-child::after {align-self: flex-end;width: 50%;}#sk-container-id-3 div.sk-parallel-item:last-child::after {align-self: flex-start;width: 50%;}#sk-container-id-3 div.sk-parallel-item:only-child::after {width: 0;}#sk-container-id-3 div.sk-dashed-wrapped {border: 1px dashed gray;margin: 0 0.4em 0.5em 0.4em;box-sizing: border-box;padding-bottom: 0.4em;background-color: white;}#sk-container-id-3 div.sk-label label {font-family: monospace;font-weight: bold;display: inline-block;line-height: 1.2em;}#sk-container-id-3 div.sk-label-container {text-align: center;}#sk-container-id-3 div.sk-container {/* jupyter's `normalize.less` sets `[hidden] { display: none; }` but bootstrap.min.css set `[hidden] { display: none !important; }` so we also need the `!important` here to be able to override the default hidden behavior on the sphinx rendered scikit-learn.org. See: https://github.com/scikit-learn/scikit-learn/issues/21755 */display: inline-block !important;position: relative;}#sk-container-id-3 div.sk-text-repr-fallback {display: none;}</style><div id=\"sk-container-id-3\" class=\"sk-top-container\"><div class=\"sk-text-repr-fallback\"><pre>GradientBoostingRegressor(random_state=42)</pre><b>In a Jupyter environment, please rerun this cell to show the HTML representation or trust the notebook. <br />On GitHub, the HTML representation is unable to render, please try loading this page with nbviewer.org.</b></div><div class=\"sk-container\" hidden><div class=\"sk-item\"><div class=\"sk-estimator sk-toggleable\"><input class=\"sk-toggleable__control sk-hidden--visually\" id=\"sk-estimator-id-3\" type=\"checkbox\" checked><label for=\"sk-estimator-id-3\" class=\"sk-toggleable__label sk-toggleable__label-arrow\">GradientBoostingRegressor</label><div class=\"sk-toggleable__content\"><pre>GradientBoostingRegressor(random_state=42)</pre></div></div></div></div></div>"
      ],
      "text/plain": [
       "GradientBoostingRegressor(random_state=42)"
      ]
     },
     "execution_count": 16,
     "metadata": {},
     "output_type": "execute_result"
    }
   ],
   "source": [
    "# 3. Gradient Boosting\n",
    "gb = GradientBoostingRegressor(n_estimators=100, learning_rate=0.1, random_state=42)\n",
    "gb.fit(X_train, y_train)"
   ]
  },
  {
   "cell_type": "code",
   "execution_count": 17,
   "id": "0146865b",
   "metadata": {},
   "outputs": [],
   "source": [
    "#### one-hot encoding"
   ]
  },
  {
   "cell_type": "code",
   "execution_count": 18,
   "id": "8974bddf",
   "metadata": {},
   "outputs": [
    {
     "data": {
      "text/html": [
       "<style>#sk-container-id-4 {color: black;background-color: white;}#sk-container-id-4 pre{padding: 0;}#sk-container-id-4 div.sk-toggleable {background-color: white;}#sk-container-id-4 label.sk-toggleable__label {cursor: pointer;display: block;width: 100%;margin-bottom: 0;padding: 0.3em;box-sizing: border-box;text-align: center;}#sk-container-id-4 label.sk-toggleable__label-arrow:before {content: \"▸\";float: left;margin-right: 0.25em;color: #696969;}#sk-container-id-4 label.sk-toggleable__label-arrow:hover:before {color: black;}#sk-container-id-4 div.sk-estimator:hover label.sk-toggleable__label-arrow:before {color: black;}#sk-container-id-4 div.sk-toggleable__content {max-height: 0;max-width: 0;overflow: hidden;text-align: left;background-color: #f0f8ff;}#sk-container-id-4 div.sk-toggleable__content pre {margin: 0.2em;color: black;border-radius: 0.25em;background-color: #f0f8ff;}#sk-container-id-4 input.sk-toggleable__control:checked~div.sk-toggleable__content {max-height: 200px;max-width: 100%;overflow: auto;}#sk-container-id-4 input.sk-toggleable__control:checked~label.sk-toggleable__label-arrow:before {content: \"▾\";}#sk-container-id-4 div.sk-estimator input.sk-toggleable__control:checked~label.sk-toggleable__label {background-color: #d4ebff;}#sk-container-id-4 div.sk-label input.sk-toggleable__control:checked~label.sk-toggleable__label {background-color: #d4ebff;}#sk-container-id-4 input.sk-hidden--visually {border: 0;clip: rect(1px 1px 1px 1px);clip: rect(1px, 1px, 1px, 1px);height: 1px;margin: -1px;overflow: hidden;padding: 0;position: absolute;width: 1px;}#sk-container-id-4 div.sk-estimator {font-family: monospace;background-color: #f0f8ff;border: 1px dotted black;border-radius: 0.25em;box-sizing: border-box;margin-bottom: 0.5em;}#sk-container-id-4 div.sk-estimator:hover {background-color: #d4ebff;}#sk-container-id-4 div.sk-parallel-item::after {content: \"\";width: 100%;border-bottom: 1px solid gray;flex-grow: 1;}#sk-container-id-4 div.sk-label:hover label.sk-toggleable__label {background-color: #d4ebff;}#sk-container-id-4 div.sk-serial::before {content: \"\";position: absolute;border-left: 1px solid gray;box-sizing: border-box;top: 0;bottom: 0;left: 50%;z-index: 0;}#sk-container-id-4 div.sk-serial {display: flex;flex-direction: column;align-items: center;background-color: white;padding-right: 0.2em;padding-left: 0.2em;position: relative;}#sk-container-id-4 div.sk-item {position: relative;z-index: 1;}#sk-container-id-4 div.sk-parallel {display: flex;align-items: stretch;justify-content: center;background-color: white;position: relative;}#sk-container-id-4 div.sk-item::before, #sk-container-id-4 div.sk-parallel-item::before {content: \"\";position: absolute;border-left: 1px solid gray;box-sizing: border-box;top: 0;bottom: 0;left: 50%;z-index: -1;}#sk-container-id-4 div.sk-parallel-item {display: flex;flex-direction: column;z-index: 1;position: relative;background-color: white;}#sk-container-id-4 div.sk-parallel-item:first-child::after {align-self: flex-end;width: 50%;}#sk-container-id-4 div.sk-parallel-item:last-child::after {align-self: flex-start;width: 50%;}#sk-container-id-4 div.sk-parallel-item:only-child::after {width: 0;}#sk-container-id-4 div.sk-dashed-wrapped {border: 1px dashed gray;margin: 0 0.4em 0.5em 0.4em;box-sizing: border-box;padding-bottom: 0.4em;background-color: white;}#sk-container-id-4 div.sk-label label {font-family: monospace;font-weight: bold;display: inline-block;line-height: 1.2em;}#sk-container-id-4 div.sk-label-container {text-align: center;}#sk-container-id-4 div.sk-container {/* jupyter's `normalize.less` sets `[hidden] { display: none; }` but bootstrap.min.css set `[hidden] { display: none !important; }` so we also need the `!important` here to be able to override the default hidden behavior on the sphinx rendered scikit-learn.org. See: https://github.com/scikit-learn/scikit-learn/issues/21755 */display: inline-block !important;position: relative;}#sk-container-id-4 div.sk-text-repr-fallback {display: none;}</style><div id=\"sk-container-id-4\" class=\"sk-top-container\"><div class=\"sk-text-repr-fallback\"><pre>Pipeline(steps=[(&#x27;preprocessor&#x27;,\n",
       "                 ColumnTransformer(remainder=&#x27;passthrough&#x27;,\n",
       "                                   transformers=[(&#x27;cat&#x27;,\n",
       "                                                  OneHotEncoder(handle_unknown=&#x27;ignore&#x27;),\n",
       "                                                  [&#x27;Company Names&#x27;,\n",
       "                                                   &#x27;Cars Names&#x27;, &#x27;Engines&#x27;,\n",
       "                                                   &#x27;Fuel Types&#x27;])])),\n",
       "                (&#x27;model&#x27;, GradientBoostingRegressor(random_state=42))])</pre><b>In a Jupyter environment, please rerun this cell to show the HTML representation or trust the notebook. <br />On GitHub, the HTML representation is unable to render, please try loading this page with nbviewer.org.</b></div><div class=\"sk-container\" hidden><div class=\"sk-item sk-dashed-wrapped\"><div class=\"sk-label-container\"><div class=\"sk-label sk-toggleable\"><input class=\"sk-toggleable__control sk-hidden--visually\" id=\"sk-estimator-id-4\" type=\"checkbox\" ><label for=\"sk-estimator-id-4\" class=\"sk-toggleable__label sk-toggleable__label-arrow\">Pipeline</label><div class=\"sk-toggleable__content\"><pre>Pipeline(steps=[(&#x27;preprocessor&#x27;,\n",
       "                 ColumnTransformer(remainder=&#x27;passthrough&#x27;,\n",
       "                                   transformers=[(&#x27;cat&#x27;,\n",
       "                                                  OneHotEncoder(handle_unknown=&#x27;ignore&#x27;),\n",
       "                                                  [&#x27;Company Names&#x27;,\n",
       "                                                   &#x27;Cars Names&#x27;, &#x27;Engines&#x27;,\n",
       "                                                   &#x27;Fuel Types&#x27;])])),\n",
       "                (&#x27;model&#x27;, GradientBoostingRegressor(random_state=42))])</pre></div></div></div><div class=\"sk-serial\"><div class=\"sk-item sk-dashed-wrapped\"><div class=\"sk-label-container\"><div class=\"sk-label sk-toggleable\"><input class=\"sk-toggleable__control sk-hidden--visually\" id=\"sk-estimator-id-5\" type=\"checkbox\" ><label for=\"sk-estimator-id-5\" class=\"sk-toggleable__label sk-toggleable__label-arrow\">preprocessor: ColumnTransformer</label><div class=\"sk-toggleable__content\"><pre>ColumnTransformer(remainder=&#x27;passthrough&#x27;,\n",
       "                  transformers=[(&#x27;cat&#x27;, OneHotEncoder(handle_unknown=&#x27;ignore&#x27;),\n",
       "                                 [&#x27;Company Names&#x27;, &#x27;Cars Names&#x27;, &#x27;Engines&#x27;,\n",
       "                                  &#x27;Fuel Types&#x27;])])</pre></div></div></div><div class=\"sk-parallel\"><div class=\"sk-parallel-item\"><div class=\"sk-item\"><div class=\"sk-label-container\"><div class=\"sk-label sk-toggleable\"><input class=\"sk-toggleable__control sk-hidden--visually\" id=\"sk-estimator-id-6\" type=\"checkbox\" ><label for=\"sk-estimator-id-6\" class=\"sk-toggleable__label sk-toggleable__label-arrow\">cat</label><div class=\"sk-toggleable__content\"><pre>[&#x27;Company Names&#x27;, &#x27;Cars Names&#x27;, &#x27;Engines&#x27;, &#x27;Fuel Types&#x27;]</pre></div></div></div><div class=\"sk-serial\"><div class=\"sk-item\"><div class=\"sk-estimator sk-toggleable\"><input class=\"sk-toggleable__control sk-hidden--visually\" id=\"sk-estimator-id-7\" type=\"checkbox\" ><label for=\"sk-estimator-id-7\" class=\"sk-toggleable__label sk-toggleable__label-arrow\">OneHotEncoder</label><div class=\"sk-toggleable__content\"><pre>OneHotEncoder(handle_unknown=&#x27;ignore&#x27;)</pre></div></div></div></div></div></div><div class=\"sk-parallel-item\"><div class=\"sk-item\"><div class=\"sk-label-container\"><div class=\"sk-label sk-toggleable\"><input class=\"sk-toggleable__control sk-hidden--visually\" id=\"sk-estimator-id-8\" type=\"checkbox\" ><label for=\"sk-estimator-id-8\" class=\"sk-toggleable__label sk-toggleable__label-arrow\">remainder</label><div class=\"sk-toggleable__content\"><pre>[&#x27;Capacity&#x27;, &#x27;HorsePower&#x27;, &#x27;Total Speed&#x27;, &#x27;Performance&#x27;, &#x27;Seats&#x27;, &#x27;Torque&#x27;]</pre></div></div></div><div class=\"sk-serial\"><div class=\"sk-item\"><div class=\"sk-estimator sk-toggleable\"><input class=\"sk-toggleable__control sk-hidden--visually\" id=\"sk-estimator-id-9\" type=\"checkbox\" ><label for=\"sk-estimator-id-9\" class=\"sk-toggleable__label sk-toggleable__label-arrow\">passthrough</label><div class=\"sk-toggleable__content\"><pre>passthrough</pre></div></div></div></div></div></div></div></div><div class=\"sk-item\"><div class=\"sk-estimator sk-toggleable\"><input class=\"sk-toggleable__control sk-hidden--visually\" id=\"sk-estimator-id-10\" type=\"checkbox\" ><label for=\"sk-estimator-id-10\" class=\"sk-toggleable__label sk-toggleable__label-arrow\">GradientBoostingRegressor</label><div class=\"sk-toggleable__content\"><pre>GradientBoostingRegressor(random_state=42)</pre></div></div></div></div></div></div></div>"
      ],
      "text/plain": [
       "Pipeline(steps=[('preprocessor',\n",
       "                 ColumnTransformer(remainder='passthrough',\n",
       "                                   transformers=[('cat',\n",
       "                                                  OneHotEncoder(handle_unknown='ignore'),\n",
       "                                                  ['Company Names',\n",
       "                                                   'Cars Names', 'Engines',\n",
       "                                                   'Fuel Types'])])),\n",
       "                ('model', GradientBoostingRegressor(random_state=42))])"
      ]
     },
     "execution_count": 18,
     "metadata": {},
     "output_type": "execute_result"
    }
   ],
   "source": [
    "from sklearn.model_selection import train_test_split\n",
    "from sklearn.preprocessing import OneHotEncoder\n",
    "from sklearn.compose import ColumnTransformer\n",
    "from sklearn.pipeline import Pipeline\n",
    "from sklearn.tree import DecisionTreeRegressor\n",
    "from sklearn.ensemble import RandomForestRegressor, GradientBoostingRegressor\n",
    "\n",
    "# Define categorical columns\n",
    "cat_cols = [\"Company Names\", \"Cars Names\", \"Engines\", \"Fuel Types\"]\n",
    "\n",
    "# Preprocessing: OneHotEncoding for categorical variables\n",
    "preprocessor = ColumnTransformer(\n",
    "    transformers=[\n",
    "        (\"cat\", OneHotEncoder(handle_unknown=\"ignore\"), cat_cols)\n",
    "    ],\n",
    "    remainder=\"passthrough\"  # Keep the other (numeric) columns as is\n",
    ")\n",
    "\n",
    "# Now you can create pipelines for each model\n",
    "\n",
    "# 1. Decision Tree\n",
    "dt_pipeline = Pipeline([\n",
    "    (\"preprocessor\", preprocessor),\n",
    "    (\"model\", DecisionTreeRegressor(random_state=42))\n",
    "])\n",
    "dt_pipeline.fit(X_train, y_train)\n",
    "\n",
    "# 2. Random Forest\n",
    "rf_pipeline = Pipeline([\n",
    "    (\"preprocessor\", preprocessor),\n",
    "    (\"model\", RandomForestRegressor(n_estimators=100, random_state=42))\n",
    "])\n",
    "rf_pipeline.fit(X_train, y_train)\n",
    "\n",
    "# 3. Gradient Boosting\n",
    "gb_pipeline = Pipeline([\n",
    "    (\"preprocessor\", preprocessor),\n",
    "    (\"model\", GradientBoostingRegressor(n_estimators=100, learning_rate=0.1, random_state=42))\n",
    "])\n",
    "gb_pipeline.fit(X_train, y_train)\n"
   ]
  },
  {
   "cell_type": "code",
   "execution_count": 19,
   "id": "948748c2",
   "metadata": {},
   "outputs": [
    {
     "name": "stdout",
     "output_type": "stream",
     "text": [
      "\n",
      "Decision Tree Performance:\n",
      "MAE: 50688.66831683168\n",
      "RMSE: 395386.20716345677\n",
      "R2 Score: 0.6887361960745193\n",
      "\n",
      "Random Forest Performance:\n",
      "MAE: 62376.42625412542\n",
      "RMSE: 371426.5507660978\n",
      "R2 Score: 0.7253171903843478\n",
      "\n",
      "Gradient Boosting Performance:\n",
      "MAE: 78106.643683269\n",
      "RMSE: 423696.18040786264\n",
      "R2 Score: 0.6425669655083293\n"
     ]
    }
   ],
   "source": [
    "from sklearn.metrics import mean_absolute_error, mean_squared_error, r2_score\n",
    "\n",
    "# Use the pipeline models\n",
    "models = {\n",
    "    \"Decision Tree\": dt_pipeline,\n",
    "    \"Random Forest\": rf_pipeline,\n",
    "    \"Gradient Boosting\": gb_pipeline\n",
    "}\n",
    "\n",
    "# Evaluate each model\n",
    "for name, model in models.items():\n",
    "    preds = model.predict(X_test)\n",
    "    print(f\"\\n{name} Performance:\")\n",
    "    print(\"MAE:\", mean_absolute_error(y_test, preds))\n",
    "    print(\"RMSE:\", mean_squared_error(y_test, preds, squared=False))\n",
    "    print(\"R2 Score:\", r2_score(y_test, preds))\n"
   ]
  },
  {
   "cell_type": "code",
   "execution_count": 20,
   "id": "5a6a932b",
   "metadata": {},
   "outputs": [
    {
     "name": "stdout",
     "output_type": "stream",
     "text": [
      "Best Params: {'model__max_depth': 10, 'model__max_features': 'sqrt', 'model__min_samples_leaf': 1, 'model__min_samples_split': 2, 'model__n_estimators': 500}\n",
      "Best R2 Score: 0.5849251746784466\n"
     ]
    }
   ],
   "source": [
    "#Hyperparameter Tuning\n",
    "from sklearn.model_selection import GridSearchCV\n",
    "\n",
    "param_grid = {\n",
    "    \"model__n_estimators\": [100, 200, 500],\n",
    "    \"model__max_depth\": [None, 10, 20],\n",
    "    \"model__min_samples_split\": [2, 5, 10],\n",
    "    \"model__min_samples_leaf\": [1, 2, 4],\n",
    "    \"model__max_features\": [\"sqrt\", \"log2\"]\n",
    "}\n",
    "\n",
    "grid_search = GridSearchCV(\n",
    "    estimator=rf_pipeline,\n",
    "    param_grid=param_grid,\n",
    "    cv=5,\n",
    "    n_jobs=-1,\n",
    "    scoring=\"r2\"\n",
    ")\n",
    "\n",
    "grid_search.fit(X_train, y_train)\n",
    "print(\"Best Params:\", grid_search.best_params_)\n",
    "print(\"Best R2 Score:\", grid_search.best_score_)"
   ]
  },
  {
   "cell_type": "code",
   "execution_count": 21,
   "id": "dfdef3a4",
   "metadata": {},
   "outputs": [
    {
     "name": "stdout",
     "output_type": "stream",
     "text": [
      "Cross-validated R2: 0.2567600191735243\n"
     ]
    }
   ],
   "source": [
    "#Model Evaluation with Cross-Validation\n",
    "from sklearn.model_selection import cross_val_score\n",
    "\n",
    "scores = cross_val_score(rf_pipeline, X, y, cv=5, scoring=\"r2\")\n",
    "print(\"Cross-validated R2:\", scores.mean())\n"
   ]
  },
  {
   "cell_type": "code",
   "execution_count": 22,
   "id": "dca58e3e",
   "metadata": {},
   "outputs": [
    {
     "name": "stdout",
     "output_type": "stream",
     "text": [
      "              Feature  Importance\n",
      "427    Cars Names_499    0.389224\n",
      "1076      Total Speed    0.289693\n",
      "1075       HorsePower    0.130565\n",
      "1078            Seats    0.049843\n",
      "100     Cars Names_82    0.031948\n",
      "958       Engines_148    0.021160\n",
      "5     Company Names_5    0.020624\n",
      "1036      Engines_233    0.017629\n",
      "1074         Capacity    0.007806\n",
      "292    Cars Names_328    0.006878\n"
     ]
    }
   ],
   "source": [
    "#Feature Importance\n",
    "import pandas as pd\n",
    "\n",
    "# Extract the trained model inside the pipeline\n",
    "rf_model = rf_pipeline.named_steps[\"model\"]\n",
    "\n",
    "# One-hot encoder feature names\n",
    "ohe = rf_pipeline.named_steps[\"preprocessor\"].named_transformers_[\"cat\"]\n",
    "feature_names = ohe.get_feature_names_out(cat_cols)\n",
    "all_features = list(feature_names) + [col for col in X.columns if col not in cat_cols]\n",
    "\n",
    "# Feature importances\n",
    "importances = rf_model.feature_importances_\n",
    "feat_importances = pd.DataFrame({\"Feature\": all_features, \"Importance\": importances})\n",
    "feat_importances = feat_importances.sort_values(by=\"Importance\", ascending=False)\n",
    "\n",
    "print(feat_importances.head(10))\n"
   ]
  },
  {
   "cell_type": "code",
   "execution_count": 23,
   "id": "c962c18c",
   "metadata": {},
   "outputs": [],
   "source": [
    "# ColumnTransformer to OneHotEncode categorical columns\n",
    "preprocessor = ColumnTransformer(\n",
    "    transformers=[\n",
    "        (\"cat\", OneHotEncoder(handle_unknown=\"ignore\", sparse_output=False), cat_cols)\n",
    "    ],\n",
    "    remainder=\"passthrough\"\n",
    ")\n"
   ]
  },
  {
   "cell_type": "code",
   "execution_count": 24,
   "id": "a3bb1391",
   "metadata": {},
   "outputs": [
    {
     "data": {
      "text/html": [
       "<style>#sk-container-id-5 {color: black;background-color: white;}#sk-container-id-5 pre{padding: 0;}#sk-container-id-5 div.sk-toggleable {background-color: white;}#sk-container-id-5 label.sk-toggleable__label {cursor: pointer;display: block;width: 100%;margin-bottom: 0;padding: 0.3em;box-sizing: border-box;text-align: center;}#sk-container-id-5 label.sk-toggleable__label-arrow:before {content: \"▸\";float: left;margin-right: 0.25em;color: #696969;}#sk-container-id-5 label.sk-toggleable__label-arrow:hover:before {color: black;}#sk-container-id-5 div.sk-estimator:hover label.sk-toggleable__label-arrow:before {color: black;}#sk-container-id-5 div.sk-toggleable__content {max-height: 0;max-width: 0;overflow: hidden;text-align: left;background-color: #f0f8ff;}#sk-container-id-5 div.sk-toggleable__content pre {margin: 0.2em;color: black;border-radius: 0.25em;background-color: #f0f8ff;}#sk-container-id-5 input.sk-toggleable__control:checked~div.sk-toggleable__content {max-height: 200px;max-width: 100%;overflow: auto;}#sk-container-id-5 input.sk-toggleable__control:checked~label.sk-toggleable__label-arrow:before {content: \"▾\";}#sk-container-id-5 div.sk-estimator input.sk-toggleable__control:checked~label.sk-toggleable__label {background-color: #d4ebff;}#sk-container-id-5 div.sk-label input.sk-toggleable__control:checked~label.sk-toggleable__label {background-color: #d4ebff;}#sk-container-id-5 input.sk-hidden--visually {border: 0;clip: rect(1px 1px 1px 1px);clip: rect(1px, 1px, 1px, 1px);height: 1px;margin: -1px;overflow: hidden;padding: 0;position: absolute;width: 1px;}#sk-container-id-5 div.sk-estimator {font-family: monospace;background-color: #f0f8ff;border: 1px dotted black;border-radius: 0.25em;box-sizing: border-box;margin-bottom: 0.5em;}#sk-container-id-5 div.sk-estimator:hover {background-color: #d4ebff;}#sk-container-id-5 div.sk-parallel-item::after {content: \"\";width: 100%;border-bottom: 1px solid gray;flex-grow: 1;}#sk-container-id-5 div.sk-label:hover label.sk-toggleable__label {background-color: #d4ebff;}#sk-container-id-5 div.sk-serial::before {content: \"\";position: absolute;border-left: 1px solid gray;box-sizing: border-box;top: 0;bottom: 0;left: 50%;z-index: 0;}#sk-container-id-5 div.sk-serial {display: flex;flex-direction: column;align-items: center;background-color: white;padding-right: 0.2em;padding-left: 0.2em;position: relative;}#sk-container-id-5 div.sk-item {position: relative;z-index: 1;}#sk-container-id-5 div.sk-parallel {display: flex;align-items: stretch;justify-content: center;background-color: white;position: relative;}#sk-container-id-5 div.sk-item::before, #sk-container-id-5 div.sk-parallel-item::before {content: \"\";position: absolute;border-left: 1px solid gray;box-sizing: border-box;top: 0;bottom: 0;left: 50%;z-index: -1;}#sk-container-id-5 div.sk-parallel-item {display: flex;flex-direction: column;z-index: 1;position: relative;background-color: white;}#sk-container-id-5 div.sk-parallel-item:first-child::after {align-self: flex-end;width: 50%;}#sk-container-id-5 div.sk-parallel-item:last-child::after {align-self: flex-start;width: 50%;}#sk-container-id-5 div.sk-parallel-item:only-child::after {width: 0;}#sk-container-id-5 div.sk-dashed-wrapped {border: 1px dashed gray;margin: 0 0.4em 0.5em 0.4em;box-sizing: border-box;padding-bottom: 0.4em;background-color: white;}#sk-container-id-5 div.sk-label label {font-family: monospace;font-weight: bold;display: inline-block;line-height: 1.2em;}#sk-container-id-5 div.sk-label-container {text-align: center;}#sk-container-id-5 div.sk-container {/* jupyter's `normalize.less` sets `[hidden] { display: none; }` but bootstrap.min.css set `[hidden] { display: none !important; }` so we also need the `!important` here to be able to override the default hidden behavior on the sphinx rendered scikit-learn.org. See: https://github.com/scikit-learn/scikit-learn/issues/21755 */display: inline-block !important;position: relative;}#sk-container-id-5 div.sk-text-repr-fallback {display: none;}</style><div id=\"sk-container-id-5\" class=\"sk-top-container\"><div class=\"sk-text-repr-fallback\"><pre>Pipeline(steps=[(&#x27;preprocessor&#x27;,\n",
       "                 ColumnTransformer(remainder=&#x27;passthrough&#x27;,\n",
       "                                   transformers=[(&#x27;cat&#x27;,\n",
       "                                                  OneHotEncoder(handle_unknown=&#x27;ignore&#x27;,\n",
       "                                                                sparse_output=False),\n",
       "                                                  [&#x27;Company Names&#x27;,\n",
       "                                                   &#x27;Cars Names&#x27;, &#x27;Engines&#x27;,\n",
       "                                                   &#x27;Fuel Types&#x27;])])),\n",
       "                (&#x27;model&#x27;, BayesianRidge())])</pre><b>In a Jupyter environment, please rerun this cell to show the HTML representation or trust the notebook. <br />On GitHub, the HTML representation is unable to render, please try loading this page with nbviewer.org.</b></div><div class=\"sk-container\" hidden><div class=\"sk-item sk-dashed-wrapped\"><div class=\"sk-label-container\"><div class=\"sk-label sk-toggleable\"><input class=\"sk-toggleable__control sk-hidden--visually\" id=\"sk-estimator-id-11\" type=\"checkbox\" ><label for=\"sk-estimator-id-11\" class=\"sk-toggleable__label sk-toggleable__label-arrow\">Pipeline</label><div class=\"sk-toggleable__content\"><pre>Pipeline(steps=[(&#x27;preprocessor&#x27;,\n",
       "                 ColumnTransformer(remainder=&#x27;passthrough&#x27;,\n",
       "                                   transformers=[(&#x27;cat&#x27;,\n",
       "                                                  OneHotEncoder(handle_unknown=&#x27;ignore&#x27;,\n",
       "                                                                sparse_output=False),\n",
       "                                                  [&#x27;Company Names&#x27;,\n",
       "                                                   &#x27;Cars Names&#x27;, &#x27;Engines&#x27;,\n",
       "                                                   &#x27;Fuel Types&#x27;])])),\n",
       "                (&#x27;model&#x27;, BayesianRidge())])</pre></div></div></div><div class=\"sk-serial\"><div class=\"sk-item sk-dashed-wrapped\"><div class=\"sk-label-container\"><div class=\"sk-label sk-toggleable\"><input class=\"sk-toggleable__control sk-hidden--visually\" id=\"sk-estimator-id-12\" type=\"checkbox\" ><label for=\"sk-estimator-id-12\" class=\"sk-toggleable__label sk-toggleable__label-arrow\">preprocessor: ColumnTransformer</label><div class=\"sk-toggleable__content\"><pre>ColumnTransformer(remainder=&#x27;passthrough&#x27;,\n",
       "                  transformers=[(&#x27;cat&#x27;,\n",
       "                                 OneHotEncoder(handle_unknown=&#x27;ignore&#x27;,\n",
       "                                               sparse_output=False),\n",
       "                                 [&#x27;Company Names&#x27;, &#x27;Cars Names&#x27;, &#x27;Engines&#x27;,\n",
       "                                  &#x27;Fuel Types&#x27;])])</pre></div></div></div><div class=\"sk-parallel\"><div class=\"sk-parallel-item\"><div class=\"sk-item\"><div class=\"sk-label-container\"><div class=\"sk-label sk-toggleable\"><input class=\"sk-toggleable__control sk-hidden--visually\" id=\"sk-estimator-id-13\" type=\"checkbox\" ><label for=\"sk-estimator-id-13\" class=\"sk-toggleable__label sk-toggleable__label-arrow\">cat</label><div class=\"sk-toggleable__content\"><pre>[&#x27;Company Names&#x27;, &#x27;Cars Names&#x27;, &#x27;Engines&#x27;, &#x27;Fuel Types&#x27;]</pre></div></div></div><div class=\"sk-serial\"><div class=\"sk-item\"><div class=\"sk-estimator sk-toggleable\"><input class=\"sk-toggleable__control sk-hidden--visually\" id=\"sk-estimator-id-14\" type=\"checkbox\" ><label for=\"sk-estimator-id-14\" class=\"sk-toggleable__label sk-toggleable__label-arrow\">OneHotEncoder</label><div class=\"sk-toggleable__content\"><pre>OneHotEncoder(handle_unknown=&#x27;ignore&#x27;, sparse_output=False)</pre></div></div></div></div></div></div><div class=\"sk-parallel-item\"><div class=\"sk-item\"><div class=\"sk-label-container\"><div class=\"sk-label sk-toggleable\"><input class=\"sk-toggleable__control sk-hidden--visually\" id=\"sk-estimator-id-15\" type=\"checkbox\" ><label for=\"sk-estimator-id-15\" class=\"sk-toggleable__label sk-toggleable__label-arrow\">remainder</label><div class=\"sk-toggleable__content\"><pre>[&#x27;Capacity&#x27;, &#x27;HorsePower&#x27;, &#x27;Total Speed&#x27;, &#x27;Performance&#x27;, &#x27;Seats&#x27;, &#x27;Torque&#x27;]</pre></div></div></div><div class=\"sk-serial\"><div class=\"sk-item\"><div class=\"sk-estimator sk-toggleable\"><input class=\"sk-toggleable__control sk-hidden--visually\" id=\"sk-estimator-id-16\" type=\"checkbox\" ><label for=\"sk-estimator-id-16\" class=\"sk-toggleable__label sk-toggleable__label-arrow\">passthrough</label><div class=\"sk-toggleable__content\"><pre>passthrough</pre></div></div></div></div></div></div></div></div><div class=\"sk-item\"><div class=\"sk-estimator sk-toggleable\"><input class=\"sk-toggleable__control sk-hidden--visually\" id=\"sk-estimator-id-17\" type=\"checkbox\" ><label for=\"sk-estimator-id-17\" class=\"sk-toggleable__label sk-toggleable__label-arrow\">BayesianRidge</label><div class=\"sk-toggleable__content\"><pre>BayesianRidge()</pre></div></div></div></div></div></div></div>"
      ],
      "text/plain": [
       "Pipeline(steps=[('preprocessor',\n",
       "                 ColumnTransformer(remainder='passthrough',\n",
       "                                   transformers=[('cat',\n",
       "                                                  OneHotEncoder(handle_unknown='ignore',\n",
       "                                                                sparse_output=False),\n",
       "                                                  ['Company Names',\n",
       "                                                   'Cars Names', 'Engines',\n",
       "                                                   'Fuel Types'])])),\n",
       "                ('model', BayesianRidge())])"
      ]
     },
     "execution_count": 24,
     "metadata": {},
     "output_type": "execute_result"
    }
   ],
   "source": [
    "from sklearn.linear_model import BayesianRidge\n",
    "\n",
    "# Bayesian Ridge Regression pipeline\n",
    "br_pipeline = Pipeline([\n",
    "    (\"preprocessor\", preprocessor),\n",
    "    (\"model\", BayesianRidge())\n",
    "])\n",
    "\n",
    "# Fit on training data\n",
    "br_pipeline.fit(X_train, y_train)\n"
   ]
  },
  {
   "cell_type": "code",
   "execution_count": 25,
   "id": "f97bed26",
   "metadata": {},
   "outputs": [
    {
     "name": "stdout",
     "output_type": "stream",
     "text": [
      "\n",
      "Decision Tree Performance:\n",
      "MAE: 50688.66831683168\n",
      "RMSE: 395386.20716345677\n",
      "R2 Score: 0.6887361960745193\n",
      "\n",
      "Random Forest Performance:\n",
      "MAE: 62376.42625412542\n",
      "RMSE: 371426.5507660978\n",
      "R2 Score: 0.7253171903843478\n",
      "\n",
      "Gradient Boosting Performance:\n",
      "MAE: 78106.643683269\n",
      "RMSE: 423696.18040786264\n",
      "R2 Score: 0.6425669655083293\n",
      "\n",
      "Bayesian Ridge Performance:\n",
      "MAE: 163859.3333934046\n",
      "RMSE: 359581.40901339834\n",
      "R2 Score: 0.7425576150312256\n"
     ]
    }
   ],
   "source": [
    "from sklearn.metrics import mean_absolute_error, mean_squared_error, r2_score\n",
    "\n",
    "models = {\n",
    "    \"Decision Tree\": dt_pipeline,\n",
    "    \"Random Forest\": rf_pipeline,\n",
    "    \"Gradient Boosting\": gb_pipeline,\n",
    "    \"Bayesian Ridge\": br_pipeline\n",
    "}\n",
    "\n",
    "for name, model in models.items():\n",
    "    preds = model.predict(X_test)\n",
    "    print(f\"\\n{name} Performance:\")\n",
    "    print(\"MAE:\", mean_absolute_error(y_test, preds))\n",
    "    print(\"RMSE:\", mean_squared_error(y_test, preds, squared=False))\n",
    "    print(\"R2 Score:\", r2_score(y_test, preds))\n"
   ]
  },
  {
   "cell_type": "code",
   "execution_count": 27,
   "id": "7c6219e1",
   "metadata": {},
   "outputs": [
    {
     "name": "stdout",
     "output_type": "stream",
     "text": [
      "Columns found: ['Company Names', 'Cars Names', 'Engines', 'Capacity', 'HorsePower', 'Total Speed', 'Performance', 'Cars Prices', 'Fuel Types', 'Seats', 'Torque']\n",
      "\n",
      "=== Decision Tree — Test Performance (raw) ===\n",
      "R²:   0.7829\n",
      "MAE:  50,304\n",
      "RMSE: 330,243\n"
     ]
    },
    {
     "data": {
      "image/png": "[encoded data removed]",
      "text/plain": [
       "<Figure size 576x576 with 1 Axes>"
      ]
     },
     "metadata": {
      "needs_background": "light"
     },
     "output_type": "display_data"
    },
    {
     "data": {
      "image/png": "[encoded data removed]",
      "text/plain": [
       "<Figure size 576x432 with 1 Axes>"
      ]
     },
     "metadata": {
      "needs_background": "light"
     },
     "output_type": "display_data"
    }
   ],
   "source": [
    "# === Decision Tree: Actual vs Fitted (with safe back-transform) ===\n",
    "import re\n",
    "import numpy as np\n",
    "import pandas as pd\n",
    "import unicodedata as ud\n",
    "import matplotlib.pyplot as plt\n",
    "from matplotlib.ticker import FuncFormatter\n",
    "\n",
    "from sklearn.model_selection import train_test_split\n",
    "from sklearn.tree import DecisionTreeRegressor\n",
    "from sklearn.pipeline import Pipeline\n",
    "from sklearn.compose import ColumnTransformer\n",
    "from sklearn.preprocessing import FunctionTransformer\n",
    "from sklearn.impute import SimpleImputer\n",
    "from sklearn.decomposition import TruncatedSVD\n",
    "from sklearn.feature_extraction.text import TfidfVectorizer\n",
    "from sklearn.metrics import r2_score, mean_absolute_error, mean_squared_error\n",
    "\n",
    "# ---------- 1) CONFIG ----------\n",
    "file_path = \"NewCopy15cleanCarsCopy1df_filtered.csv\"\n",
    "text_cols = [\"Company Names\", \"Cars Names\", \"Fuel Types\"]\n",
    "num_cols  = [\"HorsePower\", \"Total Speed\", \"Seats\"]\n",
    "target    = \"Cars Prices\"\n",
    "\n",
    "# ---------- 2) LOAD & CLEAN ----------\n",
    "def _clean_col(s: str) -> str:\n",
    "    s = ud.normalize(\"NFKC\", str(s))\n",
    "    s = s.replace(\"\\ufeff\", \"\").replace(\"\\u200b\", \"\").replace(\"\\u200c\", \"\").replace(\"\\u200d\", \"\")\n",
    "    return \" \".join(s.strip().split())\n",
    "\n",
    "def to_number(series: pd.Series) -> pd.Series:\n",
    "    # e.g. \"220 km/h\" -> 220 ; \"150 hp\" -> 150 ; \"1,234\" -> 1234\n",
    "    return pd.to_numeric(series.astype(str).str.replace(r\"[^\\d.]+\", \"\", regex=True), errors=\"coerce\")\n",
    "\n",
    "df = pd.read_csv(file_path, encoding=\"utf-8-sig\", thousands=\",\")\n",
    "df.columns = [_clean_col(c) for c in df.columns]\n",
    "\n",
    "# coerce numerics\n",
    "if target not in df.columns:\n",
    "    raise KeyError(f\"Missing target column: {target}\")\n",
    "df[target] = to_number(df[target])\n",
    "\n",
    "for c in [\"HorsePower\", \"Total Speed\", \"Seats\"]:\n",
    "    if c in df.columns:\n",
    "        # Seats is often already numeric; to_number is robust either way\n",
    "        df[c] = to_number(df[c])\n",
    "\n",
    "# keep only rows with price\n",
    "df = df.dropna(subset=[target]).reset_index(drop=True)\n",
    "\n",
    "# sanity: ensure required columns exist\n",
    "missing = set(text_cols + num_cols + [target]) - set(df.columns)\n",
    "if missing:\n",
    "    raise KeyError(f\"Missing columns: {missing}\")\n",
    "\n",
    "print(\"Columns found:\", list(df.columns))\n",
    "\n",
    "# ---------- 3) FEATURES & SPLIT ----------\n",
    "def combine_text(X):\n",
    "    \"\"\"Combine selected text columns into a single string per row.\"\"\"\n",
    "    if isinstance(X, pd.DataFrame):\n",
    "        return (X.astype(str).agg(\" \".join, axis=1)).to_numpy()\n",
    "    return (pd.DataFrame(X).astype(str).agg(\" \".join, axis=1)).to_numpy()\n",
    "\n",
    "X = df[text_cols + num_cols]\n",
    "y = np.log1p(df[target])  # log target for stability\n",
    "\n",
    "X_train, X_test, y_train, y_test = train_test_split(\n",
    "    X, y, test_size=0.20, random_state=42\n",
    ")\n",
    "\n",
    "# ---------- 4) PREPROCESSING ----------\n",
    "# Trees don't like huge sparse TF-IDF matrices; compress with SVD to a dense, compact set.\n",
    "text_pipe = Pipeline(steps=[\n",
    "    (\"combine\", FunctionTransformer(combine_text, validate=False)),\n",
    "    (\"tfidf\", TfidfVectorizer(\n",
    "        lowercase=True,\n",
    "        ngram_range=(1, 2),\n",
    "        min_df=3,\n",
    "        max_features=30000,\n",
    "        token_pattern=r\"(?u)\\b[\\w\\.-]+\\b\"\n",
    "    )),\n",
    "    (\"svd\", TruncatedSVD(n_components=100, random_state=42))   # try 50 if you see overfitting\n",
    "])\n",
    "\n",
    "num_pipe = Pipeline(steps=[\n",
    "    (\"imp\", SimpleImputer(strategy=\"median\")),                 # scaling not needed for trees\n",
    "])\n",
    "\n",
    "pre = ColumnTransformer([\n",
    "    (\"text\", text_pipe, text_cols),\n",
    "    (\"num\",  num_pipe,  num_cols),\n",
    "])\n",
    "\n",
    "# ---------- 5) MODEL ----------\n",
    "dt = DecisionTreeRegressor(\n",
    "    max_depth=20,        # tune: lower (e.g., 16) if overfitting / wild preds\n",
    "    min_samples_leaf=2,  # small regularization\n",
    "    random_state=42\n",
    ")\n",
    "\n",
    "dt_model = Pipeline([\n",
    "    (\"pre\", pre),\n",
    "    (\"dt\", dt)\n",
    "])\n",
    "\n",
    "# ---------- 6) FIT ----------\n",
    "dt_model.fit(X_train, y_train)\n",
    "\n",
    "# ---------- 7) PREDICT (safe back-transform) ----------\n",
    "def safe_expm1(a, clip=30.0):\n",
    "    \"\"\"Exponential with clipping in log-space to avoid overflow to inf.\"\"\"\n",
    "    a = np.asarray(a, dtype=float)\n",
    "    a = np.clip(a, -clip, clip)  # exp(30) ~ 1.07e13\n",
    "    return np.expm1(a)\n",
    "\n",
    "y_true = np.expm1(y_test)\n",
    "y_pred_log = dt_model.predict(X_test)\n",
    "y_fit = safe_expm1(y_pred_log, clip=30.0)\n",
    "\n",
    "# mask any non-finite values (just in case)\n",
    "mask = np.isfinite(y_true) & np.isfinite(y_fit) & (y_true < 1e15) & (y_fit < 1e15)\n",
    "dropped = int((~mask).sum())\n",
    "if dropped:\n",
    "    print(f\"Dropped {dropped} row(s) with non-finite/overflow values for metrics/plot.\")\n",
    "y_true_m = y_true[mask]\n",
    "y_fit_m  = y_fit[mask]\n",
    "\n",
    "# ---------- 8) METRICS ----------\n",
    "r2   = r2_score(y_true_m, y_fit_m)\n",
    "mae  = mean_absolute_error(y_true_m, y_fit_m)\n",
    "rmse = mean_squared_error(y_true_m, y_fit_m, squared=False)\n",
    "\n",
    "print(\"\\n=== Decision Tree — Test Performance (raw) ===\")\n",
    "print(f\"R²:   {r2:.4f}\")\n",
    "print(f\"MAE:  {mae:,.0f}\")\n",
    "print(f\"RMSE: {rmse:,.0f}\")\n",
    "\n",
    "# ---------- 9) PLOTS ----------\n",
    "# Actual vs Fitted\n",
    "mn = float(np.nanmin([y_true_m.min(), y_fit_m.min()]))\n",
    "mx = float(np.nanmax([y_true_m.max(), y_fit_m.max()]))\n",
    "\n",
    "fig, ax = plt.subplots(figsize=(8, 8))\n",
    "ax.scatter(y_true_m, y_fit_m, alpha=0.35, s=25, edgecolor=\"none\", label=\"DT predictions\")\n",
    "ax.plot([mn, mx], [mn, mx], linestyle=\"--\", linewidth=2, label=\"Ideal: y = x\")\n",
    "\n",
    "# simple linear fit to visualize bias\n",
    "m, b = np.polyfit(y_true_m, y_fit_m, 1)\n",
    "ax.plot([mn, mx], [m*mn + b, m*mx + b], linewidth=1, label=f\"Fit: y = {m:.2f}x + {b:.0f}\")\n",
    "\n",
    "ax.set_xlim(mn, mx); ax.set_ylim(mn, mx)\n",
    "ax.set_xlabel(\"Actual price\"); ax.set_ylabel(\"Fitted price\")\n",
    "ax.set_title(\"Decision Tree — Actual vs Fitted (Test)\")\n",
    "\n",
    "fmt = FuncFormatter(lambda x, _ : f\"{x:,.0f}\")\n",
    "ax.xaxis.set_major_formatter(fmt); ax.yaxis.set_major_formatter(fmt)\n",
    "\n",
    "ax.grid(True, alpha=0.3)\n",
    "ax.legend(loc=\"lower right\")  # bottom-right legend\n",
    "\n",
    "# metrics box\n",
    "ax.text(\n",
    "    0.02, 0.98,\n",
    "    f\"R² = {r2:.3f}\\nMAE = {mae:,.0f}\\nRMSE = {rmse:,.0f}\",\n",
    "    transform=ax.transAxes, va=\"top\", ha=\"left\",\n",
    "    bbox=dict(boxstyle=\"round\", facecolor=\"white\", alpha=0.85, edgecolor=\"none\")\n",
    ")\n",
    "\n",
    "plt.tight_layout()\n",
    "# plt.savefig(\"dt_actual_vs_fitted_test.png\", dpi=200)\n",
    "plt.show()\n",
    "\n",
    "# Residuals vs Fitted (optional)\n",
    "resid = y_true_m - y_fit_m\n",
    "fig, ax = plt.subplots(figsize=(8, 6))\n",
    "ax.scatter(y_fit_m, resid, alpha=0.35, s=25, edgecolor=\"none\")\n",
    "ax.axhline(0, linestyle=\"--\", linewidth=2)\n",
    "ax.set_xlabel(\"Fitted price (DT)\")\n",
    "ax.set_ylabel(\"Residual (Actual - Fitted)\")\n",
    "ax.set_title(\"Decision Tree — Residuals vs Fitted (Test)\")\n",
    "ax.grid(True, alpha=0.3)\n",
    "plt.tight_layout()\n",
    "plt.show()\n"
   ]
  }
 ],
 "metadata": {
  "kernelspec": {
   "display_name": "base",
   "language": "python",
   "name": "python3"
  },
  "language_info": {
   "codemirror_mode": {
    "name": "ipython",
    "version": 3
   },
   "file_extension": ".py",
   "mimetype": "text/x-python",
   "name": "python",
   "nbconvert_exporter": "python",
   "pygments_lexer": "ipython3",
   "version": "3.9.12"
  }
 },
 "nbformat": 4,
 "nbformat_minor": 5
}
