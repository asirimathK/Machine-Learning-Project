{
 "cells": [
  {
   "cell_type": "code",
   "execution_count": 1,
   "id": "1807534d-3d29-48f6-8b05-a258f70752ad",
   "metadata": {},
   "outputs": [],
   "source": [
    "import pandas as pd\n",
    "import numpy as np"
   ]
  },
  {
   "cell_type": "code",
   "execution_count": 20,
   "id": "26705940-a20b-406b-96a5-b2872a2ac46e",
   "metadata": {},
   "outputs": [],
   "source": [
    "cars_df = pd.read_csv('.ipynb_checkpoints/CarsDatasets2025.csv',encoding=\"ISO-8859-1\")"
   ]
  },
  {
   "cell_type": "code",
   "execution_count": 21,
   "id": "b63c1434-54cb-46d7-b693-8f547e0fcd03",
   "metadata": {},
   "outputs": [
    {
     "data": {
      "text/html": [
       "<div>\n",
       "<style scoped>\n",
       "    .dataframe tbody tr th:only-of-type {\n",
       "        vertical-align: middle;\n",
       "    }\n",
       "\n",
       "    .dataframe tbody tr th {\n",
       "        vertical-align: top;\n",
       "    }\n",
       "\n",
       "    .dataframe thead th {\n",
       "        text-align: right;\n",
       "    }\n",
       "</style>\n",
       "<table border=\"1\" class=\"dataframe\">\n",
       "  <thead>\n",
       "    <tr style=\"text-align: right;\">\n",
       "      <th></th>\n",
       "      <th>Company Names</th>\n",
       "      <th>Cars Names</th>\n",
       "      <th>Engines</th>\n",
       "      <th>CC/Battery Capacity</th>\n",
       "      <th>HorsePower</th>\n",
       "      <th>Total Speed</th>\n",
       "      <th>Performance(0 - 100 )KM/H</th>\n",
       "      <th>Cars Prices</th>\n",
       "      <th>Fuel Types</th>\n",
       "      <th>Seats</th>\n",
       "      <th>Torque</th>\n",
       "    </tr>\n",
       "  </thead>\n",
       "  <tbody>\n",
       "    <tr>\n",
       "      <th>0</th>\n",
       "      <td>FERRARI</td>\n",
       "      <td>SF90 STRADALE</td>\n",
       "      <td>V8</td>\n",
       "      <td>3990 cc</td>\n",
       "      <td>963 hp</td>\n",
       "      <td>340 km/h</td>\n",
       "      <td>2.5 sec</td>\n",
       "      <td>$1,100,000</td>\n",
       "      <td>plug in hyrbrid</td>\n",
       "      <td>2</td>\n",
       "      <td>800 Nm</td>\n",
       "    </tr>\n",
       "    <tr>\n",
       "      <th>1</th>\n",
       "      <td>ROLLS ROYCE</td>\n",
       "      <td>PHANTOM</td>\n",
       "      <td>V12</td>\n",
       "      <td>6749 cc</td>\n",
       "      <td>563 hp</td>\n",
       "      <td>250 km/h</td>\n",
       "      <td>5.3 sec</td>\n",
       "      <td>$460,000</td>\n",
       "      <td>Petrol</td>\n",
       "      <td>5</td>\n",
       "      <td>900 Nm</td>\n",
       "    </tr>\n",
       "    <tr>\n",
       "      <th>2</th>\n",
       "      <td>Ford</td>\n",
       "      <td>KA+</td>\n",
       "      <td>1.2L Petrol</td>\n",
       "      <td>1,200 cc</td>\n",
       "      <td>70-85 hp</td>\n",
       "      <td>165 km/h</td>\n",
       "      <td>10.5 sec</td>\n",
       "      <td>$12,000-$15,000</td>\n",
       "      <td>Petrol</td>\n",
       "      <td>5</td>\n",
       "      <td>100 - 140 Nm</td>\n",
       "    </tr>\n",
       "    <tr>\n",
       "      <th>3</th>\n",
       "      <td>MERCEDES</td>\n",
       "      <td>GT 63 S</td>\n",
       "      <td>V8</td>\n",
       "      <td>3,982 cc</td>\n",
       "      <td>630 hp</td>\n",
       "      <td>250 km/h</td>\n",
       "      <td>3.2 sec</td>\n",
       "      <td>$161,000</td>\n",
       "      <td>Petrol</td>\n",
       "      <td>4</td>\n",
       "      <td>900 Nm</td>\n",
       "    </tr>\n",
       "    <tr>\n",
       "      <th>4</th>\n",
       "      <td>AUDI</td>\n",
       "      <td>AUDI R8 Gt</td>\n",
       "      <td>V10</td>\n",
       "      <td>5,204 cc</td>\n",
       "      <td>602 hp</td>\n",
       "      <td>320 km/h</td>\n",
       "      <td>3.6 sec</td>\n",
       "      <td>$253,290</td>\n",
       "      <td>Petrol</td>\n",
       "      <td>2</td>\n",
       "      <td>560 Nm</td>\n",
       "    </tr>\n",
       "  </tbody>\n",
       "</table>\n",
       "</div>"
      ],
      "text/plain": [
       "  Company Names     Cars Names      Engines CC/Battery Capacity HorsePower  \\\n",
       "0       FERRARI  SF90 STRADALE           V8             3990 cc     963 hp   \n",
       "1   ROLLS ROYCE        PHANTOM          V12             6749 cc     563 hp   \n",
       "2          Ford            KA+  1.2L Petrol            1,200 cc   70-85 hp   \n",
       "3      MERCEDES        GT 63 S           V8            3,982 cc     630 hp   \n",
       "4          AUDI     AUDI R8 Gt          V10            5,204 cc     602 hp   \n",
       "\n",
       "  Total Speed Performance(0 - 100 )KM/H      Cars Prices       Fuel Types  \\\n",
       "0    340 km/h                   2.5 sec      $1,100,000   plug in hyrbrid   \n",
       "1    250 km/h                   5.3 sec        $460,000            Petrol   \n",
       "2    165 km/h                  10.5 sec  $12,000-$15,000           Petrol   \n",
       "3    250 km/h                   3.2 sec        $161,000            Petrol   \n",
       "4    320 km/h                   3.6 sec        $253,290            Petrol   \n",
       "\n",
       "  Seats        Torque  \n",
       "0     2        800 Nm  \n",
       "1     5        900 Nm  \n",
       "2     5  100 - 140 Nm  \n",
       "3     4        900 Nm  \n",
       "4     2        560 Nm  "
      ]
     },
     "execution_count": 21,
     "metadata": {},
     "output_type": "execute_result"
    }
   ],
   "source": [
    "cars_df.head()"
   ]
  },
  {
   "cell_type": "code",
   "execution_count": 22,
   "id": "4c858317-955b-4a50-9ceb-dc273dbe706a",
   "metadata": {},
   "outputs": [
    {
     "data": {
      "text/html": [
       "<div>\n",
       "<style scoped>\n",
       "    .dataframe tbody tr th:only-of-type {\n",
       "        vertical-align: middle;\n",
       "    }\n",
       "\n",
       "    .dataframe tbody tr th {\n",
       "        vertical-align: top;\n",
       "    }\n",
       "\n",
       "    .dataframe thead th {\n",
       "        text-align: right;\n",
       "    }\n",
       "</style>\n",
       "<table border=\"1\" class=\"dataframe\">\n",
       "  <thead>\n",
       "    <tr style=\"text-align: right;\">\n",
       "      <th></th>\n",
       "      <th>Company Names</th>\n",
       "      <th>Cars Names</th>\n",
       "      <th>Engines</th>\n",
       "      <th>CC/Battery Capacity</th>\n",
       "      <th>HorsePower</th>\n",
       "      <th>Total Speed</th>\n",
       "      <th>Performance(0 - 100 )KM/H</th>\n",
       "      <th>Cars Prices</th>\n",
       "      <th>Fuel Types</th>\n",
       "      <th>Seats</th>\n",
       "      <th>Torque</th>\n",
       "    </tr>\n",
       "  </thead>\n",
       "  <tbody>\n",
       "    <tr>\n",
       "      <th>1213</th>\n",
       "      <td>Toyota</td>\n",
       "      <td>Crown Signia</td>\n",
       "      <td>2.5L Hybrid I4</td>\n",
       "      <td>2487 cc</td>\n",
       "      <td>240 hp</td>\n",
       "      <td>180 km/h</td>\n",
       "      <td>7.6 sec</td>\n",
       "      <td>$43,590 - $48,000</td>\n",
       "      <td>Hybrid (Gas + Electric)</td>\n",
       "      <td>5</td>\n",
       "      <td>239 Nm</td>\n",
       "    </tr>\n",
       "    <tr>\n",
       "      <th>1214</th>\n",
       "      <td>Toyota</td>\n",
       "      <td>4Runner (6th Gen)</td>\n",
       "      <td>2.4L Turbo I4 (i-FORCE MAX Hybrid)</td>\n",
       "      <td>2393 cc + Battery</td>\n",
       "      <td>326 hp</td>\n",
       "      <td>180 km/h</td>\n",
       "      <td>6.8 sec</td>\n",
       "      <td>$50,000</td>\n",
       "      <td>Hybrid</td>\n",
       "      <td>7</td>\n",
       "      <td>630 Nm</td>\n",
       "    </tr>\n",
       "    <tr>\n",
       "      <th>1215</th>\n",
       "      <td>Toyota</td>\n",
       "      <td>Corolla Cross</td>\n",
       "      <td>2.0L Gas / 2.0L Hybrid</td>\n",
       "      <td>1987 cc / Hybrid batt</td>\n",
       "      <td>169 - 196 hp</td>\n",
       "      <td>190 km/h</td>\n",
       "      <td>8.0 - 9.2 sec</td>\n",
       "      <td>$25,210 - $29,135</td>\n",
       "      <td>Gas / Hybrid</td>\n",
       "      <td>5</td>\n",
       "      <td>190 - 210 Nm</td>\n",
       "    </tr>\n",
       "    <tr>\n",
       "      <th>1216</th>\n",
       "      <td>Toyota</td>\n",
       "      <td>C-HR+</td>\n",
       "      <td>1.8L / 2.0L Hybrid</td>\n",
       "      <td>1798 / 1987 cc + batt</td>\n",
       "      <td>140 - 198 hp</td>\n",
       "      <td>180 km/h</td>\n",
       "      <td>7.9 - 10.5 sec</td>\n",
       "      <td>$33,000</td>\n",
       "      <td>Hybrid</td>\n",
       "      <td>5</td>\n",
       "      <td>190 - 205 Nm</td>\n",
       "    </tr>\n",
       "    <tr>\n",
       "      <th>1217</th>\n",
       "      <td>Toyota</td>\n",
       "      <td>RAV4 (6th Gen)</td>\n",
       "      <td>2.5L Hybrid / Plug-in Hybrid</td>\n",
       "      <td>2487 cc + batt</td>\n",
       "      <td>219 - 302 hp</td>\n",
       "      <td>200 km/h</td>\n",
       "      <td>6.0 - 8.1 sec</td>\n",
       "      <td>$29,000 - $43,000</td>\n",
       "      <td>Hybrid / Plug-in</td>\n",
       "      <td>5</td>\n",
       "      <td>221 - 400 Nm</td>\n",
       "    </tr>\n",
       "  </tbody>\n",
       "</table>\n",
       "</div>"
      ],
      "text/plain": [
       "     Company Names         Cars Names                             Engines  \\\n",
       "1213        Toyota       Crown Signia                      2.5L Hybrid I4   \n",
       "1214        Toyota  4Runner (6th Gen)  2.4L Turbo I4 (i-FORCE MAX Hybrid)   \n",
       "1215        Toyota      Corolla Cross              2.0L Gas / 2.0L Hybrid   \n",
       "1216        Toyota             C-HR+                   1.8L / 2.0L Hybrid   \n",
       "1217        Toyota     RAV4 (6th Gen)        2.5L Hybrid / Plug-in Hybrid   \n",
       "\n",
       "        CC/Battery Capacity    HorsePower Total Speed  \\\n",
       "1213                2487 cc        240 hp    180 km/h   \n",
       "1214      2393 cc + Battery        326 hp    180 km/h   \n",
       "1215  1987 cc / Hybrid batt  169 - 196 hp    190 km/h   \n",
       "1216  1798 / 1987 cc + batt  140 - 198 hp    180 km/h   \n",
       "1217         2487 cc + batt  219 - 302 hp    200 km/h   \n",
       "\n",
       "     Performance(0 - 100 )KM/H        Cars Prices               Fuel Types  \\\n",
       "1213                   7.6 sec  $43,590 - $48,000  Hybrid (Gas + Electric)   \n",
       "1214                   6.8 sec           $50,000                    Hybrid   \n",
       "1215             8.0 - 9.2 sec  $25,210 - $29,135             Gas / Hybrid   \n",
       "1216            7.9 - 10.5 sec           $33,000                    Hybrid   \n",
       "1217             6.0 - 8.1 sec  $29,000 - $43,000         Hybrid / Plug-in   \n",
       "\n",
       "     Seats        Torque  \n",
       "1213     5        239 Nm  \n",
       "1214     7        630 Nm  \n",
       "1215     5  190 - 210 Nm  \n",
       "1216     5  190 - 205 Nm  \n",
       "1217     5  221 - 400 Nm  "
      ]
     },
     "execution_count": 22,
     "metadata": {},
     "output_type": "execute_result"
    }
   ],
   "source": [
    "cars_df.tail()"
   ]
  },
  {
   "cell_type": "code",
   "execution_count": 23,
   "id": "8d16fbb3-9f82-4682-9189-5b7caee0ca21",
   "metadata": {},
   "outputs": [
    {
     "data": {
      "text/plain": [
       "(1218, 11)"
      ]
     },
     "execution_count": 23,
     "metadata": {},
     "output_type": "execute_result"
    }
   ],
   "source": [
    "cars_df.shape"
   ]
  },
  {
   "cell_type": "code",
   "execution_count": 24,
   "id": "7490480a-09a5-4ed8-a618-31cc24d42811",
   "metadata": {},
   "outputs": [
    {
     "data": {
      "text/plain": [
       "Company Names                0\n",
       "Cars Names                   0\n",
       "Engines                      0\n",
       "CC/Battery Capacity          3\n",
       "HorsePower                   0\n",
       "Total Speed                  0\n",
       "Performance(0 - 100 )KM/H    6\n",
       "Cars Prices                  0\n",
       "Fuel Types                   0\n",
       "Seats                        0\n",
       "Torque                       1\n",
       "dtype: int64"
      ]
     },
     "execution_count": 24,
     "metadata": {},
     "output_type": "execute_result"
    }
   ],
   "source": [
    "cars_df.isna().sum()"
   ]
  },
  {
   "cell_type": "code",
   "execution_count": 25,
   "id": "e4c6abf7-a201-4662-b3ac-3e50d5b98896",
   "metadata": {},
   "outputs": [],
   "source": [
    "carsCopy1_df = cars_df.copy()"
   ]
  },
  {
   "cell_type": "code",
   "execution_count": 26,
   "id": "651d2b0c",
   "metadata": {},
   "outputs": [
    {
     "name": "stdout",
     "output_type": "stream",
     "text": [
      "     Company Names         Cars Names                             Engines  \\\n",
      "0          FERRARI      SF90 STRADALE                                  V8   \n",
      "1      ROLLS ROYCE            PHANTOM                                 V12   \n",
      "2             Ford                KA+                         1.2L Petrol   \n",
      "3         MERCEDES            GT 63 S                                  V8   \n",
      "4             AUDI         AUDI R8 Gt                                 V10   \n",
      "...            ...                ...                                 ...   \n",
      "1213        Toyota       Crown Signia                      2.5L Hybrid I4   \n",
      "1214        Toyota  4Runner (6th Gen)  2.4L Turbo I4 (i-FORCE MAX Hybrid)   \n",
      "1215        Toyota      Corolla Cross              2.0L Gas / 2.0L Hybrid   \n",
      "1216        Toyota             C-HR+                   1.8L / 2.0L Hybrid   \n",
      "1217        Toyota     RAV4 (6th Gen)        2.5L Hybrid / Plug-in Hybrid   \n",
      "\n",
      "        CC/Battery Capacity    HorsePower Total Speed  \\\n",
      "0                   3990 cc        963 hp    340 km/h   \n",
      "1                   6749 cc        563 hp    250 km/h   \n",
      "2                  1,200 cc      70-85 hp    165 km/h   \n",
      "3                  3,982 cc        630 hp    250 km/h   \n",
      "4                  5,204 cc        602 hp    320 km/h   \n",
      "...                     ...           ...         ...   \n",
      "1213                2487 cc        240 hp    180 km/h   \n",
      "1214      2393 cc + Battery        326 hp    180 km/h   \n",
      "1215  1987 cc / Hybrid batt  169 - 196 hp    190 km/h   \n",
      "1216  1798 / 1987 cc + batt  140 - 198 hp    180 km/h   \n",
      "1217         2487 cc + batt  219 - 302 hp    200 km/h   \n",
      "\n",
      "     Performance(0 - 100 )KM/H        Cars Prices               Fuel Types  \\\n",
      "0                      2.5 sec        $1,100,000           plug in hyrbrid   \n",
      "1                      5.3 sec          $460,000                    Petrol   \n",
      "2                     10.5 sec    $12,000-$15,000                   Petrol   \n",
      "3                      3.2 sec          $161,000                    Petrol   \n",
      "4                      3.6 sec          $253,290                    Petrol   \n",
      "...                        ...                ...                      ...   \n",
      "1213                   7.6 sec  $43,590 - $48,000  Hybrid (Gas + Electric)   \n",
      "1214                   6.8 sec           $50,000                    Hybrid   \n",
      "1215             8.0 - 9.2 sec  $25,210 - $29,135             Gas / Hybrid   \n",
      "1216            7.9 - 10.5 sec           $33,000                    Hybrid   \n",
      "1217             6.0 - 8.1 sec  $29,000 - $43,000         Hybrid / Plug-in   \n",
      "\n",
      "     Seats        Torque  \n",
      "0        2        800 Nm  \n",
      "1        5        900 Nm  \n",
      "2        5  100 - 140 Nm  \n",
      "3        4        900 Nm  \n",
      "4        2        560 Nm  \n",
      "...    ...           ...  \n",
      "1213     5        239 Nm  \n",
      "1214     7        630 Nm  \n",
      "1215     5  190 - 210 Nm  \n",
      "1216     5  190 - 205 Nm  \n",
      "1217     5  221 - 400 Nm  \n",
      "\n",
      "[1210 rows x 11 columns]\n"
     ]
    }
   ],
   "source": [
    "cleanCarsCopy1_df = carsCopy1_df.dropna()\n",
    "print(cleanCarsCopy1_df)"
   ]
  },
  {
   "cell_type": "code",
   "execution_count": 27,
   "id": "3b227864",
   "metadata": {},
   "outputs": [
    {
     "data": {
      "text/plain": [
       "(1210, 11)"
      ]
     },
     "execution_count": 27,
     "metadata": {},
     "output_type": "execute_result"
    }
   ],
   "source": [
    "cleanCarsCopy1_df.shape"
   ]
  },
  {
   "cell_type": "code",
   "execution_count": 28,
   "id": "c59720ce",
   "metadata": {},
   "outputs": [],
   "source": [
    "cleanCarsCopy1_df.to_csv(\"output_cleanCarsCopy1.csv\", index=False)"
   ]
  },
  {
   "cell_type": "code",
   "execution_count": 30,
   "id": "5683b61a",
   "metadata": {},
   "outputs": [],
   "source": [
    "Copy1cleanCarsCopy1_df = cleanCarsCopy1_df.copy()"
   ]
  },
  {
   "cell_type": "code",
   "execution_count": 32,
   "id": "3337984e",
   "metadata": {},
   "outputs": [],
   "source": [
    "# 2. List of values you want to remove\n",
    "values_to_remove = ['Diesel/Petrol', 'Petrol/Diesel', 'Petrol, Diesel']\n",
    "\n",
    "# 3. Create a boolean mask to identify rows with these values\n",
    "mask = Copy1cleanCarsCopy1_df['Fuel Types'].isin(values_to_remove)\n",
    "\n",
    "# 4. Use the inverted mask (~) to keep only the rows that DO NOT match\n",
    "df_cleaned = Copy1cleanCarsCopy1_df[~mask]"
   ]
  },
  {
   "cell_type": "code",
   "execution_count": 34,
   "id": "caf55e71",
   "metadata": {},
   "outputs": [
    {
     "data": {
      "text/plain": [
       "(1187, 11)"
      ]
     },
     "execution_count": 34,
     "metadata": {},
     "output_type": "execute_result"
    }
   ],
   "source": [
    "df_cleaned.shape"
   ]
  },
  {
   "cell_type": "code",
   "execution_count": 35,
   "id": "76196cce",
   "metadata": {},
   "outputs": [],
   "source": [
    "df_cleaned.to_csv(\"output_no petrol diesel_df_cleaned.csv\", index=False)"
   ]
  },
  {
   "cell_type": "code",
   "execution_count": 36,
   "id": "8d8bfa72",
   "metadata": {},
   "outputs": [],
   "source": [
    "Copy2cleanCarsCopy1_df = df_cleaned.copy()"
   ]
  },
  {
   "cell_type": "code",
   "execution_count": 40,
   "id": "e75d3778",
   "metadata": {},
   "outputs": [],
   "source": [
    "values_to_replace = ['plug in hyrbrid', 'Plug-in Hybrid', 'Petrol/Hybrid','Petrol/EV', 'Hybrid/Electric', 'Hybrid (Petrol)','Diesel Hybrid', 'Hybrid (Gas + Electric)', 'Gas / Hybrid', 'Hybrid / Plug-in', 'Hybrid/Petrol', 'Petrol (Hybrid)', 'Petrol, Hybrid']\n",
    "\n",
    "# 3. Create a boolean mask to identify rows with these values\n",
    "mask = Copy2cleanCarsCopy1_df['Fuel Types'].isin(values_to_replace)\n",
    "\n",
    "Copy2cleanCarsCopy1_df.loc[mask, 'Fuel Types'] = 'Hybrid'"
   ]
  },
  {
   "cell_type": "code",
   "execution_count": 42,
   "id": "b973de91",
   "metadata": {},
   "outputs": [],
   "source": [
    "\n",
    "Copy2cleanCarsCopy1_df.to_csv(\"output_no_many_HB_df_cleaned.csv\", index=False)"
   ]
  },
  {
   "cell_type": "code",
   "execution_count": 43,
   "id": "efb99556",
   "metadata": {},
   "outputs": [],
   "source": [
    "values_to_replace_CNG = ['CNG/Petrol']\n",
    "\n",
    "# 3. Create a boolean mask to identify rows with these values\n",
    "mask = Copy2cleanCarsCopy1_df['Fuel Types'].isin(values_to_replace_CNG)\n",
    "\n",
    "Copy2cleanCarsCopy1_df.loc[mask, 'Fuel Types'] = 'CNG'"
   ]
  },
  {
   "cell_type": "code",
   "execution_count": 44,
   "id": "b7020337",
   "metadata": {},
   "outputs": [],
   "source": [
    "values_to_replace_AWD = ['Petrol/AWD']\n",
    "\n",
    "# 3. Create a boolean mask to identify rows with these values\n",
    "mask = Copy2cleanCarsCopy1_df['Fuel Types'].isin(values_to_replace_AWD)\n",
    "\n",
    "Copy2cleanCarsCopy1_df.loc[mask, 'Fuel Types'] = 'Petrol'"
   ]
  },
  {
   "cell_type": "code",
   "execution_count": 45,
   "id": "4ab60fae",
   "metadata": {},
   "outputs": [],
   "source": [
    "Copy2cleanCarsCopy1_df.to_csv(\"output_no_many_HB_CNG_AWD_df_cleaned.csv\", index=False)"
   ]
  }
 ],
 "metadata": {
  "kernelspec": {
   "display_name": "base",
   "language": "python",
   "name": "python3"
  },
  "language_info": {
   "codemirror_mode": {
    "name": "ipython",
    "version": 3
   },
   "file_extension": ".py",
   "mimetype": "text/x-python",
   "name": "python",
   "nbconvert_exporter": "python",
   "pygments_lexer": "ipython3",
   "version": "3.13.5"
  }
 },
 "nbformat": 4,
 "nbformat_minor": 5
}
