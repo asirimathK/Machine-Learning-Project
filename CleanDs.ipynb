{
 "cells": [
  {
   "cell_type": "code",
   "execution_count": null,
   "id": "1807534d-3d29-48f6-8b05-a258f70752ad",
   "metadata": {},
   "outputs": [],
   "source": [
    "#Importing Libraries\n",
    "import pandas as pd\n",
    "import numpy as np"
   ]
  },
  {
   "cell_type": "code",
   "execution_count": null,
   "id": "26705940-a20b-406b-96a5-b2872a2ac46e",
   "metadata": {},
   "outputs": [
    {
     "ename": "NameError",
     "evalue": "name 'pd' is not defined",
     "output_type": "error",
     "traceback": [
      "\u001b[31m---------------------------------------------------------------------------\u001b[39m",
      "\u001b[31mNameError\u001b[39m                                 Traceback (most recent call last)",
      "\u001b[36mCell\u001b[39m\u001b[36m \u001b[39m\u001b[32mIn[1]\u001b[39m\u001b[32m, line 1\u001b[39m\n\u001b[32m----> \u001b[39m\u001b[32m1\u001b[39m cars_df = \u001b[43mpd\u001b[49m.read_csv(\u001b[33m'\u001b[39m\u001b[33m.ipynb_checkpoints/CarsDatasets2025.csv\u001b[39m\u001b[33m'\u001b[39m,encoding=\u001b[33m\"\u001b[39m\u001b[33mISO-8859-1\u001b[39m\u001b[33m\"\u001b[39m)\n",
      "\u001b[31mNameError\u001b[39m: name 'pd' is not defined"
     ]
    }
   ],
   "source": [
    "#Uploading data set\n",
    "cars_df = pd.read_csv('.ipynb_checkpoints/CarsDatasets2025.csv',encoding=\"ISO-8859-1\")"
   ]
  },
  {
   "cell_type": "code",
   "execution_count": 21,
   "id": "b63c1434-54cb-46d7-b693-8f547e0fcd03",
   "metadata": {},
   "outputs": [
    {
     "data": {
      "text/html": [
       "<div>\n",
       "<style scoped>\n",
       "    .dataframe tbody tr th:only-of-type {\n",
       "        vertical-align: middle;\n",
       "    }\n",
       "\n",
       "    .dataframe tbody tr th {\n",
       "        vertical-align: top;\n",
       "    }\n",
       "\n",
       "    .dataframe thead th {\n",
       "        text-align: right;\n",
       "    }\n",
       "</style>\n",
       "<table border=\"1\" class=\"dataframe\">\n",
       "  <thead>\n",
       "    <tr style=\"text-align: right;\">\n",
       "      <th></th>\n",
       "      <th>Company Names</th>\n",
       "      <th>Cars Names</th>\n",
       "      <th>Engines</th>\n",
       "      <th>CC/Battery Capacity</th>\n",
       "      <th>HorsePower</th>\n",
       "      <th>Total Speed</th>\n",
       "      <th>Performance(0 - 100 )KM/H</th>\n",
       "      <th>Cars Prices</th>\n",
       "      <th>Fuel Types</th>\n",
       "      <th>Seats</th>\n",
       "      <th>Torque</th>\n",
       "    </tr>\n",
       "  </thead>\n",
       "  <tbody>\n",
       "    <tr>\n",
       "      <th>0</th>\n",
       "      <td>FERRARI</td>\n",
       "      <td>SF90 STRADALE</td>\n",
       "      <td>V8</td>\n",
       "      <td>3990 cc</td>\n",
       "      <td>963 hp</td>\n",
       "      <td>340 km/h</td>\n",
       "      <td>2.5 sec</td>\n",
       "      <td>$1,100,000</td>\n",
       "      <td>plug in hyrbrid</td>\n",
       "      <td>2</td>\n",
       "      <td>800 Nm</td>\n",
       "    </tr>\n",
       "    <tr>\n",
       "      <th>1</th>\n",
       "      <td>ROLLS ROYCE</td>\n",
       "      <td>PHANTOM</td>\n",
       "      <td>V12</td>\n",
       "      <td>6749 cc</td>\n",
       "      <td>563 hp</td>\n",
       "      <td>250 km/h</td>\n",
       "      <td>5.3 sec</td>\n",
       "      <td>$460,000</td>\n",
       "      <td>Petrol</td>\n",
       "      <td>5</td>\n",
       "      <td>900 Nm</td>\n",
       "    </tr>\n",
       "    <tr>\n",
       "      <th>2</th>\n",
       "      <td>Ford</td>\n",
       "      <td>KA+</td>\n",
       "      <td>1.2L Petrol</td>\n",
       "      <td>1,200 cc</td>\n",
       "      <td>70-85 hp</td>\n",
       "      <td>165 km/h</td>\n",
       "      <td>10.5 sec</td>\n",
       "      <td>$12,000-$15,000</td>\n",
       "      <td>Petrol</td>\n",
       "      <td>5</td>\n",
       "      <td>100 - 140 Nm</td>\n",
       "    </tr>\n",
       "    <tr>\n",
       "      <th>3</th>\n",
       "      <td>MERCEDES</td>\n",
       "      <td>GT 63 S</td>\n",
       "      <td>V8</td>\n",
       "      <td>3,982 cc</td>\n",
       "      <td>630 hp</td>\n",
       "      <td>250 km/h</td>\n",
       "      <td>3.2 sec</td>\n",
       "      <td>$161,000</td>\n",
       "      <td>Petrol</td>\n",
       "      <td>4</td>\n",
       "      <td>900 Nm</td>\n",
       "    </tr>\n",
       "    <tr>\n",
       "      <th>4</th>\n",
       "      <td>AUDI</td>\n",
       "      <td>AUDI R8 Gt</td>\n",
       "      <td>V10</td>\n",
       "      <td>5,204 cc</td>\n",
       "      <td>602 hp</td>\n",
       "      <td>320 km/h</td>\n",
       "      <td>3.6 sec</td>\n",
       "      <td>$253,290</td>\n",
       "      <td>Petrol</td>\n",
       "      <td>2</td>\n",
       "      <td>560 Nm</td>\n",
       "    </tr>\n",
       "  </tbody>\n",
       "</table>\n",
       "</div>"
      ],
      "text/plain": [
       "  Company Names     Cars Names      Engines CC/Battery Capacity HorsePower  \\\n",
       "0       FERRARI  SF90 STRADALE           V8             3990 cc     963 hp   \n",
       "1   ROLLS ROYCE        PHANTOM          V12             6749 cc     563 hp   \n",
       "2          Ford            KA+  1.2L Petrol            1,200 cc   70-85 hp   \n",
       "3      MERCEDES        GT 63 S           V8            3,982 cc     630 hp   \n",
       "4          AUDI     AUDI R8 Gt          V10            5,204 cc     602 hp   \n",
       "\n",
       "  Total Speed Performance(0 - 100 )KM/H      Cars Prices       Fuel Types  \\\n",
       "0    340 km/h                   2.5 sec      $1,100,000   plug in hyrbrid   \n",
       "1    250 km/h                   5.3 sec        $460,000            Petrol   \n",
       "2    165 km/h                  10.5 sec  $12,000-$15,000           Petrol   \n",
       "3    250 km/h                   3.2 sec        $161,000            Petrol   \n",
       "4    320 km/h                   3.6 sec        $253,290            Petrol   \n",
       "\n",
       "  Seats        Torque  \n",
       "0     2        800 Nm  \n",
       "1     5        900 Nm  \n",
       "2     5  100 - 140 Nm  \n",
       "3     4        900 Nm  \n",
       "4     2        560 Nm  "
      ]
     },
     "execution_count": 21,
     "metadata": {},
     "output_type": "execute_result"
    }
   ],
   "source": [
    "cars_df.head()"
   ]
  },
  {
   "cell_type": "code",
   "execution_count": 22,
   "id": "4c858317-955b-4a50-9ceb-dc273dbe706a",
   "metadata": {},
   "outputs": [
    {
     "data": {
      "text/html": [
       "<div>\n",
       "<style scoped>\n",
       "    .dataframe tbody tr th:only-of-type {\n",
       "        vertical-align: middle;\n",
       "    }\n",
       "\n",
       "    .dataframe tbody tr th {\n",
       "        vertical-align: top;\n",
       "    }\n",
       "\n",
       "    .dataframe thead th {\n",
       "        text-align: right;\n",
       "    }\n",
       "</style>\n",
       "<table border=\"1\" class=\"dataframe\">\n",
       "  <thead>\n",
       "    <tr style=\"text-align: right;\">\n",
       "      <th></th>\n",
       "      <th>Company Names</th>\n",
       "      <th>Cars Names</th>\n",
       "      <th>Engines</th>\n",
       "      <th>CC/Battery Capacity</th>\n",
       "      <th>HorsePower</th>\n",
       "      <th>Total Speed</th>\n",
       "      <th>Performance(0 - 100 )KM/H</th>\n",
       "      <th>Cars Prices</th>\n",
       "      <th>Fuel Types</th>\n",
       "      <th>Seats</th>\n",
       "      <th>Torque</th>\n",
       "    </tr>\n",
       "  </thead>\n",
       "  <tbody>\n",
       "    <tr>\n",
       "      <th>1213</th>\n",
       "      <td>Toyota</td>\n",
       "      <td>Crown Signia</td>\n",
       "      <td>2.5L Hybrid I4</td>\n",
       "      <td>2487 cc</td>\n",
       "      <td>240 hp</td>\n",
       "      <td>180 km/h</td>\n",
       "      <td>7.6 sec</td>\n",
       "      <td>$43,590 - $48,000</td>\n",
       "      <td>Hybrid (Gas + Electric)</td>\n",
       "      <td>5</td>\n",
       "      <td>239 Nm</td>\n",
       "    </tr>\n",
       "    <tr>\n",
       "      <th>1214</th>\n",
       "      <td>Toyota</td>\n",
       "      <td>4Runner (6th Gen)</td>\n",
       "      <td>2.4L Turbo I4 (i-FORCE MAX Hybrid)</td>\n",
       "      <td>2393 cc + Battery</td>\n",
       "      <td>326 hp</td>\n",
       "      <td>180 km/h</td>\n",
       "      <td>6.8 sec</td>\n",
       "      <td>$50,000</td>\n",
       "      <td>Hybrid</td>\n",
       "      <td>7</td>\n",
       "      <td>630 Nm</td>\n",
       "    </tr>\n",
       "    <tr>\n",
       "      <th>1215</th>\n",
       "      <td>Toyota</td>\n",
       "      <td>Corolla Cross</td>\n",
       "      <td>2.0L Gas / 2.0L Hybrid</td>\n",
       "      <td>1987 cc / Hybrid batt</td>\n",
       "      <td>169 - 196 hp</td>\n",
       "      <td>190 km/h</td>\n",
       "      <td>8.0 - 9.2 sec</td>\n",
       "      <td>$25,210 - $29,135</td>\n",
       "      <td>Gas / Hybrid</td>\n",
       "      <td>5</td>\n",
       "      <td>190 - 210 Nm</td>\n",
       "    </tr>\n",
       "    <tr>\n",
       "      <th>1216</th>\n",
       "      <td>Toyota</td>\n",
       "      <td>C-HR+</td>\n",
       "      <td>1.8L / 2.0L Hybrid</td>\n",
       "      <td>1798 / 1987 cc + batt</td>\n",
       "      <td>140 - 198 hp</td>\n",
       "      <td>180 km/h</td>\n",
       "      <td>7.9 - 10.5 sec</td>\n",
       "      <td>$33,000</td>\n",
       "      <td>Hybrid</td>\n",
       "      <td>5</td>\n",
       "      <td>190 - 205 Nm</td>\n",
       "    </tr>\n",
       "    <tr>\n",
       "      <th>1217</th>\n",
       "      <td>Toyota</td>\n",
       "      <td>RAV4 (6th Gen)</td>\n",
       "      <td>2.5L Hybrid / Plug-in Hybrid</td>\n",
       "      <td>2487 cc + batt</td>\n",
       "      <td>219 - 302 hp</td>\n",
       "      <td>200 km/h</td>\n",
       "      <td>6.0 - 8.1 sec</td>\n",
       "      <td>$29,000 - $43,000</td>\n",
       "      <td>Hybrid / Plug-in</td>\n",
       "      <td>5</td>\n",
       "      <td>221 - 400 Nm</td>\n",
       "    </tr>\n",
       "  </tbody>\n",
       "</table>\n",
       "</div>"
      ],
      "text/plain": [
       "     Company Names         Cars Names                             Engines  \\\n",
       "1213        Toyota       Crown Signia                      2.5L Hybrid I4   \n",
       "1214        Toyota  4Runner (6th Gen)  2.4L Turbo I4 (i-FORCE MAX Hybrid)   \n",
       "1215        Toyota      Corolla Cross              2.0L Gas / 2.0L Hybrid   \n",
       "1216        Toyota             C-HR+                   1.8L / 2.0L Hybrid   \n",
       "1217        Toyota     RAV4 (6th Gen)        2.5L Hybrid / Plug-in Hybrid   \n",
       "\n",
       "        CC/Battery Capacity    HorsePower Total Speed  \\\n",
       "1213                2487 cc        240 hp    180 km/h   \n",
       "1214      2393 cc + Battery        326 hp    180 km/h   \n",
       "1215  1987 cc / Hybrid batt  169 - 196 hp    190 km/h   \n",
       "1216  1798 / 1987 cc + batt  140 - 198 hp    180 km/h   \n",
       "1217         2487 cc + batt  219 - 302 hp    200 km/h   \n",
       "\n",
       "     Performance(0 - 100 )KM/H        Cars Prices               Fuel Types  \\\n",
       "1213                   7.6 sec  $43,590 - $48,000  Hybrid (Gas + Electric)   \n",
       "1214                   6.8 sec           $50,000                    Hybrid   \n",
       "1215             8.0 - 9.2 sec  $25,210 - $29,135             Gas / Hybrid   \n",
       "1216            7.9 - 10.5 sec           $33,000                    Hybrid   \n",
       "1217             6.0 - 8.1 sec  $29,000 - $43,000         Hybrid / Plug-in   \n",
       "\n",
       "     Seats        Torque  \n",
       "1213     5        239 Nm  \n",
       "1214     7        630 Nm  \n",
       "1215     5  190 - 210 Nm  \n",
       "1216     5  190 - 205 Nm  \n",
       "1217     5  221 - 400 Nm  "
      ]
     },
     "execution_count": 22,
     "metadata": {},
     "output_type": "execute_result"
    }
   ],
   "source": [
    "cars_df.tail()"
   ]
  },
  {
   "cell_type": "code",
   "execution_count": 23,
   "id": "8d16fbb3-9f82-4682-9189-5b7caee0ca21",
   "metadata": {},
   "outputs": [
    {
     "data": {
      "text/plain": [
       "(1218, 11)"
      ]
     },
     "execution_count": 23,
     "metadata": {},
     "output_type": "execute_result"
    }
   ],
   "source": [
    "cars_df.shape"
   ]
  },
  {
   "cell_type": "code",
   "execution_count": null,
   "id": "7490480a-09a5-4ed8-a618-31cc24d42811",
   "metadata": {},
   "outputs": [
    {
     "data": {
      "text/plain": [
       "Company Names                0\n",
       "Cars Names                   0\n",
       "Engines                      0\n",
       "CC/Battery Capacity          3\n",
       "HorsePower                   0\n",
       "Total Speed                  0\n",
       "Performance(0 - 100 )KM/H    6\n",
       "Cars Prices                  0\n",
       "Fuel Types                   0\n",
       "Seats                        0\n",
       "Torque                       1\n",
       "dtype: int64"
      ]
     },
     "execution_count": 24,
     "metadata": {},
     "output_type": "execute_result"
    }
   ],
   "source": [
    "#Analyzing null values at the initial point\n",
    "cars_df.isna().sum()"
   ]
  },
  {
   "cell_type": "code",
   "execution_count": null,
   "id": "e4c6abf7-a201-4662-b3ac-3e50d5b98896",
   "metadata": {},
   "outputs": [],
   "source": [
    "#Duplicating Data frame for reuserbility\n",
    "carsCopy1_df = cars_df.copy()"
   ]
  },
  {
   "cell_type": "code",
   "execution_count": null,
   "id": "651d2b0c",
   "metadata": {},
   "outputs": [
    {
     "name": "stdout",
     "output_type": "stream",
     "text": [
      "     Company Names         Cars Names                             Engines  \\\n",
      "0          FERRARI      SF90 STRADALE                                  V8   \n",
      "1      ROLLS ROYCE            PHANTOM                                 V12   \n",
      "2             Ford                KA+                         1.2L Petrol   \n",
      "3         MERCEDES            GT 63 S                                  V8   \n",
      "4             AUDI         AUDI R8 Gt                                 V10   \n",
      "...            ...                ...                                 ...   \n",
      "1213        Toyota       Crown Signia                      2.5L Hybrid I4   \n",
      "1214        Toyota  4Runner (6th Gen)  2.4L Turbo I4 (i-FORCE MAX Hybrid)   \n",
      "1215        Toyota      Corolla Cross              2.0L Gas / 2.0L Hybrid   \n",
      "1216        Toyota             C-HR+                   1.8L / 2.0L Hybrid   \n",
      "1217        Toyota     RAV4 (6th Gen)        2.5L Hybrid / Plug-in Hybrid   \n",
      "\n",
      "        CC/Battery Capacity    HorsePower Total Speed  \\\n",
      "0                   3990 cc        963 hp    340 km/h   \n",
      "1                   6749 cc        563 hp    250 km/h   \n",
      "2                  1,200 cc      70-85 hp    165 km/h   \n",
      "3                  3,982 cc        630 hp    250 km/h   \n",
      "4                  5,204 cc        602 hp    320 km/h   \n",
      "...                     ...           ...         ...   \n",
      "1213                2487 cc        240 hp    180 km/h   \n",
      "1214      2393 cc + Battery        326 hp    180 km/h   \n",
      "1215  1987 cc / Hybrid batt  169 - 196 hp    190 km/h   \n",
      "1216  1798 / 1987 cc + batt  140 - 198 hp    180 km/h   \n",
      "1217         2487 cc + batt  219 - 302 hp    200 km/h   \n",
      "\n",
      "     Performance(0 - 100 )KM/H        Cars Prices               Fuel Types  \\\n",
      "0                      2.5 sec        $1,100,000           plug in hyrbrid   \n",
      "1                      5.3 sec          $460,000                    Petrol   \n",
      "2                     10.5 sec    $12,000-$15,000                   Petrol   \n",
      "3                      3.2 sec          $161,000                    Petrol   \n",
      "4                      3.6 sec          $253,290                    Petrol   \n",
      "...                        ...                ...                      ...   \n",
      "1213                   7.6 sec  $43,590 - $48,000  Hybrid (Gas + Electric)   \n",
      "1214                   6.8 sec           $50,000                    Hybrid   \n",
      "1215             8.0 - 9.2 sec  $25,210 - $29,135             Gas / Hybrid   \n",
      "1216            7.9 - 10.5 sec           $33,000                    Hybrid   \n",
      "1217             6.0 - 8.1 sec  $29,000 - $43,000         Hybrid / Plug-in   \n",
      "\n",
      "     Seats        Torque  \n",
      "0        2        800 Nm  \n",
      "1        5        900 Nm  \n",
      "2        5  100 - 140 Nm  \n",
      "3        4        900 Nm  \n",
      "4        2        560 Nm  \n",
      "...    ...           ...  \n",
      "1213     5        239 Nm  \n",
      "1214     7        630 Nm  \n",
      "1215     5  190 - 210 Nm  \n",
      "1216     5  190 - 205 Nm  \n",
      "1217     5  221 - 400 Nm  \n",
      "\n",
      "[1210 rows x 11 columns]\n"
     ]
    }
   ],
   "source": [
    "#Dropping Rows with missing values using the duplicated dataframe\n",
    "cleanCarsCopy1_df = carsCopy1_df.dropna()\n",
    "print(cleanCarsCopy1_df)"
   ]
  },
  {
   "cell_type": "code",
   "execution_count": 27,
   "id": "3b227864",
   "metadata": {},
   "outputs": [
    {
     "data": {
      "text/plain": [
       "(1210, 11)"
      ]
     },
     "execution_count": 27,
     "metadata": {},
     "output_type": "execute_result"
    }
   ],
   "source": [
    "cleanCarsCopy1_df.shape"
   ]
  },
  {
   "cell_type": "code",
   "execution_count": null,
   "id": "c59720ce",
   "metadata": {},
   "outputs": [],
   "source": [
    "#First Version output\n",
    "cleanCarsCopy1_df.to_csv(\"output_cleanCarsCopy1.csv\", index=False)"
   ]
  },
  {
   "cell_type": "code",
   "execution_count": null,
   "id": "5683b61a",
   "metadata": {},
   "outputs": [],
   "source": [
    "#Duplicating the Dataframe\n",
    "Copy1cleanCarsCopy1_df = cleanCarsCopy1_df.copy()"
   ]
  },
  {
   "cell_type": "code",
   "execution_count": null,
   "id": "3337984e",
   "metadata": {},
   "outputs": [],
   "source": [
    "#Removing Multivalued instances from Fuel Types column\n",
    "# 1. List of values you want to remove\n",
    "values_to_remove = ['Diesel/Petrol', 'Petrol/Diesel', 'Petrol, Diesel']\n",
    "\n",
    "# 2. Create a boolean mask to identify rows with these values\n",
    "mask = Copy1cleanCarsCopy1_df['Fuel Types'].isin(values_to_remove)\n",
    "\n",
    "# 3. Use the inverted mask (~) to keep only the rows that DO NOT match\n",
    "df_cleaned = Copy1cleanCarsCopy1_df[~mask]"
   ]
  },
  {
   "cell_type": "code",
   "execution_count": 34,
   "id": "caf55e71",
   "metadata": {},
   "outputs": [
    {
     "data": {
      "text/plain": [
       "(1187, 11)"
      ]
     },
     "execution_count": 34,
     "metadata": {},
     "output_type": "execute_result"
    }
   ],
   "source": [
    "df_cleaned.shape"
   ]
  },
  {
   "cell_type": "code",
   "execution_count": null,
   "id": "76196cce",
   "metadata": {},
   "outputs": [],
   "source": [
    "#Version output\n",
    "df_cleaned.to_csv(\"output_no petrol diesel_df_cleaned.csv\", index=False)"
   ]
  },
  {
   "cell_type": "code",
   "execution_count": null,
   "id": "8d8bfa72",
   "metadata": {},
   "outputs": [],
   "source": [
    "#Duplicating Data Frame\n",
    "Copy2cleanCarsCopy1_df = df_cleaned.copy()"
   ]
  },
  {
   "cell_type": "code",
   "execution_count": null,
   "id": "e75d3778",
   "metadata": {},
   "outputs": [],
   "source": [
    "#Generalizing multiple incetances of hybrid\n",
    "values_to_replace = ['plug in hyrbrid', 'Plug-in Hybrid', 'Petrol/Hybrid','Petrol/EV', 'Hybrid/Electric', 'Hybrid (Petrol)','Diesel Hybrid', 'Hybrid (Gas + Electric)', 'Gas / Hybrid', 'Hybrid / Plug-in', 'Hybrid/Petrol', 'Petrol (Hybrid)', 'Petrol, Hybrid']\n",
    "\n",
    "#1. Create a boolean mask to identify rows with these values\n",
    "mask = Copy2cleanCarsCopy1_df['Fuel Types'].isin(values_to_replace)\n",
    "\n",
    "#2. Replacing values in the mask\n",
    "Copy2cleanCarsCopy1_df.loc[mask, 'Fuel Types'] = 'Hybrid'"
   ]
  },
  {
   "cell_type": "code",
   "execution_count": null,
   "id": "b973de91",
   "metadata": {},
   "outputs": [],
   "source": [
    "\n",
    "#Version output\n",
    "Copy2cleanCarsCopy1_df.to_csv(\"output_no_many_HB_df_cleaned.csv\", index=False)"
   ]
  },
  {
   "cell_type": "code",
   "execution_count": null,
   "id": "efb99556",
   "metadata": {},
   "outputs": [],
   "source": [
    "#Handelling CNG/Petrol in Fuel Type\n",
    "values_to_replace_CNG = ['CNG/Petrol']\n",
    "\n",
    "#1. Create a boolean mask to identify rows with these values\n",
    "mask = Copy2cleanCarsCopy1_df['Fuel Types'].isin(values_to_replace_CNG)\n",
    "\n",
    "#2. Replacing values within the mask\n",
    "Copy2cleanCarsCopy1_df.loc[mask, 'Fuel Types'] = 'CNG'"
   ]
  },
  {
   "cell_type": "code",
   "execution_count": null,
   "id": "b7020337",
   "metadata": {},
   "outputs": [],
   "source": [
    "#Handelling Petrol/AWD in Fuel Type\n",
    "values_to_replace_AWD = ['Petrol/AWD']\n",
    "\n",
    "#1. Create a boolean mask to identify rows with these values\n",
    "mask = Copy2cleanCarsCopy1_df['Fuel Types'].isin(values_to_replace_AWD)\n",
    "\n",
    "#2. Replacing values within the mask\n",
    "Copy2cleanCarsCopy1_df.loc[mask, 'Fuel Types'] = 'Petrol'"
   ]
  },
  {
   "cell_type": "code",
   "execution_count": null,
   "id": "4ab60fae",
   "metadata": {},
   "outputs": [],
   "source": [
    "#Version Output\n",
    "Copy2cleanCarsCopy1_df.to_csv(\"output_no_many_HB_CNG_AWD_df_cleaned.csv\", index=False)"
   ]
  },
  {
   "cell_type": "code",
   "execution_count": null,
   "id": "cb417202",
   "metadata": {},
   "outputs": [],
   "source": [
    "#Duplicating Data Frame\n",
    "LatestCopy2cleanCarsCopy1_df = Copy2cleanCarsCopy1_df.copy()"
   ]
  },
  {
   "cell_type": "code",
   "execution_count": null,
   "id": "64b860d8",
   "metadata": {},
   "outputs": [],
   "source": [
    "#Removing Individual instances with misinformation\n",
    "Copy3cleanCarsCopy1_df = Copy2cleanCarsCopy1_df[Copy2cleanCarsCopy1_df['Cars Names'] != 'Jaguar F-PACE']"
   ]
  },
  {
   "cell_type": "code",
   "execution_count": null,
   "id": "091a9917",
   "metadata": {},
   "outputs": [],
   "source": [
    "#Removing Individual instances with misinformation\n",
    "Copy4cleanCarsCopy1_df = Copy3cleanCarsCopy1_df[Copy3cleanCarsCopy1_df['Cars Names'] != 'F-350 Super Duty']"
   ]
  },
  {
   "cell_type": "code",
   "execution_count": null,
   "id": "1671d810",
   "metadata": {},
   "outputs": [],
   "source": [
    "#Removing Individual instances with misinformation\n",
    "Copy5cleanCarsCopy1_df = Copy4cleanCarsCopy1_df[Copy4cleanCarsCopy1_df['Cars Names'] != 'Maverick']"
   ]
  },
  {
   "cell_type": "code",
   "execution_count": null,
   "id": "aae277f9",
   "metadata": {},
   "outputs": [],
   "source": [
    "#Removing Individual instances with misinformation\n",
    "Copy6cleanCarsCopy1_df = Copy5cleanCarsCopy1_df[Copy5cleanCarsCopy1_df['Cars Names'] != 'Mustang Mach-E']"
   ]
  },
  {
   "cell_type": "code",
   "execution_count": null,
   "id": "e85f7943",
   "metadata": {},
   "outputs": [],
   "source": [
    "#Removing Individual instances with misinformation\n",
    "Copy7cleanCarsCopy1_df = Copy6cleanCarsCopy1_df[Copy6cleanCarsCopy1_df['Cars Names'] != 'Colt']"
   ]
  },
  {
   "cell_type": "code",
   "execution_count": null,
   "id": "08e90574",
   "metadata": {},
   "outputs": [],
   "source": [
    "#Removing Individual instances with misinformation\n",
    "Copy8cleanCarsCopy1_df = Copy7cleanCarsCopy1_df[Copy7cleanCarsCopy1_df['Cars Names'] != 'C-HR+ ']"
   ]
  },
  {
   "cell_type": "code",
   "execution_count": 64,
   "id": "e00340f4",
   "metadata": {},
   "outputs": [
    {
     "data": {
      "text/plain": [
       "(1181, 11)"
      ]
     },
     "execution_count": 64,
     "metadata": {},
     "output_type": "execute_result"
    }
   ],
   "source": [
    "Copy8cleanCarsCopy1_df.shape"
   ]
  },
  {
   "cell_type": "code",
   "execution_count": null,
   "id": "693f9f73",
   "metadata": {},
   "outputs": [],
   "source": [
    "#Version Output\n",
    "Copy8cleanCarsCopy1_df.to_csv(\"output_sec_multi_r_df_cleaned.csv\", index=False)"
   ]
  },
  {
   "cell_type": "code",
   "execution_count": null,
   "id": "94e5148f",
   "metadata": {},
   "outputs": [],
   "source": [
    "#Duplicating the data frame\n",
    "NewCopy8cleanCarsCopy1_df = Copy8cleanCarsCopy1_df.copy()"
   ]
  },
  {
   "cell_type": "code",
   "execution_count": null,
   "id": "54084796",
   "metadata": {},
   "outputs": [],
   "source": [
    "#Removing Equational phrases in Seats\n",
    "values_to_replace_seat = ['2+2']\n",
    "\n",
    "#1. Create a boolean mask to identify rows with these values\n",
    "mask = NewCopy8cleanCarsCopy1_df['Seats'].isin(values_to_replace_seat)\n",
    "\n",
    "#2. Replacing values to mask when true\n",
    "NewCopy8cleanCarsCopy1_df.loc[mask, 'Seats'] = '4'"
   ]
  },
  {
   "cell_type": "code",
   "execution_count": null,
   "id": "dee2e2b7",
   "metadata": {},
   "outputs": [],
   "source": [
    "#Version Output\n",
    "NewCopy8cleanCarsCopy1_df.to_csv(\"output_sec_multi_r_seat_df_cleaned.csv\", index=False)"
   ]
  },
  {
   "cell_type": "code",
   "execution_count": null,
   "id": "0b1d1ec2",
   "metadata": {},
   "outputs": [],
   "source": [
    "#Removing Instances contains misinformation\n",
    "NewCopy9cleanCarsCopy1_df = NewCopy8cleanCarsCopy1_df[NewCopy8cleanCarsCopy1_df['Cars Names'] != 'Corolla Cross']"
   ]
  },
  {
   "cell_type": "code",
   "execution_count": null,
   "id": "5898ca09",
   "metadata": {},
   "outputs": [],
   "source": [
    "#Removing Instance contains misinformation\n",
    "NewCopy10cleanCarsCopy1_df = NewCopy9cleanCarsCopy1_df[NewCopy9cleanCarsCopy1_df['Cars Names'] != 'RAV4 (6th Gen)']"
   ]
  },
  {
   "cell_type": "code",
   "execution_count": 73,
   "id": "fa30d807",
   "metadata": {},
   "outputs": [
    {
     "data": {
      "text/plain": [
       "(1179, 11)"
      ]
     },
     "execution_count": 73,
     "metadata": {},
     "output_type": "execute_result"
    }
   ],
   "source": [
    "NewCopy10cleanCarsCopy1_df.shape"
   ]
  },
  {
   "cell_type": "code",
   "execution_count": null,
   "id": "6f19739a",
   "metadata": {},
   "outputs": [],
   "source": [
    "#Duplicating Data Frame\n",
    "NewCopy11cleanCarsCopy1_df = NewCopy10cleanCarsCopy1_df.copy()"
   ]
  },
  {
   "cell_type": "code",
   "execution_count": null,
   "id": "4fb830e2",
   "metadata": {},
   "outputs": [],
   "source": [
    "#Removing records with symbols in CC/Battery Capacity\n",
    "pattern = r'[/\\\\+-]'\n",
    "rows_to_remove = NewCopy11cleanCarsCopy1_df['CC/Battery Capacity'].str.contains(pattern, na=False, regex=True)\n",
    "df_cleaned_NewCopy11cleanCarsCopy1 = NewCopy11cleanCarsCopy1_df[~rows_to_remove]"
   ]
  },
  {
   "cell_type": "code",
   "execution_count": 79,
   "id": "a038f02a",
   "metadata": {},
   "outputs": [
    {
     "data": {
      "text/plain": [
       "(1110, 11)"
      ]
     },
     "execution_count": 79,
     "metadata": {},
     "output_type": "execute_result"
    }
   ],
   "source": [
    "df_cleaned_NewCopy11cleanCarsCopy1.shape"
   ]
  },
  {
   "cell_type": "code",
   "execution_count": null,
   "id": "75b74f28",
   "metadata": {},
   "outputs": [],
   "source": [
    "#Version Output\n",
    "df_cleaned_NewCopy11cleanCarsCopy1.to_csv(\"output_CC_cleaned_df_cleaned.csv\", index=False)"
   ]
  },
  {
   "cell_type": "code",
   "execution_count": null,
   "id": "35822656",
   "metadata": {},
   "outputs": [],
   "source": [
    "#Duplicating Data Frame\n",
    "NewCopy12cleanCarsCopy1_df= df_cleaned_NewCopy11cleanCarsCopy1.copy()"
   ]
  },
  {
   "cell_type": "code",
   "execution_count": null,
   "id": "804bf60b",
   "metadata": {},
   "outputs": [],
   "source": [
    "#Replacing values that contains symbols\n",
    "pattern = r'\\s*\\(.*\\)'\n",
    "\n",
    "NewCopy12cleanCarsCopy1_df['CC/Battery Capacity'] = NewCopy12cleanCarsCopy1_df['CC/Battery Capacity'].str.replace(pattern, '', regex=True).str.strip()"
   ]
  },
  {
   "cell_type": "code",
   "execution_count": null,
   "id": "b9ac0d22",
   "metadata": {},
   "outputs": [],
   "source": [
    "#Version Output\n",
    "NewCopy12cleanCarsCopy1_df.to_csv(\"output_cc_brkt_removed_df_cleaned.csv\", index=False)"
   ]
  },
  {
   "cell_type": "code",
   "execution_count": null,
   "id": "4ab2946d",
   "metadata": {},
   "outputs": [],
   "source": [
    "#Duplicating Data Frame\n",
    "NewCopy13cleanCarsCopy1_df = NewCopy12cleanCarsCopy1_df.copy()"
   ]
  },
  {
   "cell_type": "code",
   "execution_count": null,
   "id": "74f8de71",
   "metadata": {},
   "outputs": [],
   "source": [
    "#Removing Electic records in Fuel Types\n",
    "NoEVcleanCarsCopy1_df = NewCopy13cleanCarsCopy1_df[NewCopy13cleanCarsCopy1_df['Fuel Types'] != 'Electric']"
   ]
  },
  {
   "cell_type": "code",
   "execution_count": 88,
   "id": "16a80a2f",
   "metadata": {},
   "outputs": [
    {
     "data": {
      "text/plain": [
       "(1020, 11)"
      ]
     },
     "execution_count": 88,
     "metadata": {},
     "output_type": "execute_result"
    }
   ],
   "source": [
    "NoEVcleanCarsCopy1_df.shape"
   ]
  },
  {
   "cell_type": "code",
   "execution_count": null,
   "id": "2412b063",
   "metadata": {},
   "outputs": [],
   "source": [
    "#Version Output\n",
    "NoEVcleanCarsCopy1_df.to_csv(\"NoEVcleanCarsCopy1_df.csv\", index=False)"
   ]
  },
  {
   "cell_type": "code",
   "execution_count": null,
   "id": "17dd0ed8",
   "metadata": {},
   "outputs": [],
   "source": [
    "#Duplicating Data frame\n",
    "NewCopy14cleanCarsCopy1_df = NoEVcleanCarsCopy1_df.copy()"
   ]
  },
  {
   "cell_type": "code",
   "execution_count": null,
   "id": "644c9b9a",
   "metadata": {},
   "outputs": [],
   "source": [
    "# Convert to string before using .str accessor\n",
    "is_range = NewCopy14cleanCarsCopy1_df['Cars Prices'].astype(str).str.contains('-', na=False)\n",
    "\n",
    "#Removing $ sign and averaging the range values in car prices\n",
    "if is_range.any():\n",
    "    \n",
    "    ranges = NewCopy14cleanCarsCopy1_df.loc[is_range, 'Cars Prices']\n",
    "    \n",
    "    cleaned_ranges = ranges.str.replace('[$,]', '', regex=True)\n",
    "    \n",
    "    split_values = cleaned_ranges.str.split('-', expand=True)\n",
    "    \n",
    "    low_price = pd.to_numeric(split_values[0])\n",
    "    high_price = pd.to_numeric(split_values[1])\n",
    "    \n",
    "    NewCopy14cleanCarsCopy1_df.loc[is_range, 'Cars Prices'] = (low_price + high_price) / 2\n",
    "\n",
    "\n",
    "# Final cleanup for non-range values and converting the column to a number\n",
    "NewCopy14cleanCarsCopy1_df['Cars Prices'] = pd.to_numeric(\n",
    "    NewCopy14cleanCarsCopy1_df['Cars Prices'].astype(str).str.replace('[$,]', '', regex=True)\n",
    ")"
   ]
  },
  {
   "cell_type": "code",
   "execution_count": null,
   "id": "9fab907c",
   "metadata": {},
   "outputs": [],
   "source": [
    "#Version Output\n",
    "NewCopy14cleanCarsCopy1_df.to_csv(\"NewCopy14cleanCarsCopy1_df.csv\", index=False)"
   ]
  },
  {
   "cell_type": "code",
   "execution_count": null,
   "id": "c8796e16",
   "metadata": {},
   "outputs": [],
   "source": [
    "#Replacing symbols with blanks\n",
    "pattern = r'\\s*\\(.*\\)'\n",
    "\n",
    "NewCopy14cleanCarsCopy1_df['Torque'] = NewCopy14cleanCarsCopy1_df['Torque'].str.replace(pattern, '', regex=True).str.strip()"
   ]
  },
  {
   "cell_type": "code",
   "execution_count": null,
   "id": "cd89b8a8",
   "metadata": {},
   "outputs": [],
   "source": [
    "#Version output\n",
    "NewCopy14cleanCarsCopy1_df.to_csv(\"NewCopy14cleanCarsCopy1_df.csv\", index=False)"
   ]
  },
  {
   "cell_type": "code",
   "execution_count": null,
   "id": "68d70942",
   "metadata": {},
   "outputs": [],
   "source": [
    "#Identifying records with '-' or ranged values\n",
    "is_range = NewCopy14cleanCarsCopy1_df['Torque'].astype(str).str.contains('-', na=False)\n",
    "\n",
    "#Removing Nm and averaging ranged values\n",
    "if is_range.any():\n",
    "    \n",
    "    ranges = NewCopy14cleanCarsCopy1_df.loc[is_range, 'Torque']\n",
    "    \n",
    "    cleaned_ranges = ranges.str.replace('[Nm,]', '', regex=True)\n",
    "    \n",
    "    split_values = cleaned_ranges.str.split('-', expand=True)\n",
    "    \n",
    "    low_price = pd.to_numeric(split_values[0])\n",
    "    high_price = pd.to_numeric(split_values[1])\n",
    "    \n",
    "    NewCopy14cleanCarsCopy1_df.loc[is_range, 'Torque'] = (low_price + high_price) / 2\n",
    "\n",
    "\n",
    "# Final cleanup for non-range values and converting the column to a number\n",
    "NewCopy14cleanCarsCopy1_df['Torque'] = pd.to_numeric(\n",
    "    NewCopy14cleanCarsCopy1_df['Torque'].astype(str).str.replace('[Nm,]', '', regex=True)\n",
    ")"
   ]
  },
  {
   "cell_type": "code",
   "execution_count": null,
   "id": "e6b49aa9",
   "metadata": {},
   "outputs": [],
   "source": [
    "#Version Output\n",
    "NewCopy14cleanCarsCopy1_df.to_csv(\"NewCopy14cleanCarsCopy1_df.csv\", index=False)"
   ]
  },
  {
   "cell_type": "code",
   "execution_count": null,
   "id": "22f514d3",
   "metadata": {},
   "outputs": [],
   "source": [
    "#Renaming column to Performance\n",
    "NewCopy14cleanCarsCopy1_df.rename(columns={'Performance(0 - 100 )KM/H': 'Performance'}, inplace=True)\n",
    "\n",
    "\n",
    "# Define a regex pattern to find the first number (integer or float)\n",
    "pattern = r'(\\d+\\.?\\d*)'\n",
    "\n",
    "# Extract the first number found in each string\n",
    "NewCopy14cleanCarsCopy1_df['Performance'] = NewCopy14cleanCarsCopy1_df['Performance'].astype(str).str.extract(pattern, expand=False)\n",
    "\n",
    "# Convert the extracted numbers to a numeric type\n",
    "NewCopy14cleanCarsCopy1_df['Performance'] = pd.to_numeric(NewCopy14cleanCarsCopy1_df['Performance'], errors='coerce')\n"
   ]
  },
  {
   "cell_type": "code",
   "execution_count": null,
   "id": "093af792",
   "metadata": {},
   "outputs": [],
   "source": [
    "#Removing kmh from top speed values\n",
    "NewCopy14cleanCarsCopy1_df['Total Speed'] = NewCopy14cleanCarsCopy1_df['Total Speed'].astype(str).str.replace(' km/h', '', regex=False)\n",
    "\n",
    "#Convert the cleaned column to a numeric type (integer or float)\n",
    "NewCopy14cleanCarsCopy1_df['Total Speed'] = pd.to_numeric(NewCopy14cleanCarsCopy1_df['Total Speed'])\n"
   ]
  },
  {
   "cell_type": "code",
   "execution_count": null,
   "id": "1a11f8bc",
   "metadata": {},
   "outputs": [
    {
     "name": "stderr",
     "output_type": "stream",
     "text": [
      "C:\\Users\\acer\\AppData\\Local\\Temp\\ipykernel_8160\\3555136103.py:19: FutureWarning: Setting an item of incompatible dtype is deprecated and will raise an error in a future version of pandas. Value '['963.0' '563.0' 'nan' ... '200.0' '700.0' '240.0']' has dtype incompatible with float64, please explicitly cast to a compatible dtype first.\n",
      "  NewCopy14cleanCarsCopy1_df.loc[~is_range, 'HorsePower'] = NewCopy14cleanCarsCopy1_df.loc[~is_range, 'HorsePower'].astype(str).str.replace('hp', '', case=False).str.strip()\n"
     ]
    }
   ],
   "source": [
    "#Removing hp and averaging ranges\n",
    "is_range_mask = NewCopy14cleanCarsCopy1_df['HorsePower'].astype(str).str.contains('-', na=False)\n",
    "\n",
    "if is_range_mask.any():\n",
    "    # Define a pattern to extract the two numbers around a hyphen\n",
    "    pattern = r'(\\d+\\.?\\d*)\\s*-\\s*(\\d+\\.?\\d*)'\n",
    "    \n",
    "    extracted_numbers = NewCopy14cleanCarsCopy1_df.loc[is_range_mask, 'HorsePower'].str.extract(pattern, expand=True)\n",
    "    \n",
    "    # Convert the extracted strings to numbers\n",
    "    num1 = pd.to_numeric(extracted_numbers[0], errors='coerce')\n",
    "    num2 = pd.to_numeric(extracted_numbers[1], errors='coerce')\n",
    "    \n",
    "    # Calculate the mean and assign it back to the original DataFrame\n",
    "    # This is the key step for in-place modification\n",
    "    NewCopy14cleanCarsCopy1_df.loc[is_range_mask, 'HorsePower'] = pd.DataFrame({'num1': num1, 'num2': num2}).mean(axis=1)\n",
    "\n",
    "\n",
    "if (~is_range_mask).any():\n",
    "    NewCopy14cleanCarsCopy1_df.loc[~is_range_mask, 'HorsePower'] = NewCopy14cleanCarsCopy1_df.loc[~is_range_mask, 'HorsePower'].astype(str).str.replace('hp', '', case=False).str.strip()\n",
    "\n",
    "\n",
    "NewCopy14cleanCarsCopy1_df['HorsePower'] = pd.to_numeric(NewCopy14cleanCarsCopy1_df['HorsePower'])"
   ]
  },
  {
   "cell_type": "code",
   "execution_count": null,
   "id": "3ef947f0",
   "metadata": {},
   "outputs": [],
   "source": [
    "#Version Output\n",
    "NewCopy14cleanCarsCopy1_df.to_csv(\"NewCopy14cleanCarsCopy1_df.csv\", index=False)"
   ]
  }
 ],
 "metadata": {
  "kernelspec": {
   "display_name": "Python 3",
   "language": "python",
   "name": "python3"
  },
  "language_info": {
   "codemirror_mode": {
    "name": "ipython",
    "version": 3
   },
   "file_extension": ".py",
   "mimetype": "text/x-python",
   "name": "python",
   "nbconvert_exporter": "python",
   "pygments_lexer": "ipython3",
   "version": "3.11.0"
  }
 },
 "nbformat": 4,
 "nbformat_minor": 5
}
