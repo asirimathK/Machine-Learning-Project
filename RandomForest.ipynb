{
 "cells": [
  {
   "cell_type": "code",
   "execution_count": 1,
   "id": "0fcfacb4",
   "metadata": {},
   "outputs": [],
   "source": [
    "import pandas as pd\n",
    "from sklearn.model_selection import train_test_split, RandomizedSearchCV\n",
    "from sklearn.ensemble import RandomForestRegressor\n",
    "from sklearn.preprocessing import LabelEncoder\n",
    "from sklearn.metrics import mean_absolute_error, r2_score\n",
    "from scipy.stats import randint"
   ]
  },
  {
   "cell_type": "code",
   "execution_count": 2,
   "id": "f10f5617",
   "metadata": {},
   "outputs": [],
   "source": [
    "# Load the dataset\n",
    "df = pd.read_csv('NewCopy15cleanCarsCopy1df_filtered.csv')"
   ]
  },
  {
   "cell_type": "code",
   "execution_count": 3,
   "id": "f8ef27d4",
   "metadata": {},
   "outputs": [
    {
     "name": "stdout",
     "output_type": "stream",
     "text": [
      "Columns renamed successfully.\n"
     ]
    }
   ],
   "source": [
    "# Define the new column names as requested\n",
    "rename_dict = {\n",
    "        'Company Names': 'Make',\n",
    "        'Cars Names': 'Model',\n",
    "        'Cars Prices': 'Price',\n",
    "        'Fuel Types': 'Fuel Type'\n",
    "    }\n",
    "df.rename(columns=rename_dict, inplace=True)\n",
    "print(\"Columns renamed successfully.\")"
   ]
  },
  {
   "cell_type": "code",
   "execution_count": 4,
   "id": "4112739f",
   "metadata": {},
   "outputs": [],
   "source": [
    "features = ['Make', 'Capacity', 'Fuel Type', 'Seats']\n",
    "target = 'Price'\n",
    "\n",
    "df_selected = df[features + [target]].copy()\n",
    "df_selected.dropna(inplace=True) # Drop rows with any missing values in selected columns"
   ]
  },
  {
   "cell_type": "code",
   "execution_count": 5,
   "id": "b30ab6d5",
   "metadata": {},
   "outputs": [
    {
     "name": "stdout",
     "output_type": "stream",
     "text": [
      "\n",
      "Applied One-Hot Encoding to 'Make' and 'Fuel Type'.\n"
     ]
    }
   ],
   "source": [
    "    # Use One-Hot Encoding for 'Make' and 'Fuel Type'\n",
    "df_processed = pd.get_dummies(df_selected, columns=['Make', 'Fuel Type'], drop_first=True)\n",
    "print(\"\\nApplied One-Hot Encoding to 'Make' and 'Fuel Type'.\")"
   ]
  },
  {
   "cell_type": "code",
   "execution_count": 6,
   "id": "3bd17fb2",
   "metadata": {},
   "outputs": [],
   "source": [
    "# Define our final feature set (X) and target (y)\n",
    "X = df_processed.drop(target, axis=1)\n",
    "y = df_processed[target]"
   ]
  },
  {
   "cell_type": "code",
   "execution_count": 7,
   "id": "ac1472b2",
   "metadata": {},
   "outputs": [
    {
     "name": "stdout",
     "output_type": "stream",
     "text": [
      "Training samples: 805, Testing samples: 202\n"
     ]
    }
   ],
   "source": [
    "    # Split data into training and testing sets\n",
    "X_train, X_test, y_train, y_test = train_test_split(X, y, test_size=0.2, random_state=42)\n",
    "print(f\"Training samples: {X_train.shape[0]}, Testing samples: {X_test.shape[0]}\")"
   ]
  },
  {
   "cell_type": "code",
   "execution_count": 8,
   "id": "a4e7ba79",
   "metadata": {},
   "outputs": [
    {
     "name": "stdout",
     "output_type": "stream",
     "text": [
      "\n",
      "Starting hyperparameter tuning with RandomizedSearchCV...\n"
     ]
    }
   ],
   "source": [
    " # --- Step 4: Hyperparameter Tuning with RandomizedSearchCV ---\n",
    "print(\"\\nStarting hyperparameter tuning with RandomizedSearchCV...\")\n",
    "\n",
    "param_dist = {\n",
    "        'n_estimators': randint(100, 500),\n",
    "        'max_depth': [None, 10, 20, 30, 40, 50],\n",
    "        'min_samples_split': randint(2, 11),\n",
    "        'min_samples_leaf': randint(1, 5),\n",
    "        'max_features': ['sqrt', 'log2']\n",
    "    }"
   ]
  },
  {
   "cell_type": "code",
   "execution_count": 9,
   "id": "6ec00c0b",
   "metadata": {},
   "outputs": [
    {
     "name": "stderr",
     "output_type": "stream",
     "text": [
      "c:\\Users\\asiri\\AppData\\Local\\Programs\\Python\\Python311\\Lib\\site-packages\\numpy\\ma\\core.py:2881: RuntimeWarning: invalid value encountered in cast\n",
      "  _data = np.array(data, dtype=dtype, copy=copy,\n"
     ]
    },
    {
     "name": "stdout",
     "output_type": "stream",
     "text": [
      "\n",
      "Best hyperparameters found: {'max_depth': 20, 'max_features': 'log2', 'min_samples_leaf': 1, 'min_samples_split': 2, 'n_estimators': 271}\n"
     ]
    }
   ],
   "source": [
    "# Create a RandomForestRegressor instance\n",
    "rf = RandomForestRegressor(random_state=42)\n",
    "\n",
    "    # Create the RandomizedSearchCV object\n",
    "random_search = RandomizedSearchCV(\n",
    "        estimator=rf,\n",
    "        param_distributions=param_dist,\n",
    "        n_iter=100,\n",
    "        cv=5,\n",
    "        n_jobs=-1, # Use all available cores\n",
    "        random_state=42,\n",
    "        scoring='neg_mean_absolute_error'\n",
    "    )\n",
    "\n",
    "    # Fit the random search to the data\n",
    "random_search.fit(X_train, y_train)\n",
    "\n",
    "    # Get the best estimator\n",
    "best_rf_model = random_search.best_estimator_\n",
    "print(f\"\\nBest hyperparameters found: {random_search.best_params_}\")"
   ]
  },
  {
   "cell_type": "code",
   "execution_count": 10,
   "id": "9e1065bf",
   "metadata": {},
   "outputs": [
    {
     "name": "stdout",
     "output_type": "stream",
     "text": [
      "\n",
      "--- Tuned RandomForestRegressor Model Evaluation ---\n",
      "R-squared (R2) Score on Test Set: 0.7027\n",
      "Mean Absolute Error (MAE) on Test Set: $84,403.87\n"
     ]
    }
   ],
   "source": [
    "# --- Step 5: Evaluate the Best Model ---\n",
    "y_pred = best_rf_model.predict(X_test)\n",
    "\n",
    "    # Calculate performance metrics\n",
    "r2 = r2_score(y_test, y_pred)\n",
    "mae = mean_absolute_error(y_test, y_pred)\n",
    "\n",
    "print(\"\\n--- Tuned RandomForestRegressor Model Evaluation ---\")\n",
    "print(f\"R-squared (R2) Score on Test Set: {r2:.4f}\")\n",
    "print(f\"Mean Absolute Error (MAE) on Test Set: ${mae:,.2f}\")"
   ]
  },
  {
   "cell_type": "code",
   "execution_count": null,
   "id": "7401f418",
   "metadata": {},
   "outputs": [],
   "source": []
  }
 ],
 "metadata": {
  "kernelspec": {
   "display_name": "Python 3",
   "language": "python",
   "name": "python3"
  },
  "language_info": {
   "codemirror_mode": {
    "name": "ipython",
    "version": 3
   },
   "file_extension": ".py",
   "mimetype": "text/x-python",
   "name": "python",
   "nbconvert_exporter": "python",
   "pygments_lexer": "ipython3",
   "version": "3.11.1"
  }
 },
 "nbformat": 4,
 "nbformat_minor": 5
}
